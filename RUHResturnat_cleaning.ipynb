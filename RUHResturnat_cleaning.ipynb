{
 "cells": [
  {
   "cell_type": "markdown",
   "id": "c0b70fb7",
   "metadata": {},
   "source": [
    "# Restaurants in Riyadh Dataset"
   ]
  },
  {
   "cell_type": "markdown",
   "id": "7d7ae506",
   "metadata": {},
   "source": [
    "### Import Libraries"
   ]
  },
  {
   "cell_type": "code",
   "execution_count": 1,
   "id": "7949f779",
   "metadata": {},
   "outputs": [],
   "source": [
    "# Import the Library\n",
    "\n",
    "import pandas as pd\n",
    "import numpy as np\n",
    "import string "
   ]
  },
  {
   "cell_type": "markdown",
   "id": "66ee2c08",
   "metadata": {},
   "source": [
    "__________________"
   ]
  },
  {
   "cell_type": "markdown",
   "id": "fdc17479",
   "metadata": {},
   "source": [
    "### Read the Excel file\n"
   ]
  },
  {
   "cell_type": "code",
   "execution_count": 2,
   "id": "adad1945",
   "metadata": {},
   "outputs": [],
   "source": [
    "#loading the file\n",
    "RUH_Resturant=pd.read_excel('RUHResturant.xlsx')"
   ]
  },
  {
   "cell_type": "markdown",
   "id": "1836bbe5",
   "metadata": {},
   "source": [
    "__________________"
   ]
  },
  {
   "cell_type": "markdown",
   "id": "a604abb0",
   "metadata": {},
   "source": [
    "### Understanding the dataset"
   ]
  },
  {
   "cell_type": "code",
   "execution_count": 3,
   "id": "95f9af87",
   "metadata": {},
   "outputs": [
    {
     "data": {
      "text/html": [
       "<div>\n",
       "<style scoped>\n",
       "    .dataframe tbody tr th:only-of-type {\n",
       "        vertical-align: middle;\n",
       "    }\n",
       "\n",
       "    .dataframe tbody tr th {\n",
       "        vertical-align: top;\n",
       "    }\n",
       "\n",
       "    .dataframe thead th {\n",
       "        text-align: right;\n",
       "    }\n",
       "</style>\n",
       "<table border=\"1\" class=\"dataframe\">\n",
       "  <thead>\n",
       "    <tr style=\"text-align: right;\">\n",
       "      <th></th>\n",
       "      <th>Unnamed: 0</th>\n",
       "      <th>Unnamed: 0.1</th>\n",
       "      <th>Region</th>\n",
       "      <th>URLS</th>\n",
       "      <th>Titles</th>\n",
       "      <th>Reviews</th>\n",
       "      <th>Address</th>\n",
       "      <th>Stars</th>\n",
       "      <th>PriceRange</th>\n",
       "      <th>Cuisine</th>\n",
       "      <th>...</th>\n",
       "      <th>ResturantRank</th>\n",
       "      <th>TypeRank</th>\n",
       "      <th>FoodType</th>\n",
       "      <th>FoodRating</th>\n",
       "      <th>ServiceRating</th>\n",
       "      <th>ValueRating</th>\n",
       "      <th>PriceRangever2</th>\n",
       "      <th>CUISINE</th>\n",
       "      <th>MEAL</th>\n",
       "      <th>Check</th>\n",
       "    </tr>\n",
       "  </thead>\n",
       "  <tbody>\n",
       "    <tr>\n",
       "      <th>0</th>\n",
       "      <td>0</td>\n",
       "      <td>0</td>\n",
       "      <td>Riyadh</td>\n",
       "      <td>https://www.tripadvisor.com//Restaurant_Review...</td>\n",
       "      <td>Oxar Prime Steakhall</td>\n",
       "      <td>0</td>\n",
       "      <td>The Esplanade, Riyadh Saudi Arabia</td>\n",
       "      <td>NaN</td>\n",
       "      <td>15126.0</td>\n",
       "      <td>Steakhouse, American, Barbecue, European, Gril...</td>\n",
       "      <td>...</td>\n",
       "      <td>NaN</td>\n",
       "      <td>NaN</td>\n",
       "      <td>Steakhouse</td>\n",
       "      <td>NaN</td>\n",
       "      <td>NaN</td>\n",
       "      <td>NaN</td>\n",
       "      <td>['NT$456 - NT$3,830']</td>\n",
       "      <td>['Steakhouse, American, Barbecue, European, Gr...</td>\n",
       "      <td>['Lunch, Dinner, Late Night, Drinks']</td>\n",
       "      <td>[['$$$$AmericanSteakhouseBarbecue', '$$$$Ameri...</td>\n",
       "    </tr>\n",
       "    <tr>\n",
       "      <th>1</th>\n",
       "      <td>1</td>\n",
       "      <td>1</td>\n",
       "      <td>Riyadh</td>\n",
       "      <td>https://www.tripadvisor.com//Restaurant_Review...</td>\n",
       "      <td>Al Orjouan</td>\n",
       "      <td>1819</td>\n",
       "      <td>The Ritz-Carlton, Riyadh Mekkah Road, Al Hada ...</td>\n",
       "      <td>5.0</td>\n",
       "      <td>4686.0</td>\n",
       "      <td>Mediterranean, Middle Eastern, InternationalSp...</td>\n",
       "      <td>...</td>\n",
       "      <td>NaN</td>\n",
       "      <td>NaN</td>\n",
       "      <td>Mediterranean</td>\n",
       "      <td>[[['ui_bubble_rating', 'bubble_45']]]</td>\n",
       "      <td>[[['ui_bubble_rating', 'bubble_45']]]</td>\n",
       "      <td>[[['ui_bubble_rating', 'bubble_40']]]</td>\n",
       "      <td>['NT$1,398 - NT$2,614']</td>\n",
       "      <td>['Mediterranean, Middle Eastern, International']</td>\n",
       "      <td>['Vegetarian Friendly, Vegan Options, Halal, G...</td>\n",
       "      <td>[['$$$$InternationalMediterraneanMiddle Easter...</td>\n",
       "    </tr>\n",
       "    <tr>\n",
       "      <th>2</th>\n",
       "      <td>2</td>\n",
       "      <td>2</td>\n",
       "      <td>Riyadh</td>\n",
       "      <td>https://www.tripadvisor.com//Restaurant_Review...</td>\n",
       "      <td>Zafran Indian Bistro - Rubeen Plaza</td>\n",
       "      <td>894</td>\n",
       "      <td>Northern Ring Road Rubeen Plaza, Exit 2, Riyad...</td>\n",
       "      <td>5.0</td>\n",
       "      <td>550.0</td>\n",
       "      <td>Indian, AsianSpecial</td>\n",
       "      <td>...</td>\n",
       "      <td>2 of 926</td>\n",
       "      <td>1 of 92 Asian</td>\n",
       "      <td>Indian</td>\n",
       "      <td>[[['ui_bubble_rating', 'bubble_45']]]</td>\n",
       "      <td>[[['ui_bubble_rating', 'bubble_45']]]</td>\n",
       "      <td>[[['ui_bubble_rating', 'bubble_40']]]</td>\n",
       "      <td>NaN</td>\n",
       "      <td>NaN</td>\n",
       "      <td>NaN</td>\n",
       "      <td>[['$$ - $$$IndianAsianVegetarian Friendly', '$...</td>\n",
       "    </tr>\n",
       "    <tr>\n",
       "      <th>3</th>\n",
       "      <td>3</td>\n",
       "      <td>3</td>\n",
       "      <td>Riyadh</td>\n",
       "      <td>https://www.tripadvisor.com//Restaurant_Review...</td>\n",
       "      <td>Zafran Indian Bistro - Turki Square</td>\n",
       "      <td>880</td>\n",
       "      <td>Turki Square Mall, Turki Road Makkah Al Mukarr...</td>\n",
       "      <td>5.0</td>\n",
       "      <td>380.0</td>\n",
       "      <td>Indian, Healthy, Soups, GrillSpecial</td>\n",
       "      <td>...</td>\n",
       "      <td>NaN</td>\n",
       "      <td>NaN</td>\n",
       "      <td>Indian</td>\n",
       "      <td>[[['ui_bubble_rating', 'bubble_45']]]</td>\n",
       "      <td>[[['ui_bubble_rating', 'bubble_45']]]</td>\n",
       "      <td>[[['ui_bubble_rating', 'bubble_40']]]</td>\n",
       "      <td>['NT$81 - NT$2,432']</td>\n",
       "      <td>['Indian, Healthy, Soups, Grill']</td>\n",
       "      <td>['Vegetarian Friendly, Vegan Options, Halal, K...</td>\n",
       "      <td>[['$$$$IndianGrillHealthy', '$$$$IndianGrillHe...</td>\n",
       "    </tr>\n",
       "    <tr>\n",
       "      <th>4</th>\n",
       "      <td>4</td>\n",
       "      <td>4</td>\n",
       "      <td>Riyadh</td>\n",
       "      <td>https://www.tripadvisor.com//Restaurant_Review...</td>\n",
       "      <td>Zafran Indian Bistro - Levels Mall</td>\n",
       "      <td>384</td>\n",
       "      <td>Levels Mall, Level 1, Exit 5 Off Northern Ring...</td>\n",
       "      <td>5.0</td>\n",
       "      <td>NaN</td>\n",
       "      <td>Uknown</td>\n",
       "      <td>...</td>\n",
       "      <td>NaN</td>\n",
       "      <td>NaN</td>\n",
       "      <td>Uknown</td>\n",
       "      <td>[[['ui_bubble_rating', 'bubble_50']]]</td>\n",
       "      <td>[[['ui_bubble_rating', 'bubble_45']]]</td>\n",
       "      <td>[[['ui_bubble_rating', 'bubble_45']]]</td>\n",
       "      <td>['NT$405 - NT$1,621']</td>\n",
       "      <td>['Indian, Asian']</td>\n",
       "      <td>['Vegetarian Friendly, Vegan Options, Halal, G...</td>\n",
       "      <td>[['$$$$IndianAsianVegetarian Friendly', '$$$$I...</td>\n",
       "    </tr>\n",
       "  </tbody>\n",
       "</table>\n",
       "<p>5 rows × 26 columns</p>\n",
       "</div>"
      ],
      "text/plain": [
       "   Unnamed: 0  Unnamed: 0.1  Region  \\\n",
       "0           0             0  Riyadh   \n",
       "1           1             1  Riyadh   \n",
       "2           2             2  Riyadh   \n",
       "3           3             3  Riyadh   \n",
       "4           4             4  Riyadh   \n",
       "\n",
       "                                                URLS  \\\n",
       "0  https://www.tripadvisor.com//Restaurant_Review...   \n",
       "1  https://www.tripadvisor.com//Restaurant_Review...   \n",
       "2  https://www.tripadvisor.com//Restaurant_Review...   \n",
       "3  https://www.tripadvisor.com//Restaurant_Review...   \n",
       "4  https://www.tripadvisor.com//Restaurant_Review...   \n",
       "\n",
       "                                Titles Reviews  \\\n",
       "0                 Oxar Prime Steakhall       0   \n",
       "1                           Al Orjouan    1819   \n",
       "2  Zafran Indian Bistro - Rubeen Plaza     894   \n",
       "3  Zafran Indian Bistro - Turki Square     880   \n",
       "4   Zafran Indian Bistro - Levels Mall     384   \n",
       "\n",
       "                                             Address  Stars  PriceRange  \\\n",
       "0                 The Esplanade, Riyadh Saudi Arabia    NaN     15126.0   \n",
       "1  The Ritz-Carlton, Riyadh Mekkah Road, Al Hada ...    5.0      4686.0   \n",
       "2  Northern Ring Road Rubeen Plaza, Exit 2, Riyad...    5.0       550.0   \n",
       "3  Turki Square Mall, Turki Road Makkah Al Mukarr...    5.0       380.0   \n",
       "4  Levels Mall, Level 1, Exit 5 Off Northern Ring...    5.0         NaN   \n",
       "\n",
       "                                             Cuisine  ... ResturantRank  \\\n",
       "0  Steakhouse, American, Barbecue, European, Gril...  ...           NaN   \n",
       "1  Mediterranean, Middle Eastern, InternationalSp...  ...           NaN   \n",
       "2                              Indian, AsianSpecial   ...      2 of 926   \n",
       "3              Indian, Healthy, Soups, GrillSpecial   ...           NaN   \n",
       "4                                             Uknown  ...           NaN   \n",
       "\n",
       "        TypeRank       FoodType                             FoodRating  \\\n",
       "0            NaN     Steakhouse                                    NaN   \n",
       "1            NaN  Mediterranean  [[['ui_bubble_rating', 'bubble_45']]]   \n",
       "2  1 of 92 Asian         Indian  [[['ui_bubble_rating', 'bubble_45']]]   \n",
       "3            NaN         Indian  [[['ui_bubble_rating', 'bubble_45']]]   \n",
       "4            NaN         Uknown  [[['ui_bubble_rating', 'bubble_50']]]   \n",
       "\n",
       "                           ServiceRating  \\\n",
       "0                                    NaN   \n",
       "1  [[['ui_bubble_rating', 'bubble_45']]]   \n",
       "2  [[['ui_bubble_rating', 'bubble_45']]]   \n",
       "3  [[['ui_bubble_rating', 'bubble_45']]]   \n",
       "4  [[['ui_bubble_rating', 'bubble_45']]]   \n",
       "\n",
       "                             ValueRating           PriceRangever2  \\\n",
       "0                                    NaN    ['NT$456 - NT$3,830']   \n",
       "1  [[['ui_bubble_rating', 'bubble_40']]]  ['NT$1,398 - NT$2,614']   \n",
       "2  [[['ui_bubble_rating', 'bubble_40']]]                      NaN   \n",
       "3  [[['ui_bubble_rating', 'bubble_40']]]     ['NT$81 - NT$2,432']   \n",
       "4  [[['ui_bubble_rating', 'bubble_45']]]    ['NT$405 - NT$1,621']   \n",
       "\n",
       "                                             CUISINE  \\\n",
       "0  ['Steakhouse, American, Barbecue, European, Gr...   \n",
       "1   ['Mediterranean, Middle Eastern, International']   \n",
       "2                                                NaN   \n",
       "3                  ['Indian, Healthy, Soups, Grill']   \n",
       "4                                  ['Indian, Asian']   \n",
       "\n",
       "                                                MEAL  \\\n",
       "0              ['Lunch, Dinner, Late Night, Drinks']   \n",
       "1  ['Vegetarian Friendly, Vegan Options, Halal, G...   \n",
       "2                                                NaN   \n",
       "3  ['Vegetarian Friendly, Vegan Options, Halal, K...   \n",
       "4  ['Vegetarian Friendly, Vegan Options, Halal, G...   \n",
       "\n",
       "                                               Check  \n",
       "0  [['$$$$AmericanSteakhouseBarbecue', '$$$$Ameri...  \n",
       "1  [['$$$$InternationalMediterraneanMiddle Easter...  \n",
       "2  [['$$ - $$$IndianAsianVegetarian Friendly', '$...  \n",
       "3  [['$$$$IndianGrillHealthy', '$$$$IndianGrillHe...  \n",
       "4  [['$$$$IndianAsianVegetarian Friendly', '$$$$I...  \n",
       "\n",
       "[5 rows x 26 columns]"
      ]
     },
     "execution_count": 3,
     "metadata": {},
     "output_type": "execute_result"
    }
   ],
   "source": [
    "RUH_Resturant.head()"
   ]
  },
  {
   "cell_type": "code",
   "execution_count": 4,
   "id": "150de779",
   "metadata": {},
   "outputs": [
    {
     "data": {
      "text/plain": [
       "(1481, 26)"
      ]
     },
     "execution_count": 4,
     "metadata": {},
     "output_type": "execute_result"
    }
   ],
   "source": [
    "# return dimensionality of dataframe\n",
    "RUH_Resturant.shape"
   ]
  },
  {
   "cell_type": "code",
   "execution_count": 5,
   "id": "daa8624d",
   "metadata": {
    "scrolled": true
   },
   "outputs": [
    {
     "data": {
      "text/plain": [
       "Index(['Unnamed: 0', 'Unnamed: 0.1', 'Region', 'URLS', 'Titles', 'Reviews',\n",
       "       'Address', 'Stars', 'PriceRange', 'Cuisine', 'SpecialDiets',\n",
       "       'Excellent', 'VeryGood', 'Poor', 'Average', 'Terrible', 'ResturantRank',\n",
       "       'TypeRank', 'FoodType', 'FoodRating', 'ServiceRating', 'ValueRating',\n",
       "       'PriceRangever2', 'CUISINE', 'MEAL', 'Check'],\n",
       "      dtype='object')"
      ]
     },
     "execution_count": 5,
     "metadata": {},
     "output_type": "execute_result"
    }
   ],
   "source": [
    "# getting only the names of columns\n",
    "RUH_Resturant.columns"
   ]
  },
  {
   "cell_type": "code",
   "execution_count": 6,
   "id": "4eb4be31",
   "metadata": {},
   "outputs": [],
   "source": [
    "#drop some columns from the dataset  \n",
    "cols=['Unnamed: 0','Unnamed: 0.1','PriceRange','PriceRangever2','SpecialDiets','Check','ResturantRank',\n",
    "      'TypeRank', 'FoodType','MEAL', 'Check','CUISINE']\n",
    "RUH_Resturant=RUH_Resturant.drop(cols,axis=1)"
   ]
  },
  {
   "cell_type": "code",
   "execution_count": 7,
   "id": "348c4121",
   "metadata": {},
   "outputs": [
    {
     "data": {
      "text/html": [
       "<div>\n",
       "<style scoped>\n",
       "    .dataframe tbody tr th:only-of-type {\n",
       "        vertical-align: middle;\n",
       "    }\n",
       "\n",
       "    .dataframe tbody tr th {\n",
       "        vertical-align: top;\n",
       "    }\n",
       "\n",
       "    .dataframe thead th {\n",
       "        text-align: right;\n",
       "    }\n",
       "</style>\n",
       "<table border=\"1\" class=\"dataframe\">\n",
       "  <thead>\n",
       "    <tr style=\"text-align: right;\">\n",
       "      <th></th>\n",
       "      <th>Region</th>\n",
       "      <th>URLS</th>\n",
       "      <th>Titles</th>\n",
       "      <th>Reviews</th>\n",
       "      <th>Address</th>\n",
       "      <th>Stars</th>\n",
       "      <th>Cuisine</th>\n",
       "      <th>Excellent</th>\n",
       "      <th>VeryGood</th>\n",
       "      <th>Poor</th>\n",
       "      <th>Average</th>\n",
       "      <th>Terrible</th>\n",
       "      <th>FoodRating</th>\n",
       "      <th>ServiceRating</th>\n",
       "      <th>ValueRating</th>\n",
       "    </tr>\n",
       "  </thead>\n",
       "  <tbody>\n",
       "    <tr>\n",
       "      <th>0</th>\n",
       "      <td>Riyadh</td>\n",
       "      <td>https://www.tripadvisor.com//Restaurant_Review...</td>\n",
       "      <td>Oxar Prime Steakhall</td>\n",
       "      <td>0</td>\n",
       "      <td>The Esplanade, Riyadh Saudi Arabia</td>\n",
       "      <td>NaN</td>\n",
       "      <td>Steakhouse, American, Barbecue, European, Gril...</td>\n",
       "      <td>NaN</td>\n",
       "      <td>NaN</td>\n",
       "      <td>NaN</td>\n",
       "      <td>NaN</td>\n",
       "      <td>NaN</td>\n",
       "      <td>NaN</td>\n",
       "      <td>NaN</td>\n",
       "      <td>NaN</td>\n",
       "    </tr>\n",
       "  </tbody>\n",
       "</table>\n",
       "</div>"
      ],
      "text/plain": [
       "   Region                                               URLS  \\\n",
       "0  Riyadh  https://www.tripadvisor.com//Restaurant_Review...   \n",
       "\n",
       "                 Titles Reviews                             Address  Stars  \\\n",
       "0  Oxar Prime Steakhall       0  The Esplanade, Riyadh Saudi Arabia    NaN   \n",
       "\n",
       "                                             Cuisine  Excellent  VeryGood  \\\n",
       "0  Steakhouse, American, Barbecue, European, Gril...        NaN       NaN   \n",
       "\n",
       "   Poor  Average  Terrible FoodRating ServiceRating ValueRating  \n",
       "0   NaN      NaN       NaN        NaN           NaN         NaN  "
      ]
     },
     "execution_count": 7,
     "metadata": {},
     "output_type": "execute_result"
    }
   ],
   "source": [
    "RUH_Resturant.head(1)"
   ]
  },
  {
   "cell_type": "code",
   "execution_count": 8,
   "id": "d09571b2",
   "metadata": {},
   "outputs": [],
   "source": [
    "# Renaming some columns\n",
    "RUH_Resturant.rename(columns = {'Titles':'ResturantName'}, inplace = True)"
   ]
  },
  {
   "cell_type": "code",
   "execution_count": 9,
   "id": "46c36643",
   "metadata": {},
   "outputs": [
    {
     "name": "stdout",
     "output_type": "stream",
     "text": [
      "<class 'pandas.core.frame.DataFrame'>\n",
      "RangeIndex: 1481 entries, 0 to 1480\n",
      "Data columns (total 15 columns):\n",
      " #   Column         Non-Null Count  Dtype  \n",
      "---  ------         --------------  -----  \n",
      " 0   Region         1481 non-null   object \n",
      " 1   URLS           1481 non-null   object \n",
      " 2   ResturantName  1481 non-null   object \n",
      " 3   Reviews        1481 non-null   object \n",
      " 4   Address        1481 non-null   object \n",
      " 5   Stars          922 non-null    float64\n",
      " 6   Cuisine        1481 non-null   object \n",
      " 7   Excellent      922 non-null    float64\n",
      " 8   VeryGood       922 non-null    float64\n",
      " 9   Poor           922 non-null    float64\n",
      " 10  Average        922 non-null    float64\n",
      " 11  Terrible       922 non-null    float64\n",
      " 12  FoodRating     290 non-null    object \n",
      " 13  ServiceRating  288 non-null    object \n",
      " 14  ValueRating    282 non-null    object \n",
      "dtypes: float64(6), object(9)\n",
      "memory usage: 173.7+ KB\n"
     ]
    }
   ],
   "source": [
    "# getting the information of dataset like names of columns and their type\n",
    "RUH_Resturant.info()"
   ]
  },
  {
   "cell_type": "code",
   "execution_count": 10,
   "id": "28cbcfdc",
   "metadata": {},
   "outputs": [
    {
     "data": {
      "text/html": [
       "<div>\n",
       "<style scoped>\n",
       "    .dataframe tbody tr th:only-of-type {\n",
       "        vertical-align: middle;\n",
       "    }\n",
       "\n",
       "    .dataframe tbody tr th {\n",
       "        vertical-align: top;\n",
       "    }\n",
       "\n",
       "    .dataframe thead th {\n",
       "        text-align: right;\n",
       "    }\n",
       "</style>\n",
       "<table border=\"1\" class=\"dataframe\">\n",
       "  <thead>\n",
       "    <tr style=\"text-align: right;\">\n",
       "      <th></th>\n",
       "      <th>count</th>\n",
       "      <th>mean</th>\n",
       "      <th>std</th>\n",
       "      <th>min</th>\n",
       "      <th>25%</th>\n",
       "      <th>50%</th>\n",
       "      <th>75%</th>\n",
       "      <th>max</th>\n",
       "    </tr>\n",
       "  </thead>\n",
       "  <tbody>\n",
       "    <tr>\n",
       "      <th>Stars</th>\n",
       "      <td>922.0</td>\n",
       "      <td>4.022777</td>\n",
       "      <td>0.658628</td>\n",
       "      <td>1.0</td>\n",
       "      <td>3.5</td>\n",
       "      <td>4.0</td>\n",
       "      <td>4.5</td>\n",
       "      <td>5.0</td>\n",
       "    </tr>\n",
       "    <tr>\n",
       "      <th>Excellent</th>\n",
       "      <td>922.0</td>\n",
       "      <td>12.734273</td>\n",
       "      <td>67.714944</td>\n",
       "      <td>0.0</td>\n",
       "      <td>1.0</td>\n",
       "      <td>2.0</td>\n",
       "      <td>6.0</td>\n",
       "      <td>1499.0</td>\n",
       "    </tr>\n",
       "    <tr>\n",
       "      <th>VeryGood</th>\n",
       "      <td>922.0</td>\n",
       "      <td>6.404555</td>\n",
       "      <td>19.936275</td>\n",
       "      <td>0.0</td>\n",
       "      <td>0.0</td>\n",
       "      <td>1.0</td>\n",
       "      <td>4.0</td>\n",
       "      <td>311.0</td>\n",
       "    </tr>\n",
       "    <tr>\n",
       "      <th>Poor</th>\n",
       "      <td>922.0</td>\n",
       "      <td>0.979393</td>\n",
       "      <td>2.666112</td>\n",
       "      <td>0.0</td>\n",
       "      <td>0.0</td>\n",
       "      <td>0.0</td>\n",
       "      <td>1.0</td>\n",
       "      <td>32.0</td>\n",
       "    </tr>\n",
       "    <tr>\n",
       "      <th>Average</th>\n",
       "      <td>922.0</td>\n",
       "      <td>2.689805</td>\n",
       "      <td>7.171188</td>\n",
       "      <td>0.0</td>\n",
       "      <td>0.0</td>\n",
       "      <td>1.0</td>\n",
       "      <td>2.0</td>\n",
       "      <td>94.0</td>\n",
       "    </tr>\n",
       "    <tr>\n",
       "      <th>Terrible</th>\n",
       "      <td>922.0</td>\n",
       "      <td>1.021692</td>\n",
       "      <td>2.478916</td>\n",
       "      <td>0.0</td>\n",
       "      <td>0.0</td>\n",
       "      <td>0.0</td>\n",
       "      <td>1.0</td>\n",
       "      <td>24.0</td>\n",
       "    </tr>\n",
       "  </tbody>\n",
       "</table>\n",
       "</div>"
      ],
      "text/plain": [
       "           count       mean        std  min  25%  50%  75%     max\n",
       "Stars      922.0   4.022777   0.658628  1.0  3.5  4.0  4.5     5.0\n",
       "Excellent  922.0  12.734273  67.714944  0.0  1.0  2.0  6.0  1499.0\n",
       "VeryGood   922.0   6.404555  19.936275  0.0  0.0  1.0  4.0   311.0\n",
       "Poor       922.0   0.979393   2.666112  0.0  0.0  0.0  1.0    32.0\n",
       "Average    922.0   2.689805   7.171188  0.0  0.0  1.0  2.0    94.0\n",
       "Terrible   922.0   1.021692   2.478916  0.0  0.0  0.0  1.0    24.0"
      ]
     },
     "execution_count": 10,
     "metadata": {},
     "output_type": "execute_result"
    }
   ],
   "source": [
    "#decribe the numerical coulmns\n",
    "RUH_Resturant.describe().T"
   ]
  },
  {
   "cell_type": "code",
   "execution_count": 11,
   "id": "cf3f9752",
   "metadata": {
    "scrolled": true
   },
   "outputs": [
    {
     "data": {
      "text/html": [
       "<div>\n",
       "<style scoped>\n",
       "    .dataframe tbody tr th:only-of-type {\n",
       "        vertical-align: middle;\n",
       "    }\n",
       "\n",
       "    .dataframe tbody tr th {\n",
       "        vertical-align: top;\n",
       "    }\n",
       "\n",
       "    .dataframe thead th {\n",
       "        text-align: right;\n",
       "    }\n",
       "</style>\n",
       "<table border=\"1\" class=\"dataframe\">\n",
       "  <thead>\n",
       "    <tr style=\"text-align: right;\">\n",
       "      <th></th>\n",
       "      <th>count</th>\n",
       "      <th>unique</th>\n",
       "      <th>top</th>\n",
       "      <th>freq</th>\n",
       "    </tr>\n",
       "  </thead>\n",
       "  <tbody>\n",
       "    <tr>\n",
       "      <th>Region</th>\n",
       "      <td>1481</td>\n",
       "      <td>1</td>\n",
       "      <td>Riyadh</td>\n",
       "      <td>1481</td>\n",
       "    </tr>\n",
       "    <tr>\n",
       "      <th>URLS</th>\n",
       "      <td>1481</td>\n",
       "      <td>1388</td>\n",
       "      <td>https://www.tripadvisor.com//Restaurant_Review...</td>\n",
       "      <td>48</td>\n",
       "    </tr>\n",
       "    <tr>\n",
       "      <th>ResturantName</th>\n",
       "      <td>1481</td>\n",
       "      <td>1041</td>\n",
       "      <td>Starbucks</td>\n",
       "      <td>107</td>\n",
       "    </tr>\n",
       "    <tr>\n",
       "      <th>Reviews</th>\n",
       "      <td>1481</td>\n",
       "      <td>134</td>\n",
       "      <td>0</td>\n",
       "      <td>559</td>\n",
       "    </tr>\n",
       "    <tr>\n",
       "      <th>Address</th>\n",
       "      <td>1481</td>\n",
       "      <td>1274</td>\n",
       "      <td>The Esplanade, Riyadh Saudi Arabia</td>\n",
       "      <td>48</td>\n",
       "    </tr>\n",
       "    <tr>\n",
       "      <th>Cuisine</th>\n",
       "      <td>1481</td>\n",
       "      <td>590</td>\n",
       "      <td>Uknown</td>\n",
       "      <td>363</td>\n",
       "    </tr>\n",
       "    <tr>\n",
       "      <th>FoodRating</th>\n",
       "      <td>290</td>\n",
       "      <td>8</td>\n",
       "      <td>[[['ui_bubble_rating', 'bubble_40']]]</td>\n",
       "      <td>119</td>\n",
       "    </tr>\n",
       "    <tr>\n",
       "      <th>ServiceRating</th>\n",
       "      <td>288</td>\n",
       "      <td>7</td>\n",
       "      <td>[[['ui_bubble_rating', 'bubble_40']]]</td>\n",
       "      <td>106</td>\n",
       "    </tr>\n",
       "    <tr>\n",
       "      <th>ValueRating</th>\n",
       "      <td>282</td>\n",
       "      <td>8</td>\n",
       "      <td>[[['ui_bubble_rating', 'bubble_40']]]</td>\n",
       "      <td>104</td>\n",
       "    </tr>\n",
       "  </tbody>\n",
       "</table>\n",
       "</div>"
      ],
      "text/plain": [
       "              count unique                                                top  \\\n",
       "Region         1481      1                                             Riyadh   \n",
       "URLS           1481   1388  https://www.tripadvisor.com//Restaurant_Review...   \n",
       "ResturantName  1481   1041                                          Starbucks   \n",
       "Reviews        1481    134                                                  0   \n",
       "Address        1481   1274                 The Esplanade, Riyadh Saudi Arabia   \n",
       "Cuisine        1481    590                                             Uknown   \n",
       "FoodRating      290      8              [[['ui_bubble_rating', 'bubble_40']]]   \n",
       "ServiceRating   288      7              [[['ui_bubble_rating', 'bubble_40']]]   \n",
       "ValueRating     282      8              [[['ui_bubble_rating', 'bubble_40']]]   \n",
       "\n",
       "               freq  \n",
       "Region         1481  \n",
       "URLS             48  \n",
       "ResturantName   107  \n",
       "Reviews         559  \n",
       "Address          48  \n",
       "Cuisine         363  \n",
       "FoodRating      119  \n",
       "ServiceRating   106  \n",
       "ValueRating     104  "
      ]
     },
     "execution_count": 11,
     "metadata": {},
     "output_type": "execute_result"
    }
   ],
   "source": [
    "#describe the categorical columns\n",
    "RUH_Resturant.describe(exclude='number').T"
   ]
  },
  {
   "cell_type": "markdown",
   "id": "5b700aae",
   "metadata": {},
   "source": [
    "_____________________"
   ]
  },
  {
   "cell_type": "markdown",
   "id": "8a47d777",
   "metadata": {},
   "source": [
    "__________________________________________"
   ]
  },
  {
   "cell_type": "markdown",
   "id": "c5380b77",
   "metadata": {},
   "source": [
    "### Reviews Column"
   ]
  },
  {
   "cell_type": "code",
   "execution_count": 12,
   "id": "999377ac",
   "metadata": {
    "scrolled": true
   },
   "outputs": [
    {
     "data": {
      "text/plain": [
       "array([0, 1819, 894, 880, 384, 252, 110, 284, 183, 88, 1238, 89, 640, 772,\n",
       "       577, 393, 320, 251, 1008, 137, 526, 759, 36, 54, 47, 207, 233, 395,\n",
       "       162, 98, 103, 166, 106, 95, 37, 154, 56, 134, 140, 155, 93, 101,\n",
       "       27, 170, 143, 173, 66, 119, 174, 113, 70, 41, 67, 177, 19, 73, 102,\n",
       "       29, 79, 46, 59, 49, 38, 74, 62, 31, 87, 55, 75, 51, 91, 44, 78, 22,\n",
       "       35, 50, 28, 53, 32, 157, 82, 45, 21, 63, 25, 12, 16, 77, 72, 232,\n",
       "       18, 10, 39, 30, 68, 135, 94, 81, 147, 23, 57, 17, 14, 26, 11, 20,\n",
       "       43, 8, 34, 69, 178, 99, 13, 90, 136, 9, 24, 15, 65, 42, 6, 7, 96,\n",
       "       122, 117, 4, 5, 60, 3, 'Uknown', 2, 33, 1, 40], dtype=object)"
      ]
     },
     "execution_count": 12,
     "metadata": {},
     "output_type": "execute_result"
    }
   ],
   "source": [
    "# convert the type of reviews column from object to int\n",
    "RUH_Resturant['Reviews'].unique()"
   ]
  },
  {
   "cell_type": "code",
   "execution_count": 13,
   "id": "ffd27183",
   "metadata": {},
   "outputs": [
    {
     "data": {
      "text/plain": [
       "dtype('O')"
      ]
     },
     "execution_count": 13,
     "metadata": {},
     "output_type": "execute_result"
    }
   ],
   "source": [
    "# returning the data type form specific column\n",
    "RUH_Resturant['Reviews'].dtype"
   ]
  },
  {
   "cell_type": "code",
   "execution_count": 14,
   "id": "9b89b23b",
   "metadata": {},
   "outputs": [],
   "source": [
    "# replace rows that contains 'Uknown' with zero\n",
    "RUH_Resturant['Reviews']=RUH_Resturant['Reviews'].replace('Uknown',0)"
   ]
  },
  {
   "cell_type": "code",
   "execution_count": 15,
   "id": "b1bb747b",
   "metadata": {},
   "outputs": [
    {
     "data": {
      "text/plain": [
       "0       0\n",
       "1    1819\n",
       "2     894\n",
       "3     880\n",
       "4     384\n",
       "5     252\n",
       "6       0\n",
       "7     110\n",
       "8     284\n",
       "9     183\n",
       "Name: Reviews, dtype: int64"
      ]
     },
     "execution_count": 15,
     "metadata": {},
     "output_type": "execute_result"
    }
   ],
   "source": [
    "RUH_Resturant['Reviews'].head(10)"
   ]
  },
  {
   "cell_type": "markdown",
   "id": "62c60017",
   "metadata": {},
   "source": [
    "_________________________"
   ]
  },
  {
   "cell_type": "markdown",
   "id": "9ff78046",
   "metadata": {},
   "source": [
    "### FoodRating Column"
   ]
  },
  {
   "cell_type": "code",
   "execution_count": 16,
   "id": "5ab53926",
   "metadata": {},
   "outputs": [
    {
     "data": {
      "text/plain": [
       "0                                      NaN\n",
       "1    [[['ui_bubble_rating', 'bubble_45']]]\n",
       "2    [[['ui_bubble_rating', 'bubble_45']]]\n",
       "3    [[['ui_bubble_rating', 'bubble_45']]]\n",
       "4    [[['ui_bubble_rating', 'bubble_50']]]\n",
       "Name: FoodRating, dtype: object"
      ]
     },
     "execution_count": 16,
     "metadata": {},
     "output_type": "execute_result"
    }
   ],
   "source": [
    "RUH_Resturant['FoodRating'].head()"
   ]
  },
  {
   "cell_type": "code",
   "execution_count": 17,
   "id": "9b2826ef",
   "metadata": {},
   "outputs": [],
   "source": [
    "# Extract numbers from string in FoodRating column\n",
    "RUH_Resturant['FoodRating']=RUH_Resturant['FoodRating'].str.extract('([0-9]+)')"
   ]
  },
  {
   "cell_type": "code",
   "execution_count": 18,
   "id": "7b1c26dd",
   "metadata": {},
   "outputs": [
    {
     "data": {
      "text/plain": [
       "dtype('O')"
      ]
     },
     "execution_count": 18,
     "metadata": {},
     "output_type": "execute_result"
    }
   ],
   "source": [
    "# returning the data type form specific column\n",
    "RUH_Resturant['FoodRating'].dtype"
   ]
  },
  {
   "cell_type": "code",
   "execution_count": 19,
   "id": "d34eb57e",
   "metadata": {
    "scrolled": true
   },
   "outputs": [],
   "source": [
    "# replacing Null values with zero to can convert data type to int\n",
    "RUH_Resturant['FoodRating']=RUH_Resturant['FoodRating'].replace(np.NAN,0)\n",
    "# change the type of column from object to integer \n",
    "RUH_Resturant['FoodRating']=RUH_Resturant['FoodRating'].astype(int)\n",
    "# divide FoodRating column by 10 to get the rating in the right way --> 4.5 , 3.5 , 2.5 and so on\n",
    "RUH_Resturant['FoodRating']=RUH_Resturant['FoodRating'].div(10).round(2)\n",
    "# return the datatype to object , FoodRating column is categorical column\n",
    "RUH_Resturant['FoodRating']=RUH_Resturant['FoodRating'].astype(object)"
   ]
  },
  {
   "cell_type": "code",
   "execution_count": 20,
   "id": "c3ffa045",
   "metadata": {},
   "outputs": [
    {
     "data": {
      "text/plain": [
       "0    0.0\n",
       "1    4.5\n",
       "2    4.5\n",
       "3    4.5\n",
       "4    5.0\n",
       "Name: FoodRating, dtype: object"
      ]
     },
     "execution_count": 20,
     "metadata": {},
     "output_type": "execute_result"
    }
   ],
   "source": [
    "RUH_Resturant['FoodRating'].head()"
   ]
  },
  {
   "cell_type": "code",
   "execution_count": 21,
   "id": "8dfc893d",
   "metadata": {},
   "outputs": [
    {
     "data": {
      "text/plain": [
       "0.0    1191\n",
       "4.0     119\n",
       "4.5      89\n",
       "3.5      56\n",
       "5.0      11\n",
       "3.0      11\n",
       "2.0       2\n",
       "1.0       1\n",
       "2.5       1\n",
       "Name: FoodRating, dtype: int64"
      ]
     },
     "execution_count": 21,
     "metadata": {},
     "output_type": "execute_result"
    }
   ],
   "source": [
    "RUH_Resturant['FoodRating'].value_counts()"
   ]
  },
  {
   "cell_type": "markdown",
   "id": "19a884d7",
   "metadata": {},
   "source": [
    "_______________________"
   ]
  },
  {
   "cell_type": "markdown",
   "id": "6ae3ec02",
   "metadata": {},
   "source": [
    "### ValueRating Column"
   ]
  },
  {
   "cell_type": "code",
   "execution_count": 22,
   "id": "d73dc19e",
   "metadata": {},
   "outputs": [
    {
     "data": {
      "text/plain": [
       "0                                      NaN\n",
       "1    [[['ui_bubble_rating', 'bubble_40']]]\n",
       "2    [[['ui_bubble_rating', 'bubble_40']]]\n",
       "3    [[['ui_bubble_rating', 'bubble_40']]]\n",
       "4    [[['ui_bubble_rating', 'bubble_45']]]\n",
       "Name: ValueRating, dtype: object"
      ]
     },
     "execution_count": 22,
     "metadata": {},
     "output_type": "execute_result"
    }
   ],
   "source": [
    "RUH_Resturant['ValueRating'].head()"
   ]
  },
  {
   "cell_type": "code",
   "execution_count": 23,
   "id": "fb496d5e",
   "metadata": {},
   "outputs": [],
   "source": [
    "# Extract numbers from string in ValueRating column\n",
    "RUH_Resturant['ValueRating']=RUH_Resturant['ValueRating'].str.extract('([0-9]+)')"
   ]
  },
  {
   "cell_type": "code",
   "execution_count": 24,
   "id": "c120ace9",
   "metadata": {},
   "outputs": [
    {
     "data": {
      "text/plain": [
       "dtype('O')"
      ]
     },
     "execution_count": 24,
     "metadata": {},
     "output_type": "execute_result"
    }
   ],
   "source": [
    "# returning the data type form specific column\n",
    "RUH_Resturant['ValueRating'].dtype"
   ]
  },
  {
   "cell_type": "code",
   "execution_count": 25,
   "id": "afb3e03c",
   "metadata": {},
   "outputs": [],
   "source": [
    "# replacing Null values with zero to can convert data type to int\n",
    "RUH_Resturant['ValueRating']=RUH_Resturant['ValueRating'].replace(np.NAN,0)\n",
    "# change the type of column from object to integer \n",
    "RUH_Resturant['ValueRating']=RUH_Resturant['ValueRating'].astype(int)\n",
    "# divide ValueRating column by 10 to get the rating in the right way --> 4.5 , 3.5 , 2.5 and so on\n",
    "RUH_Resturant['ValueRating']=RUH_Resturant['ValueRating'].div(10).round(2)\n",
    "# return the datatype to object , ValueRating column is categorical column\n",
    "RUH_Resturant['ValueRating']=RUH_Resturant['ValueRating'].astype(object)"
   ]
  },
  {
   "cell_type": "code",
   "execution_count": 26,
   "id": "dce18321",
   "metadata": {
    "scrolled": true
   },
   "outputs": [
    {
     "data": {
      "text/plain": [
       "0    0.0\n",
       "1    4.0\n",
       "2    4.0\n",
       "3    4.0\n",
       "4    4.5\n",
       "Name: ValueRating, dtype: object"
      ]
     },
     "execution_count": 26,
     "metadata": {},
     "output_type": "execute_result"
    }
   ],
   "source": [
    "RUH_Resturant['ValueRating'].head()"
   ]
  },
  {
   "cell_type": "code",
   "execution_count": 27,
   "id": "cce07667",
   "metadata": {},
   "outputs": [
    {
     "data": {
      "text/plain": [
       "0.0    1199\n",
       "4.0     104\n",
       "3.5     102\n",
       "3.0      41\n",
       "4.5      23\n",
       "2.5       7\n",
       "5.0       2\n",
       "2.0       2\n",
       "1.0       1\n",
       "Name: ValueRating, dtype: int64"
      ]
     },
     "execution_count": 27,
     "metadata": {},
     "output_type": "execute_result"
    }
   ],
   "source": [
    "RUH_Resturant['ValueRating'].value_counts()"
   ]
  },
  {
   "cell_type": "markdown",
   "id": "1db02675",
   "metadata": {},
   "source": [
    "_____________________"
   ]
  },
  {
   "cell_type": "markdown",
   "id": "b749b28d",
   "metadata": {},
   "source": [
    "### ServiceRating Column"
   ]
  },
  {
   "cell_type": "code",
   "execution_count": 28,
   "id": "48a1ceaf",
   "metadata": {},
   "outputs": [
    {
     "data": {
      "text/plain": [
       "0                                      NaN\n",
       "1    [[['ui_bubble_rating', 'bubble_45']]]\n",
       "2    [[['ui_bubble_rating', 'bubble_45']]]\n",
       "3    [[['ui_bubble_rating', 'bubble_45']]]\n",
       "4    [[['ui_bubble_rating', 'bubble_45']]]\n",
       "Name: ServiceRating, dtype: object"
      ]
     },
     "execution_count": 28,
     "metadata": {},
     "output_type": "execute_result"
    }
   ],
   "source": [
    "RUH_Resturant['ServiceRating'].head()"
   ]
  },
  {
   "cell_type": "code",
   "execution_count": 29,
   "id": "846c87ed",
   "metadata": {},
   "outputs": [],
   "source": [
    "# Extract numbers from string in ServiceRating column\n",
    "RUH_Resturant['ServiceRating']=RUH_Resturant['ServiceRating'].str.extract('([0-9]+)')"
   ]
  },
  {
   "cell_type": "code",
   "execution_count": 30,
   "id": "5bcf6739",
   "metadata": {},
   "outputs": [
    {
     "data": {
      "text/plain": [
       "0    NaN\n",
       "1     45\n",
       "2     45\n",
       "3     45\n",
       "4     45\n",
       "Name: ServiceRating, dtype: object"
      ]
     },
     "execution_count": 30,
     "metadata": {},
     "output_type": "execute_result"
    }
   ],
   "source": [
    "RUH_Resturant['ServiceRating'].head()"
   ]
  },
  {
   "cell_type": "code",
   "execution_count": 31,
   "id": "dabcf593",
   "metadata": {},
   "outputs": [
    {
     "data": {
      "text/plain": [
       "dtype('O')"
      ]
     },
     "execution_count": 31,
     "metadata": {},
     "output_type": "execute_result"
    }
   ],
   "source": [
    "# Extract numbers from string in ServiceRating column\n",
    "RUH_Resturant['ServiceRating'].dtype"
   ]
  },
  {
   "cell_type": "code",
   "execution_count": 32,
   "id": "e234c001",
   "metadata": {},
   "outputs": [],
   "source": [
    "# replacing Null values with zero to can convert data type to int\n",
    "RUH_Resturant['ServiceRating']=RUH_Resturant['ServiceRating'].replace(np.NAN,0)\n",
    "# change the type of column from object to integer \n",
    "RUH_Resturant['ServiceRating']=RUH_Resturant['ServiceRating'].astype(int)\n",
    "# divide ServiceRating column by 10 to get the rating in the right way --> 4.5 , 3.5 , 2.5 and so on\n",
    "RUH_Resturant['ServiceRating']=RUH_Resturant['ServiceRating'].div(10).round(2)\n",
    "# return the datatype to object , ServiceRating column is categorical column\n",
    "RUH_Resturant['ServiceRating']=RUH_Resturant['ServiceRating'].astype(object)"
   ]
  },
  {
   "cell_type": "code",
   "execution_count": 33,
   "id": "cb94cc51",
   "metadata": {
    "scrolled": true
   },
   "outputs": [
    {
     "data": {
      "text/plain": [
       "0    0.0\n",
       "1    4.5\n",
       "2    4.5\n",
       "3    4.5\n",
       "4    4.5\n",
       "Name: ServiceRating, dtype: object"
      ]
     },
     "execution_count": 33,
     "metadata": {},
     "output_type": "execute_result"
    }
   ],
   "source": [
    "RUH_Resturant['ServiceRating'].head()"
   ]
  },
  {
   "cell_type": "code",
   "execution_count": 34,
   "id": "1c510294",
   "metadata": {},
   "outputs": [
    {
     "data": {
      "text/plain": [
       "0.0    1193\n",
       "4.0     106\n",
       "4.5      86\n",
       "3.5      58\n",
       "3.0      19\n",
       "5.0      17\n",
       "1.0       1\n",
       "2.0       1\n",
       "Name: ServiceRating, dtype: int64"
      ]
     },
     "execution_count": 34,
     "metadata": {},
     "output_type": "execute_result"
    }
   ],
   "source": [
    "RUH_Resturant['ServiceRating'].value_counts()"
   ]
  },
  {
   "cell_type": "code",
   "execution_count": 35,
   "id": "cf645836",
   "metadata": {},
   "outputs": [
    {
     "data": {
      "text/html": [
       "<div>\n",
       "<style scoped>\n",
       "    .dataframe tbody tr th:only-of-type {\n",
       "        vertical-align: middle;\n",
       "    }\n",
       "\n",
       "    .dataframe tbody tr th {\n",
       "        vertical-align: top;\n",
       "    }\n",
       "\n",
       "    .dataframe thead th {\n",
       "        text-align: right;\n",
       "    }\n",
       "</style>\n",
       "<table border=\"1\" class=\"dataframe\">\n",
       "  <thead>\n",
       "    <tr style=\"text-align: right;\">\n",
       "      <th></th>\n",
       "      <th>Region</th>\n",
       "      <th>URLS</th>\n",
       "      <th>ResturantName</th>\n",
       "      <th>Reviews</th>\n",
       "      <th>Address</th>\n",
       "      <th>Stars</th>\n",
       "      <th>Cuisine</th>\n",
       "      <th>Excellent</th>\n",
       "      <th>VeryGood</th>\n",
       "      <th>Poor</th>\n",
       "      <th>Average</th>\n",
       "      <th>Terrible</th>\n",
       "      <th>FoodRating</th>\n",
       "      <th>ServiceRating</th>\n",
       "      <th>ValueRating</th>\n",
       "    </tr>\n",
       "  </thead>\n",
       "  <tbody>\n",
       "    <tr>\n",
       "      <th>0</th>\n",
       "      <td>Riyadh</td>\n",
       "      <td>https://www.tripadvisor.com//Restaurant_Review...</td>\n",
       "      <td>Oxar Prime Steakhall</td>\n",
       "      <td>0</td>\n",
       "      <td>The Esplanade, Riyadh Saudi Arabia</td>\n",
       "      <td>NaN</td>\n",
       "      <td>Steakhouse, American, Barbecue, European, Gril...</td>\n",
       "      <td>NaN</td>\n",
       "      <td>NaN</td>\n",
       "      <td>NaN</td>\n",
       "      <td>NaN</td>\n",
       "      <td>NaN</td>\n",
       "      <td>0.0</td>\n",
       "      <td>0.0</td>\n",
       "      <td>0.0</td>\n",
       "    </tr>\n",
       "    <tr>\n",
       "      <th>1</th>\n",
       "      <td>Riyadh</td>\n",
       "      <td>https://www.tripadvisor.com//Restaurant_Review...</td>\n",
       "      <td>Al Orjouan</td>\n",
       "      <td>1819</td>\n",
       "      <td>The Ritz-Carlton, Riyadh Mekkah Road, Al Hada ...</td>\n",
       "      <td>5.0</td>\n",
       "      <td>Mediterranean, Middle Eastern, InternationalSp...</td>\n",
       "      <td>1499.0</td>\n",
       "      <td>74.0</td>\n",
       "      <td>8.0</td>\n",
       "      <td>16.0</td>\n",
       "      <td>4.0</td>\n",
       "      <td>4.5</td>\n",
       "      <td>4.5</td>\n",
       "      <td>4.0</td>\n",
       "    </tr>\n",
       "    <tr>\n",
       "      <th>2</th>\n",
       "      <td>Riyadh</td>\n",
       "      <td>https://www.tripadvisor.com//Restaurant_Review...</td>\n",
       "      <td>Zafran Indian Bistro - Rubeen Plaza</td>\n",
       "      <td>894</td>\n",
       "      <td>Northern Ring Road Rubeen Plaza, Exit 2, Riyad...</td>\n",
       "      <td>5.0</td>\n",
       "      <td>Indian, AsianSpecial</td>\n",
       "      <td>680.0</td>\n",
       "      <td>40.0</td>\n",
       "      <td>2.0</td>\n",
       "      <td>14.0</td>\n",
       "      <td>2.0</td>\n",
       "      <td>4.5</td>\n",
       "      <td>4.5</td>\n",
       "      <td>4.0</td>\n",
       "    </tr>\n",
       "    <tr>\n",
       "      <th>3</th>\n",
       "      <td>Riyadh</td>\n",
       "      <td>https://www.tripadvisor.com//Restaurant_Review...</td>\n",
       "      <td>Zafran Indian Bistro - Turki Square</td>\n",
       "      <td>880</td>\n",
       "      <td>Turki Square Mall, Turki Road Makkah Al Mukarr...</td>\n",
       "      <td>5.0</td>\n",
       "      <td>Indian, Healthy, Soups, GrillSpecial</td>\n",
       "      <td>613.0</td>\n",
       "      <td>24.0</td>\n",
       "      <td>2.0</td>\n",
       "      <td>7.0</td>\n",
       "      <td>2.0</td>\n",
       "      <td>4.5</td>\n",
       "      <td>4.5</td>\n",
       "      <td>4.0</td>\n",
       "    </tr>\n",
       "    <tr>\n",
       "      <th>4</th>\n",
       "      <td>Riyadh</td>\n",
       "      <td>https://www.tripadvisor.com//Restaurant_Review...</td>\n",
       "      <td>Zafran Indian Bistro - Levels Mall</td>\n",
       "      <td>384</td>\n",
       "      <td>Levels Mall, Level 1, Exit 5 Off Northern Ring...</td>\n",
       "      <td>5.0</td>\n",
       "      <td>Uknown</td>\n",
       "      <td>297.0</td>\n",
       "      <td>13.0</td>\n",
       "      <td>1.0</td>\n",
       "      <td>3.0</td>\n",
       "      <td>1.0</td>\n",
       "      <td>5.0</td>\n",
       "      <td>4.5</td>\n",
       "      <td>4.5</td>\n",
       "    </tr>\n",
       "  </tbody>\n",
       "</table>\n",
       "</div>"
      ],
      "text/plain": [
       "   Region                                               URLS  \\\n",
       "0  Riyadh  https://www.tripadvisor.com//Restaurant_Review...   \n",
       "1  Riyadh  https://www.tripadvisor.com//Restaurant_Review...   \n",
       "2  Riyadh  https://www.tripadvisor.com//Restaurant_Review...   \n",
       "3  Riyadh  https://www.tripadvisor.com//Restaurant_Review...   \n",
       "4  Riyadh  https://www.tripadvisor.com//Restaurant_Review...   \n",
       "\n",
       "                         ResturantName  Reviews  \\\n",
       "0                 Oxar Prime Steakhall        0   \n",
       "1                           Al Orjouan     1819   \n",
       "2  Zafran Indian Bistro - Rubeen Plaza      894   \n",
       "3  Zafran Indian Bistro - Turki Square      880   \n",
       "4   Zafran Indian Bistro - Levels Mall      384   \n",
       "\n",
       "                                             Address  Stars  \\\n",
       "0                 The Esplanade, Riyadh Saudi Arabia    NaN   \n",
       "1  The Ritz-Carlton, Riyadh Mekkah Road, Al Hada ...    5.0   \n",
       "2  Northern Ring Road Rubeen Plaza, Exit 2, Riyad...    5.0   \n",
       "3  Turki Square Mall, Turki Road Makkah Al Mukarr...    5.0   \n",
       "4  Levels Mall, Level 1, Exit 5 Off Northern Ring...    5.0   \n",
       "\n",
       "                                             Cuisine  Excellent  VeryGood  \\\n",
       "0  Steakhouse, American, Barbecue, European, Gril...        NaN       NaN   \n",
       "1  Mediterranean, Middle Eastern, InternationalSp...     1499.0      74.0   \n",
       "2                              Indian, AsianSpecial       680.0      40.0   \n",
       "3              Indian, Healthy, Soups, GrillSpecial       613.0      24.0   \n",
       "4                                             Uknown      297.0      13.0   \n",
       "\n",
       "   Poor  Average  Terrible FoodRating ServiceRating ValueRating  \n",
       "0   NaN      NaN       NaN        0.0           0.0         0.0  \n",
       "1   8.0     16.0       4.0        4.5           4.5         4.0  \n",
       "2   2.0     14.0       2.0        4.5           4.5         4.0  \n",
       "3   2.0      7.0       2.0        4.5           4.5         4.0  \n",
       "4   1.0      3.0       1.0        5.0           4.5         4.5  "
      ]
     },
     "execution_count": 35,
     "metadata": {},
     "output_type": "execute_result"
    }
   ],
   "source": [
    "RUH_Resturant.head()"
   ]
  },
  {
   "cell_type": "markdown",
   "id": "a26655a0",
   "metadata": {},
   "source": [
    "_____________________"
   ]
  },
  {
   "cell_type": "markdown",
   "id": "86cb43ef",
   "metadata": {},
   "source": [
    "### Cuisine Column"
   ]
  },
  {
   "cell_type": "code",
   "execution_count": 36,
   "id": "2fb39448",
   "metadata": {},
   "outputs": [],
   "source": [
    "#split the cuisine column by delimiter\n",
    "Cuisine= RUH_Resturant[\"Cuisine\"].str.split(\",\", expand = True)\n",
    "RUH_Resturant['Cuisine']=Cuisine[0]"
   ]
  },
  {
   "cell_type": "code",
   "execution_count": 37,
   "id": "02cd6c90",
   "metadata": {},
   "outputs": [
    {
     "data": {
      "text/html": [
       "<div>\n",
       "<style scoped>\n",
       "    .dataframe tbody tr th:only-of-type {\n",
       "        vertical-align: middle;\n",
       "    }\n",
       "\n",
       "    .dataframe tbody tr th {\n",
       "        vertical-align: top;\n",
       "    }\n",
       "\n",
       "    .dataframe thead th {\n",
       "        text-align: right;\n",
       "    }\n",
       "</style>\n",
       "<table border=\"1\" class=\"dataframe\">\n",
       "  <thead>\n",
       "    <tr style=\"text-align: right;\">\n",
       "      <th></th>\n",
       "      <th>Region</th>\n",
       "      <th>URLS</th>\n",
       "      <th>ResturantName</th>\n",
       "      <th>Reviews</th>\n",
       "      <th>Address</th>\n",
       "      <th>Stars</th>\n",
       "      <th>Cuisine</th>\n",
       "      <th>Excellent</th>\n",
       "      <th>VeryGood</th>\n",
       "      <th>Poor</th>\n",
       "      <th>Average</th>\n",
       "      <th>Terrible</th>\n",
       "      <th>FoodRating</th>\n",
       "      <th>ServiceRating</th>\n",
       "      <th>ValueRating</th>\n",
       "    </tr>\n",
       "  </thead>\n",
       "  <tbody>\n",
       "    <tr>\n",
       "      <th>0</th>\n",
       "      <td>Riyadh</td>\n",
       "      <td>https://www.tripadvisor.com//Restaurant_Review...</td>\n",
       "      <td>Oxar Prime Steakhall</td>\n",
       "      <td>0</td>\n",
       "      <td>The Esplanade, Riyadh Saudi Arabia</td>\n",
       "      <td>NaN</td>\n",
       "      <td>Steakhouse</td>\n",
       "      <td>NaN</td>\n",
       "      <td>NaN</td>\n",
       "      <td>NaN</td>\n",
       "      <td>NaN</td>\n",
       "      <td>NaN</td>\n",
       "      <td>0.0</td>\n",
       "      <td>0.0</td>\n",
       "      <td>0.0</td>\n",
       "    </tr>\n",
       "    <tr>\n",
       "      <th>1</th>\n",
       "      <td>Riyadh</td>\n",
       "      <td>https://www.tripadvisor.com//Restaurant_Review...</td>\n",
       "      <td>Al Orjouan</td>\n",
       "      <td>1819</td>\n",
       "      <td>The Ritz-Carlton, Riyadh Mekkah Road, Al Hada ...</td>\n",
       "      <td>5.0</td>\n",
       "      <td>Mediterranean</td>\n",
       "      <td>1499.0</td>\n",
       "      <td>74.0</td>\n",
       "      <td>8.0</td>\n",
       "      <td>16.0</td>\n",
       "      <td>4.0</td>\n",
       "      <td>4.5</td>\n",
       "      <td>4.5</td>\n",
       "      <td>4.0</td>\n",
       "    </tr>\n",
       "    <tr>\n",
       "      <th>2</th>\n",
       "      <td>Riyadh</td>\n",
       "      <td>https://www.tripadvisor.com//Restaurant_Review...</td>\n",
       "      <td>Zafran Indian Bistro - Rubeen Plaza</td>\n",
       "      <td>894</td>\n",
       "      <td>Northern Ring Road Rubeen Plaza, Exit 2, Riyad...</td>\n",
       "      <td>5.0</td>\n",
       "      <td>Indian</td>\n",
       "      <td>680.0</td>\n",
       "      <td>40.0</td>\n",
       "      <td>2.0</td>\n",
       "      <td>14.0</td>\n",
       "      <td>2.0</td>\n",
       "      <td>4.5</td>\n",
       "      <td>4.5</td>\n",
       "      <td>4.0</td>\n",
       "    </tr>\n",
       "    <tr>\n",
       "      <th>3</th>\n",
       "      <td>Riyadh</td>\n",
       "      <td>https://www.tripadvisor.com//Restaurant_Review...</td>\n",
       "      <td>Zafran Indian Bistro - Turki Square</td>\n",
       "      <td>880</td>\n",
       "      <td>Turki Square Mall, Turki Road Makkah Al Mukarr...</td>\n",
       "      <td>5.0</td>\n",
       "      <td>Indian</td>\n",
       "      <td>613.0</td>\n",
       "      <td>24.0</td>\n",
       "      <td>2.0</td>\n",
       "      <td>7.0</td>\n",
       "      <td>2.0</td>\n",
       "      <td>4.5</td>\n",
       "      <td>4.5</td>\n",
       "      <td>4.0</td>\n",
       "    </tr>\n",
       "    <tr>\n",
       "      <th>4</th>\n",
       "      <td>Riyadh</td>\n",
       "      <td>https://www.tripadvisor.com//Restaurant_Review...</td>\n",
       "      <td>Zafran Indian Bistro - Levels Mall</td>\n",
       "      <td>384</td>\n",
       "      <td>Levels Mall, Level 1, Exit 5 Off Northern Ring...</td>\n",
       "      <td>5.0</td>\n",
       "      <td>Uknown</td>\n",
       "      <td>297.0</td>\n",
       "      <td>13.0</td>\n",
       "      <td>1.0</td>\n",
       "      <td>3.0</td>\n",
       "      <td>1.0</td>\n",
       "      <td>5.0</td>\n",
       "      <td>4.5</td>\n",
       "      <td>4.5</td>\n",
       "    </tr>\n",
       "  </tbody>\n",
       "</table>\n",
       "</div>"
      ],
      "text/plain": [
       "   Region                                               URLS  \\\n",
       "0  Riyadh  https://www.tripadvisor.com//Restaurant_Review...   \n",
       "1  Riyadh  https://www.tripadvisor.com//Restaurant_Review...   \n",
       "2  Riyadh  https://www.tripadvisor.com//Restaurant_Review...   \n",
       "3  Riyadh  https://www.tripadvisor.com//Restaurant_Review...   \n",
       "4  Riyadh  https://www.tripadvisor.com//Restaurant_Review...   \n",
       "\n",
       "                         ResturantName  Reviews  \\\n",
       "0                 Oxar Prime Steakhall        0   \n",
       "1                           Al Orjouan     1819   \n",
       "2  Zafran Indian Bistro - Rubeen Plaza      894   \n",
       "3  Zafran Indian Bistro - Turki Square      880   \n",
       "4   Zafran Indian Bistro - Levels Mall      384   \n",
       "\n",
       "                                             Address  Stars        Cuisine  \\\n",
       "0                 The Esplanade, Riyadh Saudi Arabia    NaN     Steakhouse   \n",
       "1  The Ritz-Carlton, Riyadh Mekkah Road, Al Hada ...    5.0  Mediterranean   \n",
       "2  Northern Ring Road Rubeen Plaza, Exit 2, Riyad...    5.0         Indian   \n",
       "3  Turki Square Mall, Turki Road Makkah Al Mukarr...    5.0         Indian   \n",
       "4  Levels Mall, Level 1, Exit 5 Off Northern Ring...    5.0         Uknown   \n",
       "\n",
       "   Excellent  VeryGood  Poor  Average  Terrible FoodRating ServiceRating  \\\n",
       "0        NaN       NaN   NaN      NaN       NaN        0.0           0.0   \n",
       "1     1499.0      74.0   8.0     16.0       4.0        4.5           4.5   \n",
       "2      680.0      40.0   2.0     14.0       2.0        4.5           4.5   \n",
       "3      613.0      24.0   2.0      7.0       2.0        4.5           4.5   \n",
       "4      297.0      13.0   1.0      3.0       1.0        5.0           4.5   \n",
       "\n",
       "  ValueRating  \n",
       "0         0.0  \n",
       "1         4.0  \n",
       "2         4.0  \n",
       "3         4.0  \n",
       "4         4.5  "
      ]
     },
     "execution_count": 37,
     "metadata": {},
     "output_type": "execute_result"
    }
   ],
   "source": [
    "RUH_Resturant.head()"
   ]
  },
  {
   "cell_type": "markdown",
   "id": "1d42f79c",
   "metadata": {},
   "source": [
    "_______________________________"
   ]
  },
  {
   "cell_type": "code",
   "execution_count": 38,
   "id": "71ccb87e",
   "metadata": {},
   "outputs": [
    {
     "data": {
      "text/plain": [
       "Uknown                                    363\n",
       "American                                  148\n",
       "Italian                                   104\n",
       "French                                     74\n",
       "Steakhouse                                 69\n",
       "                                         ... \n",
       "Fusion                                      1\n",
       "Street Food                                 1\n",
       "InternationalFEATURESTakeout                1\n",
       "Egyptian                                    1\n",
       "SeafoodMealsDinnerFEATURESReservations      1\n",
       "Name: Cuisine, Length: 121, dtype: int64"
      ]
     },
     "execution_count": 38,
     "metadata": {},
     "output_type": "execute_result"
    }
   ],
   "source": [
    "# viewing the values in Cuisine column before replacing\n",
    "RUH_Resturant['Cuisine'].value_counts()"
   ]
  },
  {
   "cell_type": "code",
   "execution_count": 39,
   "id": "a2e85fd1",
   "metadata": {},
   "outputs": [],
   "source": [
    "# replacing some values in Cuisine column\n",
    "RUH_Resturant['Cuisine']=RUH_Resturant['Cuisine'].str.replace('AmericanMealsLunch','American')\n",
    "RUH_Resturant['Cuisine']=RUH_Resturant['Cuisine'].str.replace('AmericanMealsBreakfast','American')\n",
    "RUH_Resturant['Cuisine']=RUH_Resturant['Cuisine'].str.replace('AmericanMealsDinner','American')\n",
    "RUH_Resturant['Cuisine']=RUH_Resturant['Cuisine'].str.replace('AmericanMealsDinnerFEATURESReservations','American')\n",
    "RUH_Resturant['Cuisine']=RUH_Resturant['Cuisine'].str.replace('AmericanMealsDinnerFEATURESSeating','American')\n",
    "RUH_Resturant['Cuisine']=RUH_Resturant['Cuisine'].str.replace('AmericanFEATURESAccepts Credit Cards','American')\n",
    "RUH_Resturant['Cuisine']=RUH_Resturant['Cuisine'].str.replace('AmericanSpecial ','American')\n",
    "RUH_Resturant['Cuisine']=RUH_Resturant['Cuisine'].str.replace('AmericanFEATURESReservations','American')\n",
    "RUH_Resturant['Cuisine']=RUH_Resturant['Cuisine'].str.replace('AmericanFEATURESSeating','American')\n",
    "RUH_Resturant['Cuisine']=RUH_Resturant['Cuisine'].str.replace('ArabicMealsBreakfast','Arabic')\n",
    "RUH_Resturant['Cuisine']=RUH_Resturant['Cuisine'].str.replace('ArabicMealsDinner','Arabic')\n",
    "RUH_Resturant['Cuisine']=RUH_Resturant['Cuisine'].str.replace('ArabicMealsLunch','Arabic')"
   ]
  },
  {
   "cell_type": "code",
   "execution_count": 40,
   "id": "94d0bb27",
   "metadata": {},
   "outputs": [
    {
     "data": {
      "text/plain": [
       "Uknown                          363\n",
       "American                        176\n",
       "Italian                         104\n",
       "French                           74\n",
       "Steakhouse                       69\n",
       "                               ... \n",
       "Fusion                            1\n",
       "InternationalFEATURESTakeout      1\n",
       "Egyptian                          1\n",
       "Latin                             1\n",
       "HealthyMealsBreakfast             1\n",
       "Name: Cuisine, Length: 111, dtype: int64"
      ]
     },
     "execution_count": 40,
     "metadata": {},
     "output_type": "execute_result"
    }
   ],
   "source": [
    "# viewing the values in Cuisine column after replacing\n",
    "# complete the replacing by using excel program\n",
    "RUH_Resturant['Cuisine'].value_counts()"
   ]
  },
  {
   "cell_type": "markdown",
   "id": "75d5f844",
   "metadata": {},
   "source": [
    "________________"
   ]
  },
  {
   "cell_type": "markdown",
   "id": "cbf12d2d",
   "metadata": {},
   "source": [
    "### ResturantnName & Brunch\tColumns"
   ]
  },
  {
   "cell_type": "code",
   "execution_count": 41,
   "id": "6f13b147",
   "metadata": {},
   "outputs": [],
   "source": [
    "#Split the names of resturants that have brunch to two columns\n",
    "Branch= RUH_Resturant[\"ResturantName\"].str.split(\"-\", expand = True)\n",
    "RUH_Resturant['ResturantName']=Branch[0]\n",
    "RUH_Resturant['Branch']=Branch[1]"
   ]
  },
  {
   "cell_type": "code",
   "execution_count": 42,
   "id": "15c4dd3b",
   "metadata": {},
   "outputs": [
    {
     "data": {
      "text/html": [
       "<div>\n",
       "<style scoped>\n",
       "    .dataframe tbody tr th:only-of-type {\n",
       "        vertical-align: middle;\n",
       "    }\n",
       "\n",
       "    .dataframe tbody tr th {\n",
       "        vertical-align: top;\n",
       "    }\n",
       "\n",
       "    .dataframe thead th {\n",
       "        text-align: right;\n",
       "    }\n",
       "</style>\n",
       "<table border=\"1\" class=\"dataframe\">\n",
       "  <thead>\n",
       "    <tr style=\"text-align: right;\">\n",
       "      <th></th>\n",
       "      <th>Region</th>\n",
       "      <th>URLS</th>\n",
       "      <th>ResturantName</th>\n",
       "      <th>Reviews</th>\n",
       "      <th>Address</th>\n",
       "      <th>Stars</th>\n",
       "      <th>Cuisine</th>\n",
       "      <th>Excellent</th>\n",
       "      <th>VeryGood</th>\n",
       "      <th>Poor</th>\n",
       "      <th>Average</th>\n",
       "      <th>Terrible</th>\n",
       "      <th>FoodRating</th>\n",
       "      <th>ServiceRating</th>\n",
       "      <th>ValueRating</th>\n",
       "      <th>Branch</th>\n",
       "    </tr>\n",
       "  </thead>\n",
       "  <tbody>\n",
       "    <tr>\n",
       "      <th>0</th>\n",
       "      <td>Riyadh</td>\n",
       "      <td>https://www.tripadvisor.com//Restaurant_Review...</td>\n",
       "      <td>Oxar Prime Steakhall</td>\n",
       "      <td>0</td>\n",
       "      <td>The Esplanade, Riyadh Saudi Arabia</td>\n",
       "      <td>NaN</td>\n",
       "      <td>Steakhouse</td>\n",
       "      <td>NaN</td>\n",
       "      <td>NaN</td>\n",
       "      <td>NaN</td>\n",
       "      <td>NaN</td>\n",
       "      <td>NaN</td>\n",
       "      <td>0.0</td>\n",
       "      <td>0.0</td>\n",
       "      <td>0.0</td>\n",
       "      <td>None</td>\n",
       "    </tr>\n",
       "    <tr>\n",
       "      <th>1</th>\n",
       "      <td>Riyadh</td>\n",
       "      <td>https://www.tripadvisor.com//Restaurant_Review...</td>\n",
       "      <td>Al Orjouan</td>\n",
       "      <td>1819</td>\n",
       "      <td>The Ritz-Carlton, Riyadh Mekkah Road, Al Hada ...</td>\n",
       "      <td>5.0</td>\n",
       "      <td>Mediterranean</td>\n",
       "      <td>1499.0</td>\n",
       "      <td>74.0</td>\n",
       "      <td>8.0</td>\n",
       "      <td>16.0</td>\n",
       "      <td>4.0</td>\n",
       "      <td>4.5</td>\n",
       "      <td>4.5</td>\n",
       "      <td>4.0</td>\n",
       "      <td>None</td>\n",
       "    </tr>\n",
       "    <tr>\n",
       "      <th>2</th>\n",
       "      <td>Riyadh</td>\n",
       "      <td>https://www.tripadvisor.com//Restaurant_Review...</td>\n",
       "      <td>Zafran Indian Bistro</td>\n",
       "      <td>894</td>\n",
       "      <td>Northern Ring Road Rubeen Plaza, Exit 2, Riyad...</td>\n",
       "      <td>5.0</td>\n",
       "      <td>Indian</td>\n",
       "      <td>680.0</td>\n",
       "      <td>40.0</td>\n",
       "      <td>2.0</td>\n",
       "      <td>14.0</td>\n",
       "      <td>2.0</td>\n",
       "      <td>4.5</td>\n",
       "      <td>4.5</td>\n",
       "      <td>4.0</td>\n",
       "      <td>Rubeen Plaza</td>\n",
       "    </tr>\n",
       "    <tr>\n",
       "      <th>3</th>\n",
       "      <td>Riyadh</td>\n",
       "      <td>https://www.tripadvisor.com//Restaurant_Review...</td>\n",
       "      <td>Zafran Indian Bistro</td>\n",
       "      <td>880</td>\n",
       "      <td>Turki Square Mall, Turki Road Makkah Al Mukarr...</td>\n",
       "      <td>5.0</td>\n",
       "      <td>Indian</td>\n",
       "      <td>613.0</td>\n",
       "      <td>24.0</td>\n",
       "      <td>2.0</td>\n",
       "      <td>7.0</td>\n",
       "      <td>2.0</td>\n",
       "      <td>4.5</td>\n",
       "      <td>4.5</td>\n",
       "      <td>4.0</td>\n",
       "      <td>Turki Square</td>\n",
       "    </tr>\n",
       "    <tr>\n",
       "      <th>4</th>\n",
       "      <td>Riyadh</td>\n",
       "      <td>https://www.tripadvisor.com//Restaurant_Review...</td>\n",
       "      <td>Zafran Indian Bistro</td>\n",
       "      <td>384</td>\n",
       "      <td>Levels Mall, Level 1, Exit 5 Off Northern Ring...</td>\n",
       "      <td>5.0</td>\n",
       "      <td>Uknown</td>\n",
       "      <td>297.0</td>\n",
       "      <td>13.0</td>\n",
       "      <td>1.0</td>\n",
       "      <td>3.0</td>\n",
       "      <td>1.0</td>\n",
       "      <td>5.0</td>\n",
       "      <td>4.5</td>\n",
       "      <td>4.5</td>\n",
       "      <td>Levels Mall</td>\n",
       "    </tr>\n",
       "  </tbody>\n",
       "</table>\n",
       "</div>"
      ],
      "text/plain": [
       "   Region                                               URLS  \\\n",
       "0  Riyadh  https://www.tripadvisor.com//Restaurant_Review...   \n",
       "1  Riyadh  https://www.tripadvisor.com//Restaurant_Review...   \n",
       "2  Riyadh  https://www.tripadvisor.com//Restaurant_Review...   \n",
       "3  Riyadh  https://www.tripadvisor.com//Restaurant_Review...   \n",
       "4  Riyadh  https://www.tripadvisor.com//Restaurant_Review...   \n",
       "\n",
       "           ResturantName  Reviews  \\\n",
       "0   Oxar Prime Steakhall        0   \n",
       "1             Al Orjouan     1819   \n",
       "2  Zafran Indian Bistro       894   \n",
       "3  Zafran Indian Bistro       880   \n",
       "4  Zafran Indian Bistro       384   \n",
       "\n",
       "                                             Address  Stars        Cuisine  \\\n",
       "0                 The Esplanade, Riyadh Saudi Arabia    NaN     Steakhouse   \n",
       "1  The Ritz-Carlton, Riyadh Mekkah Road, Al Hada ...    5.0  Mediterranean   \n",
       "2  Northern Ring Road Rubeen Plaza, Exit 2, Riyad...    5.0         Indian   \n",
       "3  Turki Square Mall, Turki Road Makkah Al Mukarr...    5.0         Indian   \n",
       "4  Levels Mall, Level 1, Exit 5 Off Northern Ring...    5.0         Uknown   \n",
       "\n",
       "   Excellent  VeryGood  Poor  Average  Terrible FoodRating ServiceRating  \\\n",
       "0        NaN       NaN   NaN      NaN       NaN        0.0           0.0   \n",
       "1     1499.0      74.0   8.0     16.0       4.0        4.5           4.5   \n",
       "2      680.0      40.0   2.0     14.0       2.0        4.5           4.5   \n",
       "3      613.0      24.0   2.0      7.0       2.0        4.5           4.5   \n",
       "4      297.0      13.0   1.0      3.0       1.0        5.0           4.5   \n",
       "\n",
       "  ValueRating         Branch  \n",
       "0         0.0           None  \n",
       "1         4.0           None  \n",
       "2         4.0   Rubeen Plaza  \n",
       "3         4.0   Turki Square  \n",
       "4         4.5    Levels Mall  "
      ]
     },
     "execution_count": 42,
     "metadata": {},
     "output_type": "execute_result"
    }
   ],
   "source": [
    "RUH_Resturant.head()"
   ]
  },
  {
   "cell_type": "markdown",
   "id": "8b5616ad",
   "metadata": {},
   "source": [
    "________________________"
   ]
  },
  {
   "cell_type": "markdown",
   "id": "1c9362ea",
   "metadata": {},
   "source": [
    "# Export the Dataframe "
   ]
  },
  {
   "cell_type": "code",
   "execution_count": 43,
   "id": "55230818",
   "metadata": {},
   "outputs": [],
   "source": [
    "#export the dataset aafter cleaning as excel file\n",
    "RUH_Resturant.to_excel('RUHResturant_Dataset.xlsx',index=False)"
   ]
  },
  {
   "cell_type": "markdown",
   "id": "1cdf1ec5",
   "metadata": {},
   "source": [
    "_____________________"
   ]
  },
  {
   "cell_type": "markdown",
   "id": "35473769",
   "metadata": {},
   "source": [
    "_____________________"
   ]
  },
  {
   "cell_type": "markdown",
   "id": "7399eed6",
   "metadata": {},
   "source": [
    "# EDA Resturant Dataset"
   ]
  },
  {
   "cell_type": "markdown",
   "id": "24b76875",
   "metadata": {},
   "source": [
    "### Import Libraries"
   ]
  },
  {
   "cell_type": "code",
   "execution_count": 44,
   "id": "50604807",
   "metadata": {},
   "outputs": [],
   "source": [
    "# Import Libraries\n",
    "\n",
    "import pandas as pd\n",
    "import numpy as np\n",
    "import string \n",
    "import seaborn as sns\n",
    "import matplotlib.pyplot as plt\n",
    "import plotly "
   ]
  },
  {
   "cell_type": "markdown",
   "id": "8b985003",
   "metadata": {},
   "source": [
    "### Loading the CSV File"
   ]
  },
  {
   "cell_type": "code",
   "execution_count": 47,
   "id": "74c31457",
   "metadata": {},
   "outputs": [],
   "source": [
    "RUH_Resturant=pd.read_csv('RUHResturant_Dataset.csv')"
   ]
  },
  {
   "cell_type": "code",
   "execution_count": 48,
   "id": "7e11c56f",
   "metadata": {},
   "outputs": [
    {
     "data": {
      "text/html": [
       "<div>\n",
       "<style scoped>\n",
       "    .dataframe tbody tr th:only-of-type {\n",
       "        vertical-align: middle;\n",
       "    }\n",
       "\n",
       "    .dataframe tbody tr th {\n",
       "        vertical-align: top;\n",
       "    }\n",
       "\n",
       "    .dataframe thead th {\n",
       "        text-align: right;\n",
       "    }\n",
       "</style>\n",
       "<table border=\"1\" class=\"dataframe\">\n",
       "  <thead>\n",
       "    <tr style=\"text-align: right;\">\n",
       "      <th></th>\n",
       "      <th>Region</th>\n",
       "      <th>ResturantName</th>\n",
       "      <th>Cuisine</th>\n",
       "      <th>Reviews</th>\n",
       "      <th>Stars</th>\n",
       "      <th>Excellent</th>\n",
       "      <th>VeryGood</th>\n",
       "      <th>Poor</th>\n",
       "      <th>Average</th>\n",
       "      <th>Terrible</th>\n",
       "      <th>FoodRating</th>\n",
       "      <th>ServiceRating</th>\n",
       "      <th>ValueRating</th>\n",
       "      <th>Branch</th>\n",
       "    </tr>\n",
       "  </thead>\n",
       "  <tbody>\n",
       "    <tr>\n",
       "      <th>0</th>\n",
       "      <td>Riyadh</td>\n",
       "      <td>The Globe</td>\n",
       "      <td>European</td>\n",
       "      <td>2</td>\n",
       "      <td>4.5</td>\n",
       "      <td>633.0</td>\n",
       "      <td>230.0</td>\n",
       "      <td>32.0</td>\n",
       "      <td>94.0</td>\n",
       "      <td>16.0</td>\n",
       "      <td>4.0</td>\n",
       "      <td>4.5</td>\n",
       "      <td>3.5</td>\n",
       "      <td>NaN</td>\n",
       "    </tr>\n",
       "    <tr>\n",
       "      <th>1</th>\n",
       "      <td>Riyadh</td>\n",
       "      <td>Spazio</td>\n",
       "      <td>French</td>\n",
       "      <td>10</td>\n",
       "      <td>3.5</td>\n",
       "      <td>50.0</td>\n",
       "      <td>59.0</td>\n",
       "      <td>25.0</td>\n",
       "      <td>46.0</td>\n",
       "      <td>20.0</td>\n",
       "      <td>3.5</td>\n",
       "      <td>3.5</td>\n",
       "      <td>3.0</td>\n",
       "      <td>NaN</td>\n",
       "    </tr>\n",
       "    <tr>\n",
       "      <th>2</th>\n",
       "      <td>Riyadh</td>\n",
       "      <td>Piatto</td>\n",
       "      <td>Italian</td>\n",
       "      <td>0</td>\n",
       "      <td>4.0</td>\n",
       "      <td>339.0</td>\n",
       "      <td>311.0</td>\n",
       "      <td>21.0</td>\n",
       "      <td>83.0</td>\n",
       "      <td>24.0</td>\n",
       "      <td>4.0</td>\n",
       "      <td>4.0</td>\n",
       "      <td>4.0</td>\n",
       "      <td>NaN</td>\n",
       "    </tr>\n",
       "    <tr>\n",
       "      <th>3</th>\n",
       "      <td>Riyadh</td>\n",
       "      <td>Assaraya Turkish</td>\n",
       "      <td>Mediterranean</td>\n",
       "      <td>0</td>\n",
       "      <td>4.0</td>\n",
       "      <td>97.0</td>\n",
       "      <td>115.0</td>\n",
       "      <td>21.0</td>\n",
       "      <td>42.0</td>\n",
       "      <td>17.0</td>\n",
       "      <td>4.0</td>\n",
       "      <td>4.0</td>\n",
       "      <td>4.0</td>\n",
       "      <td>NaN</td>\n",
       "    </tr>\n",
       "    <tr>\n",
       "      <th>4</th>\n",
       "      <td>Riyadh</td>\n",
       "      <td>Myazu</td>\n",
       "      <td>Japanese</td>\n",
       "      <td>9</td>\n",
       "      <td>4.5</td>\n",
       "      <td>331.0</td>\n",
       "      <td>101.0</td>\n",
       "      <td>19.0</td>\n",
       "      <td>35.0</td>\n",
       "      <td>15.0</td>\n",
       "      <td>4.5</td>\n",
       "      <td>4.5</td>\n",
       "      <td>4.0</td>\n",
       "      <td>NaN</td>\n",
       "    </tr>\n",
       "  </tbody>\n",
       "</table>\n",
       "</div>"
      ],
      "text/plain": [
       "   Region     ResturantName        Cuisine  Reviews  Stars  Excellent  \\\n",
       "0  Riyadh         The Globe       European        2    4.5      633.0   \n",
       "1  Riyadh            Spazio         French       10    3.5       50.0   \n",
       "2  Riyadh            Piatto        Italian        0    4.0      339.0   \n",
       "3  Riyadh  Assaraya Turkish  Mediterranean        0    4.0       97.0   \n",
       "4  Riyadh             Myazu       Japanese        9    4.5      331.0   \n",
       "\n",
       "   VeryGood  Poor  Average  Terrible  FoodRating  ServiceRating  ValueRating  \\\n",
       "0     230.0  32.0     94.0      16.0         4.0            4.5          3.5   \n",
       "1      59.0  25.0     46.0      20.0         3.5            3.5          3.0   \n",
       "2     311.0  21.0     83.0      24.0         4.0            4.0          4.0   \n",
       "3     115.0  21.0     42.0      17.0         4.0            4.0          4.0   \n",
       "4     101.0  19.0     35.0      15.0         4.5            4.5          4.0   \n",
       "\n",
       "  Branch  \n",
       "0    NaN  \n",
       "1    NaN  \n",
       "2    NaN  \n",
       "3    NaN  \n",
       "4    NaN  "
      ]
     },
     "execution_count": 48,
     "metadata": {},
     "output_type": "execute_result"
    }
   ],
   "source": [
    "RUH_Resturant.head()"
   ]
  },
  {
   "cell_type": "markdown",
   "id": "269015f9",
   "metadata": {},
   "source": [
    "# Content "
   ]
  },
  {
   "cell_type": "code",
   "execution_count": null,
   "id": "1d0357c8",
   "metadata": {},
   "outputs": [],
   "source": [
    "Region: Riyadh.\n",
    "Title:The Name of Resturant.\n",
    "Reviews: Number of Reviews.\n",
    "Stars: Rating of resturnt (out of 5).\n",
    "Excellent: Resturant Rating out of 5.\n",
    "VeryGood: Resturant Rating out of 5.\n",
    "Poor: Resturant Rating out of 5.\n",
    "Average: Resturant Rating out of 5.\n",
    "Terrible: Resturant Rating out of 5.\n",
    "ResturantRank: Identify restaurants according to their quality out of 926 (926 total number of resturants in riyadh from TRIPEADVISOR).\n",
    "Cuisine: A style of cooking.\n",
    "FoodRating: Restaurant ratings identify restaurants according to food quality.\n",
    "ServiceRating: Restaurant ratings identify restaurants according to Service quality.\n",
    "ValueRating:Restaurant ratings identify restaurants according to Value quality (price)."
   ]
  },
  {
   "cell_type": "markdown",
   "id": "6cd5f5c2",
   "metadata": {},
   "source": [
    "_______________________"
   ]
  },
  {
   "cell_type": "markdown",
   "id": "a2e2dd13",
   "metadata": {},
   "source": [
    "### 1st Plot"
   ]
  },
  {
   "cell_type": "markdown",
   "id": "96576ba2",
   "metadata": {},
   "source": [
    "##### Barplot of TOP TEN of Cuisine in Riyadh"
   ]
  },
  {
   "cell_type": "code",
   "execution_count": 50,
   "id": "d96d0844",
   "metadata": {},
   "outputs": [
    {
     "data": {
      "image/png": "[encoded data removed]",
      "text/plain": [
       "<Figure size 1080x720 with 1 Axes>"
      ]
     },
     "metadata": {},
     "output_type": "display_data"
    }
   ],
   "source": [
    "RUHRest_cuisine=RUH_Resturant['Cuisine'].value_counts().sort_values(ascending=False)[0:10]\n",
    "RUHRest_cuisine.plot(kind='bar')\n",
    "sns.set(rc = {'figure.figsize':(15,10)})\n",
    "plt.title(\"Top Ten Types of Cuisines in Riyadh\" , fontsize=14);\n",
    "plt.ylabel(\"Number of Resturants\" , fontsize=14)\n",
    "plt.xlabel(\"Cuisine\" , fontsize=14)\n",
    "sns.set_theme(palette=\"crest\")"
   ]
  },
  {
   "cell_type": "markdown",
   "id": "715ebdea",
   "metadata": {},
   "source": [
    "###### Insight\n",
    "###### [This chart shows us top ten types of cuisines in Riyadh and total of restaurants in each cuisine . As we see , the top cuisine is American Cuisine with around 170 restaurants , followed by Italian Cuisine which has around 115 restaurants . The last Cuisine is Chinese Cuisine with total restaurants around 35   ] "
   ]
  },
  {
   "cell_type": "markdown",
   "id": "7aba989c",
   "metadata": {},
   "source": [
    "___________________________"
   ]
  },
  {
   "cell_type": "markdown",
   "id": "dc2752eb",
   "metadata": {},
   "source": [
    "### 2nd plot"
   ]
  },
  {
   "cell_type": "markdown",
   "id": "d09830e6",
   "metadata": {},
   "source": [
    "##### Subplots - Types of Cuisines"
   ]
  },
  {
   "cell_type": "code",
   "execution_count": 58,
   "id": "7ce3ec30",
   "metadata": {},
   "outputs": [
    {
     "data": {
      "image/png": "[encoded data removed]",
      "text/plain": [
       "<Figure size 1296x1296 with 4 Axes>"
      ]
     },
     "metadata": {},
     "output_type": "display_data"
    }
   ],
   "source": [
    "# figure, axes = plt.subplots(nrows=2, ncols=2)\n",
    "figure.tight_layout(pad=10.0)\n",
    "\n",
    "plt.figure(figsize=(18,18))\n",
    "plt.subplot(2, 2, 1) # 2x2 plot with plot position 1 (upper left)\n",
    "\n",
    "# filter the dataset to get Middle Eastern Cuisine only\n",
    "RUHRest_ME=RUH_Resturant[(RUH_Resturant['Cuisine']=='Middle Eastern')].sort_values('Reviews',ascending=False)[0:5]\n",
    "\n",
    "# plot the Middle Eastern Cuisine\n",
    "sns.barplot(\n",
    "    data=RUHRest_ME, # Data set\n",
    "    x=\"ResturantName\", # X axis\n",
    "    y=\"Reviews\", # y axis\n",
    "    alpha=0.7, # adjust transparancy\n",
    "    palette = 'crest'\n",
    "   \n",
    ")\n",
    "plt.xticks(rotation=20)\n",
    "\n",
    "sns.set(rc = {'figure.figsize':(10,10)})\n",
    "plt.title(\"The Best Middle Eastern Resturants based on Rating\");\n",
    "plt.xlabel(\"\")\n",
    "plt.ylabel(\"Total of Reviews\")\n",
    "\n",
    "# _______________________________________________________\n",
    "\n",
    "# filter the dataset to get Indian Cuisine only\n",
    "\n",
    "RUHRest_IN=RUH_Resturant[(RUH_Resturant['Cuisine'] =='Indian')].sort_values('Reviews',ascending=False)[0:5]\n",
    "\n",
    "# plot the Indian Cuisine\n",
    "\n",
    "plt.subplot(2, 2, 2) # 2x2 plot with plot position 2 (upper right)\n",
    "\n",
    "sns.barplot(\n",
    "    data=RUHRest_IN, # Data set\n",
    "    x=\"ResturantName\", # X axis\n",
    "    y=\"Reviews\", # y axis\n",
    "    alpha=0.7, # adjust transparancy\n",
    "    palette = 'crest',\n",
    "      \n",
    ")\n",
    "plt.xticks(rotation=20)\n",
    "sns.set(rc = {'figure.figsize':(10,10)})\n",
    "plt.title(\"The Best Indian Resturants based on Rating\");\n",
    "plt.ylabel(\"Total of Reviews\")\n",
    "plt.xlabel(\"\")\n",
    "\n",
    "\n",
    "# _______________________________________________________\n",
    "\n",
    "# filter the dataset to get Fast Food Cuisine only\n",
    "\n",
    "RUHRest_FF=RUH_Resturant[(RUH_Resturant['Cuisine'] =='Fast Food')].sort_values('Reviews',ascending=False)[0:5]\n",
    "\n",
    "# plot the Fast Food Cuisine\n",
    "plt.subplot(2,2,3) # 2x2 plot with plot position 2 (lower left)\n",
    "\n",
    "sns.barplot(\n",
    "    data=RUHRest_FF, # Data set\n",
    "    x=\"ResturantName\", # X axis\n",
    "    y=\"Reviews\", # y axis\n",
    "    alpha=0.7, # adjust transparancy\n",
    "    palette = 'crest',\n",
    "      \n",
    ")\n",
    "plt.xticks(rotation=20)\n",
    "sns.set(rc = {'figure.figsize':(10,10)})\n",
    "plt.title(\"The Best Fast Food Resturants based on Rating\");\n",
    "plt.ylabel(\"Total of Reviews\")\n",
    "plt.xlabel(\"\")\n",
    "\n",
    "# _______________________________________________________\n",
    "\n",
    "# filter the dataset to get Fast Food Cuisine only\n",
    "\n",
    "RUHRest_IT=RUH_Resturant[(RUH_Resturant['Cuisine'] =='Italian')].sort_values('Reviews',ascending=False)[0:5]\n",
    "\n",
    "# plot the Italian Cuisine\n",
    "\n",
    "plt.subplot(2,2,4) # 2x2 plot with plot position 2 (lower right)\n",
    "\n",
    "sns.barplot(\n",
    "    data=RUHRest_IT, # Data set\n",
    "    x=\"ResturantName\", # X axis\n",
    "    y=\"Reviews\", # y axis\n",
    "    alpha=0.7, # adjust transparancy\n",
    "    palette = 'crest',\n",
    ")\n",
    "plt.xticks(rotation=20)\n",
    "sns.set(rc = {'figure.figsize':(10,10)})\n",
    "plt.title(\"The Best Italian Resturants based on Rating\");\n",
    "plt.ylabel(\"Total of Reviews\")\n",
    "plt.xlabel(\"\")\n",
    "\n",
    "sns.set_theme(palette=\"crest\")"
   ]
  },
  {
   "cell_type": "markdown",
   "id": "d27f2155",
   "metadata": {},
   "source": [
    "###### Insight\n",
    "###### [ This chart is subplots charts that represent the top five restaurants in some cuisines in Riyadh based on total of reviews . As we see , the top restaurant in Middle Eastern Cuisine is  ShawermaAddiction , the top restaurant in Indian Cuisine is Open , the next is Fast Food Cuisine that has Metrolls restaurant as top restaurant in riyadh . It should also be noted that this restaurant is permanently closed. The last cuisine is Italian and La Rustica Pizzeria is the best restaurant with 900 reviews.] "
   ]
  },
  {
   "cell_type": "markdown",
   "id": "b24d7810",
   "metadata": {},
   "source": [
    "________________________________________"
   ]
  },
  {
   "cell_type": "markdown",
   "id": "6fbfadf0",
   "metadata": {},
   "source": [
    "### 3rd plot"
   ]
  },
  {
   "cell_type": "markdown",
   "id": "3c2bbd6c",
   "metadata": {},
   "source": [
    "###### Top Five Excellent Resturant in Riyadh"
   ]
  },
  {
   "cell_type": "code",
   "execution_count": 56,
   "id": "44dabb25",
   "metadata": {},
   "outputs": [
    {
     "data": {
      "image/png": "[encoded data removed]",
      "text/plain": [
       "<Figure size 720x576 with 1 Axes>"
      ]
     },
     "metadata": {},
     "output_type": "display_data"
    }
   ],
   "source": [
    "#sort restaurants based on excellent reviews column\n",
    "RUHRest_Excellent=RUH_Resturant.sort_values('Excellent',ascending=False)[0:5]\n",
    "\n",
    "# plots the excellents restaurants\n",
    "plt.figure(figsize=(10,8))\n",
    "colors = sns.color_palette(\"muted\")\n",
    "ax = sns.barplot(y = RUHRest_Excellent['ResturantName'], x = RUHRest_Excellent['Excellent'], orient='h', palette='crest')\n",
    "ax.set_xlabel(xlabel='Excellent Rating', fontsize=12)\n",
    "ax.set_ylabel(ylabel='Resturant Name', fontsize=12)\n",
    "ax.set_title(label='Top 5 Excellent Resturant in Riyadh', fontsize=14)\n",
    "sns.set_theme(palette=\"crest\")\n",
    "plt.show();"
   ]
  },
  {
   "cell_type": "markdown",
   "id": "81f35ec5",
   "metadata": {},
   "source": [
    "###### Top Five VeryGood Resturant in Riyadh"
   ]
  },
  {
   "cell_type": "code",
   "execution_count": 57,
   "id": "fe086883",
   "metadata": {},
   "outputs": [
    {
     "data": {
      "image/png": "[encoded data removed]",
      "text/plain": [
       "<Figure size 720x576 with 1 Axes>"
      ]
     },
     "metadata": {},
     "output_type": "display_data"
    }
   ],
   "source": [
    "#sort restaurants based on VeryGood reviews column\n",
    "RUHRest_VeryGood=RUH_Resturant.sort_values('VeryGood',ascending=False)[0:5]\n",
    "\n",
    "# plots the poor restaurants\n",
    "plt.figure(figsize=(10,8))\n",
    "colors = sns.color_palette(\"muted\")\n",
    "ax = sns.barplot(y = RUHRest_VeryGood['ResturantName'], x = RUHRest_VeryGood['VeryGood'], orient='h', palette='crest')\n",
    "ax.set_xlabel(xlabel='Very Good Rating', fontsize=12)\n",
    "ax.set_ylabel(ylabel='Resturant Name', fontsize=12)\n",
    "ax.set_title(label='Top 5 Very Good Resturant in Riyadh', fontsize=14)\n",
    "plt.show();"
   ]
  },
  {
   "cell_type": "markdown",
   "id": "31c5f1e7",
   "metadata": {},
   "source": [
    "###### Top Five Poor Resturant in Riyadh"
   ]
  },
  {
   "cell_type": "code",
   "execution_count": 60,
   "id": "903966bd",
   "metadata": {
    "scrolled": true
   },
   "outputs": [
    {
     "data": {
      "image/png": "[encoded data removed]",
      "text/plain": [
       "<Figure size 720x576 with 1 Axes>"
      ]
     },
     "metadata": {},
     "output_type": "display_data"
    }
   ],
   "source": [
    "#sort restaurants based on Poor reviews column\n",
    "RUHRest_Poor=RUH_Resturant.sort_values('Poor',ascending=False)[0:5]\n",
    "\n",
    "# plots the poor resturants\n",
    "plt.figure(figsize=(10,8))\n",
    "colors = sns.color_palette(\"muted\")\n",
    "ax = sns.barplot(y = RUHRest_Poor['ResturantName'], x = RUHRest_Poor['Poor'], orient='h', palette='crest')\n",
    "ax.set_xlabel(xlabel='Poor Rating', fontsize=12)\n",
    "ax.set_ylabel(ylabel='Resturant Name', fontsize=12)\n",
    "ax.set_title(label='Top 5 Poor Resturant in Riyadh', fontsize=14)\n",
    "plt.show();"
   ]
  },
  {
   "cell_type": "markdown",
   "id": "dce5eb7f",
   "metadata": {},
   "source": [
    "###### Insight\n",
    "###### [ The three charts above show us the top five restaurant according to quality rating \" excellent  , very good , poor\" . I f we focusing on names of resaurants , we obsirve that the Globe resaurant appear in 3 charts , which means , these chart illustrate the diversity of opinines among the peaple  . ]  "
   ]
  }
 ],
 "metadata": {
  "kernelspec": {
   "display_name": "Python 3",
   "language": "python",
   "name": "python3"
  },
  "language_info": {
   "codemirror_mode": {
    "name": "ipython",
    "version": 3
   },
   "file_extension": ".py",
   "mimetype": "text/x-python",
   "name": "python",
   "nbconvert_exporter": "python",
   "pygments_lexer": "ipython3",
   "version": "3.8.8"
  }
 },
 "nbformat": 4,
 "nbformat_minor": 5
}
