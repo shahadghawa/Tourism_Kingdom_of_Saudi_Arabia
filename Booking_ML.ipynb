{
 "cells": [
  {
   "cell_type": "markdown",
   "metadata": {
    "id": "S4FXeUyMnr4g"
   },
   "source": [
    "## **Import Libraries**"
   ]
  },
  {
   "cell_type": "code",
   "execution_count": 1,
   "metadata": {
    "id": "bDIgCiz43uk7"
   },
   "outputs": [],
   "source": [
    "# Import All Libraries\n",
    "\n",
    "# Data preparation\n",
    "import pandas as pd\n",
    "import numpy as np\n",
    "\n",
    "#Data visualization\n",
    "import matplotlib.pyplot as plt\n",
    "import seaborn as sns\n",
    "\n",
    "# ML Libraries\n",
    "import xgboost as xgb\n",
    "from sklearn.linear_model import LinearRegression\n",
    "\n",
    "from sklearn.tree import DecisionTreeRegressor \n",
    "\n",
    "from sklearn.ensemble import RandomForestRegressor\n",
    "\n",
    "from sklearn.decomposition import PCA\n",
    "\n",
    "from sklearn.model_selection import train_test_split\n",
    "\n",
    "from sklearn.metrics import mean_absolute_error\n",
    "\n",
    "from sklearn.model_selection import cross_val_score\n",
    "\n",
    "from sklearn.metrics import r2_score\n",
    "\n",
    "from sklearn.preprocessing import PolynomialFeatures\n",
    "\n",
    "from sklearn.model_selection import GridSearchCV\n",
    "\n",
    "from sklearn.preprocessing import LabelEncoder\n",
    "\n",
    "from sklearn.preprocessing import StandardScaler\n",
    "\n",
    "from sklearn.linear_model import LogisticRegression\n",
    "\n",
    "from sklearn.metrics import plot_confusion_matrix\n",
    "\n",
    "from sklearn.metrics import accuracy_score\n",
    "\n",
    "from sklearn.metrics import confusion_matrix\n",
    "\n",
    "from sklearn.preprocessing import RobustScaler\n",
    "\n",
    "from sklearn.preprocessing import MinMaxScaler\n",
    "\n",
    "from sklearn.metrics import mean_squared_error\n",
    "\n",
    "from sklearn.metrics import plot_confusion_matrix\n",
    "\n",
    "from sklearn.metrics import classification_report\n",
    "\n",
    "from sklearn.metrics import accuracy_score\n",
    "\n",
    "from xgboost import XGBClassifier\n",
    "\n",
    "from sklearn.tree import DecisionTreeClassifier\n",
    "\n",
    "from sklearn.ensemble import RandomForestClassifier\n",
    "\n",
    "from sklearn import tree\n",
    "\n",
    "# **************************************************************\n",
    "\n",
    "# Pipeline\n",
    "from sklearn.pipeline import Pipeline\n",
    "from sklearn.pipeline import make_pipeline\n",
    "from sklearn.compose import ColumnTransformer\n",
    "\n",
    "# Preprocessing\n",
    "from sklearn.impute import SimpleImputer\n",
    "from sklearn.preprocessing import StandardScaler\n",
    "from sklearn.preprocessing import OneHotEncoder\n",
    "\n",
    "# Models\n",
    "from sklearn.model_selection import GridSearchCV\n",
    "# Evaluation\n",
    "from sklearn.metrics import classification_report\n",
    "from sklearn.model_selection import cross_val_score\n",
    "\n",
    "%matplotlib inline"
   ]
  },
  {
   "cell_type": "markdown",
   "metadata": {
    "id": "6GVOJQvYoo3A"
   },
   "source": [
    "## **Read Old File**"
   ]
  },
  {
   "cell_type": "code",
   "execution_count": 2,
   "metadata": {
    "colab": {
     "base_uri": "https://localhost:8080/",
     "height": 236
    },
    "id": "eTmfTZ-IZVR7",
    "outputId": "2978369c-eda7-43ea-c9ef-368d3ec7839c"
   },
   "outputs": [],
   "source": [
    "#the first version of the data\n",
    "Booking=pd.read_excel('BookingDataCleanedver2.xlsx')\n"
   ]
  },
  {
   "cell_type": "markdown",
   "metadata": {
    "id": "c9kJ99usouSW"
   },
   "source": [
    "## **Booking DataFraem Columns**"
   ]
  },
  {
   "cell_type": "code",
   "execution_count": 3,
   "metadata": {
    "colab": {
     "base_uri": "https://localhost:8080/"
    },
    "id": "JW-iy2yBZVT5",
    "outputId": "78bdcb24-86c8-419f-89cc-c5e05d0ce847"
   },
   "outputs": [
    {
     "data": {
      "text/plain": [
       "Index(['Unnamed: 0', 'URLS', 'Title', 'Price', 'Check_in', 'Check_Out', 'Rate',\n",
       "       'Address', 'latlon', 'Score', 'TYPE', 'Checkin_day', 'Checkout_day',\n",
       "       'Year', 'Month', 'Day', 'Check_Month', 'lon', 'lat', 'Airportlon',\n",
       "       'Airportlat', 'Distance'],\n",
       "      dtype='object')"
      ]
     },
     "execution_count": 3,
     "metadata": {},
     "output_type": "execute_result"
    }
   ],
   "source": [
    "Booking.columns"
   ]
  },
  {
   "cell_type": "markdown",
   "metadata": {
    "id": "LUL1aFg8o1Nu"
   },
   "source": [
    "## **BookingCopy DataFrame and Rename Columns**\n",
    "\n"
   ]
  },
  {
   "cell_type": "code",
   "execution_count": 4,
   "metadata": {
    "id": "ll2ii5HIZVVa"
   },
   "outputs": [],
   "source": [
    "#make a cpoy of dataset\n",
    "Bookingcopy=Booking.copy()\n",
    "\n",
    "Bookingcopy.rename(columns = {'Rate':'Stars','Score':'Rate','TYPE':'ResidenceType','Title':'ResidenceName','Check_in':'CheckIn','Check_out':'CheckOut','Distance':'DistanceToAirport','lon':'ResidenceLongitude','lat':'ResidenceLatitude','Airportlon':'AirPortLongitude','Airportlat':'AirportLatitude','Check_Month':'CheckInMonth','Checkin_day':'CheckInDay','Checkout_day':'CheckOutDay'}, inplace = True)\n",
    "Bookingcopy.rename(columns = {'Check_Out':'CheckOut'}, inplace = True)"
   ]
  },
  {
   "cell_type": "markdown",
   "metadata": {
    "id": "uOwIEN6mo7DC"
   },
   "source": [
    "## **Rename CheckOut Columns**"
   ]
  },
  {
   "cell_type": "markdown",
   "metadata": {
    "id": "-yniX8empUGe"
   },
   "source": [
    "## **Drop Columns and Rename Bookingcopy to Bookingcopyver2**"
   ]
  },
  {
   "cell_type": "code",
   "execution_count": 5,
   "metadata": {
    "colab": {
     "base_uri": "https://localhost:8080/",
     "height": 424
    },
    "id": "q4sLbk08ZVYk",
    "outputId": "c3f6ba24-612d-4249-da91-1a0d0dbd54c9"
   },
   "outputs": [
    {
     "data": {
      "text/html": [
       "<div>\n",
       "<style scoped>\n",
       "    .dataframe tbody tr th:only-of-type {\n",
       "        vertical-align: middle;\n",
       "    }\n",
       "\n",
       "    .dataframe tbody tr th {\n",
       "        vertical-align: top;\n",
       "    }\n",
       "\n",
       "    .dataframe thead th {\n",
       "        text-align: right;\n",
       "    }\n",
       "</style>\n",
       "<table border=\"1\" class=\"dataframe\">\n",
       "  <thead>\n",
       "    <tr style=\"text-align: right;\">\n",
       "      <th></th>\n",
       "      <th>Price</th>\n",
       "      <th>Stars</th>\n",
       "      <th>Rate</th>\n",
       "      <th>ResidenceType</th>\n",
       "      <th>CheckInDay</th>\n",
       "      <th>Month</th>\n",
       "      <th>Day</th>\n",
       "      <th>DistanceToAirport</th>\n",
       "    </tr>\n",
       "  </thead>\n",
       "  <tbody>\n",
       "    <tr>\n",
       "      <th>0</th>\n",
       "      <td>360.00</td>\n",
       "      <td>3</td>\n",
       "      <td>8.1</td>\n",
       "      <td>Room</td>\n",
       "      <td>Saturday</td>\n",
       "      <td>9</td>\n",
       "      <td>4</td>\n",
       "      <td>32.310127</td>\n",
       "    </tr>\n",
       "    <tr>\n",
       "      <th>1</th>\n",
       "      <td>281.25</td>\n",
       "      <td>3</td>\n",
       "      <td>7.3</td>\n",
       "      <td>Room</td>\n",
       "      <td>Saturday</td>\n",
       "      <td>9</td>\n",
       "      <td>4</td>\n",
       "      <td>22.247344</td>\n",
       "    </tr>\n",
       "    <tr>\n",
       "      <th>2</th>\n",
       "      <td>348.75</td>\n",
       "      <td>4</td>\n",
       "      <td>8.6</td>\n",
       "      <td>Room</td>\n",
       "      <td>Saturday</td>\n",
       "      <td>9</td>\n",
       "      <td>4</td>\n",
       "      <td>23.234800</td>\n",
       "    </tr>\n",
       "    <tr>\n",
       "      <th>3</th>\n",
       "      <td>172.50</td>\n",
       "      <td>3</td>\n",
       "      <td>6.6</td>\n",
       "      <td>Studio</td>\n",
       "      <td>Saturday</td>\n",
       "      <td>9</td>\n",
       "      <td>4</td>\n",
       "      <td>33.514213</td>\n",
       "    </tr>\n",
       "    <tr>\n",
       "      <th>4</th>\n",
       "      <td>135.00</td>\n",
       "      <td>3</td>\n",
       "      <td>5.5</td>\n",
       "      <td>Room</td>\n",
       "      <td>Saturday</td>\n",
       "      <td>9</td>\n",
       "      <td>4</td>\n",
       "      <td>33.941213</td>\n",
       "    </tr>\n",
       "    <tr>\n",
       "      <th>...</th>\n",
       "      <td>...</td>\n",
       "      <td>...</td>\n",
       "      <td>...</td>\n",
       "      <td>...</td>\n",
       "      <td>...</td>\n",
       "      <td>...</td>\n",
       "      <td>...</td>\n",
       "      <td>...</td>\n",
       "    </tr>\n",
       "    <tr>\n",
       "      <th>105663</th>\n",
       "      <td>1121.25</td>\n",
       "      <td>4</td>\n",
       "      <td>10.0</td>\n",
       "      <td>Apartment</td>\n",
       "      <td>Friday</td>\n",
       "      <td>9</td>\n",
       "      <td>2</td>\n",
       "      <td>18.723535</td>\n",
       "    </tr>\n",
       "    <tr>\n",
       "      <th>105664</th>\n",
       "      <td>1233.75</td>\n",
       "      <td>3</td>\n",
       "      <td>6.7</td>\n",
       "      <td>Apartment</td>\n",
       "      <td>Friday</td>\n",
       "      <td>9</td>\n",
       "      <td>2</td>\n",
       "      <td>20.986195</td>\n",
       "    </tr>\n",
       "    <tr>\n",
       "      <th>105665</th>\n",
       "      <td>1233.75</td>\n",
       "      <td>4</td>\n",
       "      <td>4.5</td>\n",
       "      <td>Apartment</td>\n",
       "      <td>Friday</td>\n",
       "      <td>9</td>\n",
       "      <td>2</td>\n",
       "      <td>20.986195</td>\n",
       "    </tr>\n",
       "    <tr>\n",
       "      <th>105666</th>\n",
       "      <td>240.00</td>\n",
       "      <td>3</td>\n",
       "      <td>7.7</td>\n",
       "      <td>Studio</td>\n",
       "      <td>Friday</td>\n",
       "      <td>9</td>\n",
       "      <td>2</td>\n",
       "      <td>19.326650</td>\n",
       "    </tr>\n",
       "    <tr>\n",
       "      <th>105667</th>\n",
       "      <td>1533.75</td>\n",
       "      <td>4</td>\n",
       "      <td>10.0</td>\n",
       "      <td>Apartment</td>\n",
       "      <td>Friday</td>\n",
       "      <td>9</td>\n",
       "      <td>2</td>\n",
       "      <td>11.508278</td>\n",
       "    </tr>\n",
       "  </tbody>\n",
       "</table>\n",
       "<p>105668 rows × 8 columns</p>\n",
       "</div>"
      ],
      "text/plain": [
       "          Price  Stars  Rate ResidenceType CheckInDay  Month  Day  \\\n",
       "0        360.00      3   8.1          Room   Saturday      9    4   \n",
       "1        281.25      3   7.3          Room   Saturday      9    4   \n",
       "2        348.75      4   8.6          Room   Saturday      9    4   \n",
       "3        172.50      3   6.6        Studio   Saturday      9    4   \n",
       "4        135.00      3   5.5          Room   Saturday      9    4   \n",
       "...         ...    ...   ...           ...        ...    ...  ...   \n",
       "105663  1121.25      4  10.0     Apartment     Friday      9    2   \n",
       "105664  1233.75      3   6.7     Apartment     Friday      9    2   \n",
       "105665  1233.75      4   4.5     Apartment     Friday      9    2   \n",
       "105666   240.00      3   7.7        Studio     Friday      9    2   \n",
       "105667  1533.75      4  10.0     Apartment     Friday      9    2   \n",
       "\n",
       "        DistanceToAirport  \n",
       "0               32.310127  \n",
       "1               22.247344  \n",
       "2               23.234800  \n",
       "3               33.514213  \n",
       "4               33.941213  \n",
       "...                   ...  \n",
       "105663          18.723535  \n",
       "105664          20.986195  \n",
       "105665          20.986195  \n",
       "105666          19.326650  \n",
       "105667          11.508278  \n",
       "\n",
       "[105668 rows x 8 columns]"
      ]
     },
     "execution_count": 5,
     "metadata": {},
     "output_type": "execute_result"
    }
   ],
   "source": [
    "cols=['Unnamed: 0','URLS','ResidenceName','CheckIn','CheckOut','Address','latlon','Year',\n",
    "      'ResidenceLongitude','ResidenceLatitude',\"CheckOutDay\",\"AirPortLongitude\"\n",
    "      ,\"AirportLatitude\",\"CheckInMonth\"]\n",
    "Bookingcopyver2=Bookingcopy.drop(cols, axis=1)\n",
    "Bookingcopyver2"
   ]
  },
  {
   "cell_type": "markdown",
   "metadata": {
    "id": "msHcQLjWpY9_"
   },
   "source": [
    "## **Categorize Rating**"
   ]
  },
  {
   "cell_type": "code",
   "execution_count": 6,
   "metadata": {
    "id": "1-6QhH3jZVaP"
   },
   "outputs": [],
   "source": [
    "def categorize_Score(Score):\n",
    "    if (Score>= 1.0 and  Score<= 2.9):\n",
    "        return 'Underrated'\n",
    "    elif (Score>= 3.0 and  Score<= 4.9):\n",
    "        return 'Fair'\n",
    "    elif (Score>= 5.0 and  Score<= 6.9):\n",
    "        return 'Pleasent'\n",
    "    elif (Score>= 7.0 and  Score<= 8.9):\n",
    "        return 'Good'\n",
    "    elif (Score>= 9.0 and  Score<= 10.0):\n",
    "        return 'Wonerful'\n",
    "Bookingcopyver2[\"ReviewRating\"]=Bookingcopyver2[\"Rate\"].apply(categorize_Score)"
   ]
  },
  {
   "cell_type": "code",
   "execution_count": 7,
   "metadata": {
    "colab": {
     "base_uri": "https://localhost:8080/"
    },
    "id": "GdJOtjioZVbo",
    "outputId": "e8930a54-7576-4d21-f33c-7f602871cddb"
   },
   "outputs": [
    {
     "data": {
      "text/plain": [
       "Good          69614\n",
       "Pleasent      21151\n",
       "Wonerful      12857\n",
       "Fair           1719\n",
       "Underrated      327\n",
       "Name: ReviewRating, dtype: int64"
      ]
     },
     "execution_count": 7,
     "metadata": {},
     "output_type": "execute_result"
    }
   ],
   "source": [
    "Bookingcopyver2.ReviewRating.value_counts()"
   ]
  },
  {
   "cell_type": "markdown",
   "metadata": {
    "id": "AoRUbctDqGk8"
   },
   "source": [
    "## **MapReviewRating**"
   ]
  },
  {
   "cell_type": "code",
   "execution_count": 8,
   "metadata": {
    "id": "6Y5cyNseZVda"
   },
   "outputs": [],
   "source": [
    "Bookingcopyver2['ReviewRatingVec'] = Bookingcopyver2['ReviewRating'].map({'Underrated': 0, 'Fair': 1, \"Pleasent\":2, \"Good\":3, \"Wonerful\":4})"
   ]
  },
  {
   "cell_type": "code",
   "execution_count": 9,
   "metadata": {
    "colab": {
     "base_uri": "https://localhost:8080/"
    },
    "id": "C0dnIh3FZVey",
    "outputId": "95457b2a-8e2b-4a27-86bc-33301dd8e722"
   },
   "outputs": [
    {
     "data": {
      "text/plain": [
       "3    69614\n",
       "2    21151\n",
       "4    12857\n",
       "1     1719\n",
       "0      327\n",
       "Name: ReviewRatingVec, dtype: int64"
      ]
     },
     "execution_count": 9,
     "metadata": {},
     "output_type": "execute_result"
    }
   ],
   "source": [
    "Bookingcopyver2.ReviewRatingVec.value_counts()"
   ]
  },
  {
   "cell_type": "code",
   "execution_count": 10,
   "metadata": {
    "id": "ywuRw-jJZVgf"
   },
   "outputs": [],
   "source": [
    "Season=[]\n",
    "for Month in Bookingcopyver2[\"Month\"]:\n",
    "    if (Month == 3) |(Month == 4) | (Month == 5 ):\n",
    "        Season.append(\"Spring\")\n",
    "    elif (Month == 6) | (Month == 7) | (Month == 8 ):\n",
    "        Season.append(\"Summer\")\n",
    "    elif (Month == 9) | (Month == 10) | (Month == 11 ):\n",
    "        Season.append(\"Fall\")\n",
    "    else:\n",
    "        Season.append(\"Winter\")\n",
    "\n",
    "Bookingcopyver2.insert(7,\"Season\",Season)"
   ]
  },
  {
   "cell_type": "code",
   "execution_count": 11,
   "metadata": {
    "colab": {
     "base_uri": "https://localhost:8080/",
     "height": 207
    },
    "id": "kjIFVoZcZVh9",
    "outputId": "8fc84d46-64d5-4a0d-a9ce-65af8359bbaf"
   },
   "outputs": [
    {
     "data": {
      "text/html": [
       "<div>\n",
       "<style scoped>\n",
       "    .dataframe tbody tr th:only-of-type {\n",
       "        vertical-align: middle;\n",
       "    }\n",
       "\n",
       "    .dataframe tbody tr th {\n",
       "        vertical-align: top;\n",
       "    }\n",
       "\n",
       "    .dataframe thead th {\n",
       "        text-align: right;\n",
       "    }\n",
       "</style>\n",
       "<table border=\"1\" class=\"dataframe\">\n",
       "  <thead>\n",
       "    <tr style=\"text-align: right;\">\n",
       "      <th></th>\n",
       "      <th>Price</th>\n",
       "      <th>Stars</th>\n",
       "      <th>Rate</th>\n",
       "      <th>ResidenceType</th>\n",
       "      <th>CheckInDay</th>\n",
       "      <th>Month</th>\n",
       "      <th>Day</th>\n",
       "      <th>Season</th>\n",
       "      <th>DistanceToAirport</th>\n",
       "      <th>ReviewRating</th>\n",
       "      <th>ReviewRatingVec</th>\n",
       "    </tr>\n",
       "  </thead>\n",
       "  <tbody>\n",
       "    <tr>\n",
       "      <th>0</th>\n",
       "      <td>360.00</td>\n",
       "      <td>3</td>\n",
       "      <td>8.1</td>\n",
       "      <td>Room</td>\n",
       "      <td>Saturday</td>\n",
       "      <td>9</td>\n",
       "      <td>4</td>\n",
       "      <td>Fall</td>\n",
       "      <td>32.310127</td>\n",
       "      <td>Good</td>\n",
       "      <td>3</td>\n",
       "    </tr>\n",
       "    <tr>\n",
       "      <th>1</th>\n",
       "      <td>281.25</td>\n",
       "      <td>3</td>\n",
       "      <td>7.3</td>\n",
       "      <td>Room</td>\n",
       "      <td>Saturday</td>\n",
       "      <td>9</td>\n",
       "      <td>4</td>\n",
       "      <td>Fall</td>\n",
       "      <td>22.247344</td>\n",
       "      <td>Good</td>\n",
       "      <td>3</td>\n",
       "    </tr>\n",
       "    <tr>\n",
       "      <th>2</th>\n",
       "      <td>348.75</td>\n",
       "      <td>4</td>\n",
       "      <td>8.6</td>\n",
       "      <td>Room</td>\n",
       "      <td>Saturday</td>\n",
       "      <td>9</td>\n",
       "      <td>4</td>\n",
       "      <td>Fall</td>\n",
       "      <td>23.234800</td>\n",
       "      <td>Good</td>\n",
       "      <td>3</td>\n",
       "    </tr>\n",
       "    <tr>\n",
       "      <th>3</th>\n",
       "      <td>172.50</td>\n",
       "      <td>3</td>\n",
       "      <td>6.6</td>\n",
       "      <td>Studio</td>\n",
       "      <td>Saturday</td>\n",
       "      <td>9</td>\n",
       "      <td>4</td>\n",
       "      <td>Fall</td>\n",
       "      <td>33.514213</td>\n",
       "      <td>Pleasent</td>\n",
       "      <td>2</td>\n",
       "    </tr>\n",
       "    <tr>\n",
       "      <th>4</th>\n",
       "      <td>135.00</td>\n",
       "      <td>3</td>\n",
       "      <td>5.5</td>\n",
       "      <td>Room</td>\n",
       "      <td>Saturday</td>\n",
       "      <td>9</td>\n",
       "      <td>4</td>\n",
       "      <td>Fall</td>\n",
       "      <td>33.941213</td>\n",
       "      <td>Pleasent</td>\n",
       "      <td>2</td>\n",
       "    </tr>\n",
       "  </tbody>\n",
       "</table>\n",
       "</div>"
      ],
      "text/plain": [
       "    Price  Stars  Rate ResidenceType CheckInDay  Month  Day Season  \\\n",
       "0  360.00      3   8.1          Room   Saturday      9    4   Fall   \n",
       "1  281.25      3   7.3          Room   Saturday      9    4   Fall   \n",
       "2  348.75      4   8.6          Room   Saturday      9    4   Fall   \n",
       "3  172.50      3   6.6        Studio   Saturday      9    4   Fall   \n",
       "4  135.00      3   5.5          Room   Saturday      9    4   Fall   \n",
       "\n",
       "   DistanceToAirport ReviewRating  ReviewRatingVec  \n",
       "0          32.310127         Good                3  \n",
       "1          22.247344         Good                3  \n",
       "2          23.234800         Good                3  \n",
       "3          33.514213     Pleasent                2  \n",
       "4          33.941213     Pleasent                2  "
      ]
     },
     "execution_count": 11,
     "metadata": {},
     "output_type": "execute_result"
    }
   ],
   "source": [
    "Bookingcopyver2.head()"
   ]
  },
  {
   "cell_type": "code",
   "execution_count": 12,
   "metadata": {
    "colab": {
     "base_uri": "https://localhost:8080/"
    },
    "id": "E6qqg8UpZVji",
    "outputId": "883d8fa9-4c4b-4bc5-af04-1d9756233857"
   },
   "outputs": [
    {
     "data": {
      "text/plain": [
       "Fall      38104\n",
       "Winter    28538\n",
       "Spring    21284\n",
       "Summer    17742\n",
       "Name: Season, dtype: int64"
      ]
     },
     "execution_count": 12,
     "metadata": {},
     "output_type": "execute_result"
    }
   ],
   "source": [
    "Bookingcopyver2['Season'].value_counts()"
   ]
  },
  {
   "cell_type": "code",
   "execution_count": 13,
   "metadata": {
    "colab": {
     "base_uri": "https://localhost:8080/"
    },
    "id": "MaEYeMyDZVmo",
    "outputId": "61f79ca8-40fa-4c85-e70e-6c1707f89191"
   },
   "outputs": [
    {
     "data": {
      "text/plain": [
       "3    48847\n",
       "4    44136\n",
       "5    11372\n",
       "2     1032\n",
       "1      281\n",
       "Name: Stars, dtype: int64"
      ]
     },
     "execution_count": 13,
     "metadata": {},
     "output_type": "execute_result"
    }
   ],
   "source": [
    "Bookingcopyver2.Stars.value_counts()"
   ]
  },
  {
   "cell_type": "code",
   "execution_count": 14,
   "metadata": {
    "id": "XY9x4_yVZVoT"
   },
   "outputs": [],
   "source": [
    "Bookingcopyver2['Starsvec'] = Bookingcopyver2['Stars'].map({1: 0, 2: 1, 3:2, 4:3,5:4})"
   ]
  },
  {
   "cell_type": "code",
   "execution_count": 15,
   "metadata": {
    "colab": {
     "base_uri": "https://localhost:8080/"
    },
    "id": "7lKJMluRZVpl",
    "outputId": "c48a083c-6de5-48cf-f8c1-925a5bd89a24"
   },
   "outputs": [
    {
     "data": {
      "text/plain": [
       "2    48847\n",
       "3    44136\n",
       "4    11372\n",
       "1     1032\n",
       "0      281\n",
       "Name: Starsvec, dtype: int64"
      ]
     },
     "execution_count": 15,
     "metadata": {},
     "output_type": "execute_result"
    }
   ],
   "source": [
    "Bookingcopyver2.Starsvec.value_counts()"
   ]
  },
  {
   "cell_type": "code",
   "execution_count": 16,
   "metadata": {
    "colab": {
     "base_uri": "https://localhost:8080/"
    },
    "id": "nE304lQYZVtE",
    "outputId": "d876fb0a-271b-4ba6-a629-d5fed4962cdb"
   },
   "outputs": [
    {
     "data": {
      "text/plain": [
       "Room         44774\n",
       "Apartment    37647\n",
       "Studio       13862\n",
       "Suite         5931\n",
       "House         1841\n",
       "Chalet        1613\n",
       "Name: ResidenceType, dtype: int64"
      ]
     },
     "execution_count": 16,
     "metadata": {},
     "output_type": "execute_result"
    }
   ],
   "source": [
    "Bookingcopyver2.ResidenceType.value_counts()"
   ]
  },
  {
   "cell_type": "code",
   "execution_count": 17,
   "metadata": {
    "id": "Gi5j5ZCGd8wv"
   },
   "outputs": [],
   "source": [
    "Bookingcopyver2['ResidenceTypevec'] = Bookingcopyver2['ResidenceType'].map({'Studio': 0, 'Room': 1, \"Apartment\":2, \"Suite\":3,\"Chalet\":4, \"House\":5})"
   ]
  },
  {
   "cell_type": "code",
   "execution_count": 18,
   "metadata": {
    "colab": {
     "base_uri": "https://localhost:8080/"
    },
    "id": "89U7_usOd8ym",
    "outputId": "58aa88fd-7938-49d3-d1e6-a4504fabe5e6"
   },
   "outputs": [
    {
     "data": {
      "text/plain": [
       "1    44774\n",
       "2    37647\n",
       "0    13862\n",
       "3     5931\n",
       "5     1841\n",
       "4     1613\n",
       "Name: ResidenceTypevec, dtype: int64"
      ]
     },
     "execution_count": 18,
     "metadata": {},
     "output_type": "execute_result"
    }
   ],
   "source": [
    "Bookingcopyver2.ResidenceTypevec.value_counts()"
   ]
  },
  {
   "cell_type": "code",
   "execution_count": 19,
   "metadata": {
    "id": "prTHIwybd80U"
   },
   "outputs": [],
   "source": [
    "result = [] # create empty list and fill it based on the conditions\n",
    "for value in Bookingcopyver2[\"DistanceToAirport\"]:\n",
    "    if value <= 16:\n",
    "        result.append(\"Short\")\n",
    "    elif value > 16 and value <=23:\n",
    "        result.append(\"Medium\")\n",
    "    elif value > 23:\n",
    "        result.append(\"Long\")       \n",
    "Bookingcopyver2.insert(4,\"Closness_to_Airport\",result)"
   ]
  },
  {
   "cell_type": "code",
   "execution_count": 20,
   "metadata": {
    "id": "_XMyWnG2d810"
   },
   "outputs": [],
   "source": [
    "Bookingcopyver2['Closness_to_Airportvec'] = Bookingcopyver2['Closness_to_Airport'].map({'Short': 0, 'Medium': 1, \"Long\":2})"
   ]
  },
  {
   "cell_type": "code",
   "execution_count": 21,
   "metadata": {
    "colab": {
     "base_uri": "https://localhost:8080/"
    },
    "id": "5hyCzSNEd83u",
    "outputId": "65569676-101f-4c61-9221-f37f6a1ba00e"
   },
   "outputs": [
    {
     "data": {
      "text/plain": [
       "2    50678\n",
       "1    46848\n",
       "0     8142\n",
       "Name: Closness_to_Airportvec, dtype: int64"
      ]
     },
     "execution_count": 21,
     "metadata": {},
     "output_type": "execute_result"
    }
   ],
   "source": [
    "Bookingcopyver2['Closness_to_Airportvec'].value_counts()"
   ]
  },
  {
   "cell_type": "code",
   "execution_count": 22,
   "metadata": {},
   "outputs": [],
   "source": [
    "Bookingcopyver2['CheckInDayvec'] = Bookingcopyver2['CheckInDay'].map({'Sunday': 0,'Monday':1,'Tuesday':2, 'Wednesday': 3 ,'Thursday':4 ,'Friday':5 , 'Saturday':6})"
   ]
  },
  {
   "cell_type": "code",
   "execution_count": 23,
   "metadata": {},
   "outputs": [],
   "source": [
    "Daylist=[]\n",
    "for Day in Bookingcopyver2[\"CheckInDayvec\"]:\n",
    "    if (Day == 0) |(Day == 1) | (Day == 2 )| (Day == 3 ) | (Day == 4):\n",
    "        Daylist.append(\"JobDay\")\n",
    "    elif (Day == 5) | (Day == 6 ):\n",
    "        Daylist.append(\"Weekend\")\n",
    "    else:\n",
    "        Daylist.append(\"None\")\n",
    "\n",
    "Bookingcopyver2.insert(16,\"WeekDay\",Daylist)"
   ]
  },
  {
   "cell_type": "code",
   "execution_count": 24,
   "metadata": {},
   "outputs": [
    {
     "data": {
      "text/plain": [
       "JobDay     75318\n",
       "Weekend    30350\n",
       "Name: WeekDay, dtype: int64"
      ]
     },
     "execution_count": 24,
     "metadata": {},
     "output_type": "execute_result"
    }
   ],
   "source": [
    "Bookingcopyver2[\"WeekDay\"].value_counts()"
   ]
  },
  {
   "cell_type": "code",
   "execution_count": 25,
   "metadata": {},
   "outputs": [],
   "source": [
    "#convert the categorical values to numerical values\n",
    "Bookingcopyver2['SeasonVec'] = Bookingcopyver2['Season'].map({'Winter': 0, 'Spring': 1, 'Summer':2, 'Fall':3})"
   ]
  },
  {
   "cell_type": "code",
   "execution_count": 26,
   "metadata": {},
   "outputs": [],
   "source": [
    "# Convert WeekDayVec to numeric\n",
    "Bookingcopyver2['WeekDayVec'] = Bookingcopyver2['WeekDay'].map({'JobDay': 0,'Weekend':1})"
   ]
  },
  {
   "cell_type": "code",
   "execution_count": 27,
   "metadata": {
    "colab": {
     "base_uri": "https://localhost:8080/",
     "height": 424
    },
    "id": "UQRuDam9d85N",
    "outputId": "ec89414e-f081-4552-cce6-45744573b1ab"
   },
   "outputs": [
    {
     "data": {
      "text/html": [
       "<div>\n",
       "<style scoped>\n",
       "    .dataframe tbody tr th:only-of-type {\n",
       "        vertical-align: middle;\n",
       "    }\n",
       "\n",
       "    .dataframe tbody tr th {\n",
       "        vertical-align: top;\n",
       "    }\n",
       "\n",
       "    .dataframe thead th {\n",
       "        text-align: right;\n",
       "    }\n",
       "</style>\n",
       "<table border=\"1\" class=\"dataframe\">\n",
       "  <thead>\n",
       "    <tr style=\"text-align: right;\">\n",
       "      <th></th>\n",
       "      <th>ReviewRatingVec</th>\n",
       "      <th>Starsvec</th>\n",
       "      <th>ResidenceTypevec</th>\n",
       "      <th>Closness_to_Airportvec</th>\n",
       "      <th>WeekDayVec</th>\n",
       "      <th>SeasonVec</th>\n",
       "    </tr>\n",
       "  </thead>\n",
       "  <tbody>\n",
       "    <tr>\n",
       "      <th>0</th>\n",
       "      <td>3</td>\n",
       "      <td>2</td>\n",
       "      <td>1</td>\n",
       "      <td>2</td>\n",
       "      <td>1</td>\n",
       "      <td>3</td>\n",
       "    </tr>\n",
       "    <tr>\n",
       "      <th>1</th>\n",
       "      <td>3</td>\n",
       "      <td>2</td>\n",
       "      <td>1</td>\n",
       "      <td>1</td>\n",
       "      <td>1</td>\n",
       "      <td>3</td>\n",
       "    </tr>\n",
       "    <tr>\n",
       "      <th>2</th>\n",
       "      <td>3</td>\n",
       "      <td>3</td>\n",
       "      <td>1</td>\n",
       "      <td>2</td>\n",
       "      <td>1</td>\n",
       "      <td>3</td>\n",
       "    </tr>\n",
       "    <tr>\n",
       "      <th>3</th>\n",
       "      <td>2</td>\n",
       "      <td>2</td>\n",
       "      <td>0</td>\n",
       "      <td>2</td>\n",
       "      <td>1</td>\n",
       "      <td>3</td>\n",
       "    </tr>\n",
       "    <tr>\n",
       "      <th>4</th>\n",
       "      <td>2</td>\n",
       "      <td>2</td>\n",
       "      <td>1</td>\n",
       "      <td>2</td>\n",
       "      <td>1</td>\n",
       "      <td>3</td>\n",
       "    </tr>\n",
       "    <tr>\n",
       "      <th>...</th>\n",
       "      <td>...</td>\n",
       "      <td>...</td>\n",
       "      <td>...</td>\n",
       "      <td>...</td>\n",
       "      <td>...</td>\n",
       "      <td>...</td>\n",
       "    </tr>\n",
       "    <tr>\n",
       "      <th>105663</th>\n",
       "      <td>4</td>\n",
       "      <td>3</td>\n",
       "      <td>2</td>\n",
       "      <td>1</td>\n",
       "      <td>1</td>\n",
       "      <td>3</td>\n",
       "    </tr>\n",
       "    <tr>\n",
       "      <th>105664</th>\n",
       "      <td>2</td>\n",
       "      <td>2</td>\n",
       "      <td>2</td>\n",
       "      <td>1</td>\n",
       "      <td>1</td>\n",
       "      <td>3</td>\n",
       "    </tr>\n",
       "    <tr>\n",
       "      <th>105665</th>\n",
       "      <td>1</td>\n",
       "      <td>3</td>\n",
       "      <td>2</td>\n",
       "      <td>1</td>\n",
       "      <td>1</td>\n",
       "      <td>3</td>\n",
       "    </tr>\n",
       "    <tr>\n",
       "      <th>105666</th>\n",
       "      <td>3</td>\n",
       "      <td>2</td>\n",
       "      <td>0</td>\n",
       "      <td>1</td>\n",
       "      <td>1</td>\n",
       "      <td>3</td>\n",
       "    </tr>\n",
       "    <tr>\n",
       "      <th>105667</th>\n",
       "      <td>4</td>\n",
       "      <td>3</td>\n",
       "      <td>2</td>\n",
       "      <td>0</td>\n",
       "      <td>1</td>\n",
       "      <td>3</td>\n",
       "    </tr>\n",
       "  </tbody>\n",
       "</table>\n",
       "<p>105668 rows × 6 columns</p>\n",
       "</div>"
      ],
      "text/plain": [
       "        ReviewRatingVec  Starsvec  ResidenceTypevec  Closness_to_Airportvec  \\\n",
       "0                     3         2                 1                       2   \n",
       "1                     3         2                 1                       1   \n",
       "2                     3         3                 1                       2   \n",
       "3                     2         2                 0                       2   \n",
       "4                     2         2                 1                       2   \n",
       "...                 ...       ...               ...                     ...   \n",
       "105663                4         3                 2                       1   \n",
       "105664                2         2                 2                       1   \n",
       "105665                1         3                 2                       1   \n",
       "105666                3         2                 0                       1   \n",
       "105667                4         3                 2                       0   \n",
       "\n",
       "        WeekDayVec  SeasonVec  \n",
       "0                1          3  \n",
       "1                1          3  \n",
       "2                1          3  \n",
       "3                1          3  \n",
       "4                1          3  \n",
       "...            ...        ...  \n",
       "105663           1          3  \n",
       "105664           1          3  \n",
       "105665           1          3  \n",
       "105666           1          3  \n",
       "105667           1          3  \n",
       "\n",
       "[105668 rows x 6 columns]"
      ]
     },
     "execution_count": 27,
     "metadata": {},
     "output_type": "execute_result"
    }
   ],
   "source": [
    "#Numberic\n",
    "Bookingcopyver2[['ReviewRatingVec', 'Starsvec', 'ResidenceTypevec','Closness_to_Airportvec',\"WeekDayVec\",\"SeasonVec\"]]"
   ]
  },
  {
   "cell_type": "code",
   "execution_count": 28,
   "metadata": {},
   "outputs": [
    {
     "data": {
      "text/html": [
       "<div>\n",
       "<style scoped>\n",
       "    .dataframe tbody tr th:only-of-type {\n",
       "        vertical-align: middle;\n",
       "    }\n",
       "\n",
       "    .dataframe tbody tr th {\n",
       "        vertical-align: top;\n",
       "    }\n",
       "\n",
       "    .dataframe thead th {\n",
       "        text-align: right;\n",
       "    }\n",
       "</style>\n",
       "<table border=\"1\" class=\"dataframe\">\n",
       "  <thead>\n",
       "    <tr style=\"text-align: right;\">\n",
       "      <th></th>\n",
       "      <th>Price</th>\n",
       "      <th>Stars</th>\n",
       "      <th>Rate</th>\n",
       "      <th>ResidenceType</th>\n",
       "      <th>Closness_to_Airport</th>\n",
       "      <th>CheckInDay</th>\n",
       "      <th>Month</th>\n",
       "      <th>Day</th>\n",
       "      <th>Season</th>\n",
       "      <th>DistanceToAirport</th>\n",
       "      <th>ReviewRating</th>\n",
       "      <th>ReviewRatingVec</th>\n",
       "      <th>Starsvec</th>\n",
       "      <th>ResidenceTypevec</th>\n",
       "      <th>Closness_to_Airportvec</th>\n",
       "      <th>CheckInDayvec</th>\n",
       "      <th>WeekDay</th>\n",
       "      <th>SeasonVec</th>\n",
       "      <th>WeekDayVec</th>\n",
       "    </tr>\n",
       "  </thead>\n",
       "  <tbody>\n",
       "    <tr>\n",
       "      <th>0</th>\n",
       "      <td>360.0</td>\n",
       "      <td>3</td>\n",
       "      <td>8.1</td>\n",
       "      <td>Room</td>\n",
       "      <td>Long</td>\n",
       "      <td>Saturday</td>\n",
       "      <td>9</td>\n",
       "      <td>4</td>\n",
       "      <td>Fall</td>\n",
       "      <td>32.310127</td>\n",
       "      <td>Good</td>\n",
       "      <td>3</td>\n",
       "      <td>2</td>\n",
       "      <td>1</td>\n",
       "      <td>2</td>\n",
       "      <td>6</td>\n",
       "      <td>Weekend</td>\n",
       "      <td>3</td>\n",
       "      <td>1</td>\n",
       "    </tr>\n",
       "  </tbody>\n",
       "</table>\n",
       "</div>"
      ],
      "text/plain": [
       "   Price  Stars  Rate ResidenceType Closness_to_Airport CheckInDay  Month  \\\n",
       "0  360.0      3   8.1          Room                Long   Saturday      9   \n",
       "\n",
       "   Day Season  DistanceToAirport ReviewRating  ReviewRatingVec  Starsvec  \\\n",
       "0    4   Fall          32.310127         Good                3         2   \n",
       "\n",
       "   ResidenceTypevec  Closness_to_Airportvec  CheckInDayvec  WeekDay  \\\n",
       "0                 1                       2              6  Weekend   \n",
       "\n",
       "   SeasonVec  WeekDayVec  \n",
       "0          3           1  "
      ]
     },
     "execution_count": 28,
     "metadata": {},
     "output_type": "execute_result"
    }
   ],
   "source": [
    "Bookingcopyver2.head(1)"
   ]
  },
  {
   "cell_type": "code",
   "execution_count": 29,
   "metadata": {},
   "outputs": [
    {
     "data": {
      "text/plain": [
       "2    48847\n",
       "3    44136\n",
       "4    11372\n",
       "1     1032\n",
       "0      281\n",
       "Name: Starsvec, dtype: int64"
      ]
     },
     "execution_count": 29,
     "metadata": {},
     "output_type": "execute_result"
    }
   ],
   "source": [
    "Bookingcopyver2[\"Starsvec\"].value_counts()"
   ]
  },
  {
   "cell_type": "code",
   "execution_count": 30,
   "metadata": {},
   "outputs": [
    {
     "data": {
      "text/plain": [
       "Index(['Price', 'Stars', 'Rate', 'ResidenceType', 'Closness_to_Airport',\n",
       "       'CheckInDay', 'Month', 'Day', 'Season', 'DistanceToAirport',\n",
       "       'ReviewRating', 'ReviewRatingVec', 'Starsvec', 'ResidenceTypevec',\n",
       "       'Closness_to_Airportvec', 'CheckInDayvec', 'WeekDay', 'SeasonVec',\n",
       "       'WeekDayVec'],\n",
       "      dtype='object')"
      ]
     },
     "execution_count": 30,
     "metadata": {},
     "output_type": "execute_result"
    }
   ],
   "source": [
    "Bookingcopyver2.columns"
   ]
  },
  {
   "cell_type": "code",
   "execution_count": 31,
   "metadata": {},
   "outputs": [
    {
     "data": {
      "text/html": [
       "<div>\n",
       "<style scoped>\n",
       "    .dataframe tbody tr th:only-of-type {\n",
       "        vertical-align: middle;\n",
       "    }\n",
       "\n",
       "    .dataframe tbody tr th {\n",
       "        vertical-align: top;\n",
       "    }\n",
       "\n",
       "    .dataframe thead th {\n",
       "        text-align: right;\n",
       "    }\n",
       "</style>\n",
       "<table border=\"1\" class=\"dataframe\">\n",
       "  <thead>\n",
       "    <tr style=\"text-align: right;\">\n",
       "      <th></th>\n",
       "      <th>ReviewRating</th>\n",
       "      <th>Stars</th>\n",
       "      <th>ResidenceType</th>\n",
       "      <th>Closness_to_Airport</th>\n",
       "      <th>WeekDay</th>\n",
       "      <th>Season</th>\n",
       "    </tr>\n",
       "  </thead>\n",
       "  <tbody>\n",
       "    <tr>\n",
       "      <th>0</th>\n",
       "      <td>Good</td>\n",
       "      <td>3</td>\n",
       "      <td>Room</td>\n",
       "      <td>Long</td>\n",
       "      <td>Weekend</td>\n",
       "      <td>Fall</td>\n",
       "    </tr>\n",
       "    <tr>\n",
       "      <th>1</th>\n",
       "      <td>Good</td>\n",
       "      <td>3</td>\n",
       "      <td>Room</td>\n",
       "      <td>Medium</td>\n",
       "      <td>Weekend</td>\n",
       "      <td>Fall</td>\n",
       "    </tr>\n",
       "    <tr>\n",
       "      <th>2</th>\n",
       "      <td>Good</td>\n",
       "      <td>4</td>\n",
       "      <td>Room</td>\n",
       "      <td>Long</td>\n",
       "      <td>Weekend</td>\n",
       "      <td>Fall</td>\n",
       "    </tr>\n",
       "    <tr>\n",
       "      <th>3</th>\n",
       "      <td>Pleasent</td>\n",
       "      <td>3</td>\n",
       "      <td>Studio</td>\n",
       "      <td>Long</td>\n",
       "      <td>Weekend</td>\n",
       "      <td>Fall</td>\n",
       "    </tr>\n",
       "    <tr>\n",
       "      <th>4</th>\n",
       "      <td>Pleasent</td>\n",
       "      <td>3</td>\n",
       "      <td>Room</td>\n",
       "      <td>Long</td>\n",
       "      <td>Weekend</td>\n",
       "      <td>Fall</td>\n",
       "    </tr>\n",
       "    <tr>\n",
       "      <th>...</th>\n",
       "      <td>...</td>\n",
       "      <td>...</td>\n",
       "      <td>...</td>\n",
       "      <td>...</td>\n",
       "      <td>...</td>\n",
       "      <td>...</td>\n",
       "    </tr>\n",
       "    <tr>\n",
       "      <th>105663</th>\n",
       "      <td>Wonerful</td>\n",
       "      <td>4</td>\n",
       "      <td>Apartment</td>\n",
       "      <td>Medium</td>\n",
       "      <td>Weekend</td>\n",
       "      <td>Fall</td>\n",
       "    </tr>\n",
       "    <tr>\n",
       "      <th>105664</th>\n",
       "      <td>Pleasent</td>\n",
       "      <td>3</td>\n",
       "      <td>Apartment</td>\n",
       "      <td>Medium</td>\n",
       "      <td>Weekend</td>\n",
       "      <td>Fall</td>\n",
       "    </tr>\n",
       "    <tr>\n",
       "      <th>105665</th>\n",
       "      <td>Fair</td>\n",
       "      <td>4</td>\n",
       "      <td>Apartment</td>\n",
       "      <td>Medium</td>\n",
       "      <td>Weekend</td>\n",
       "      <td>Fall</td>\n",
       "    </tr>\n",
       "    <tr>\n",
       "      <th>105666</th>\n",
       "      <td>Good</td>\n",
       "      <td>3</td>\n",
       "      <td>Studio</td>\n",
       "      <td>Medium</td>\n",
       "      <td>Weekend</td>\n",
       "      <td>Fall</td>\n",
       "    </tr>\n",
       "    <tr>\n",
       "      <th>105667</th>\n",
       "      <td>Wonerful</td>\n",
       "      <td>4</td>\n",
       "      <td>Apartment</td>\n",
       "      <td>Short</td>\n",
       "      <td>Weekend</td>\n",
       "      <td>Fall</td>\n",
       "    </tr>\n",
       "  </tbody>\n",
       "</table>\n",
       "<p>105668 rows × 6 columns</p>\n",
       "</div>"
      ],
      "text/plain": [
       "       ReviewRating  Stars ResidenceType Closness_to_Airport  WeekDay Season\n",
       "0              Good      3          Room                Long  Weekend   Fall\n",
       "1              Good      3          Room              Medium  Weekend   Fall\n",
       "2              Good      4          Room                Long  Weekend   Fall\n",
       "3          Pleasent      3        Studio                Long  Weekend   Fall\n",
       "4          Pleasent      3          Room                Long  Weekend   Fall\n",
       "...             ...    ...           ...                 ...      ...    ...\n",
       "105663     Wonerful      4     Apartment              Medium  Weekend   Fall\n",
       "105664     Pleasent      3     Apartment              Medium  Weekend   Fall\n",
       "105665         Fair      4     Apartment              Medium  Weekend   Fall\n",
       "105666         Good      3        Studio              Medium  Weekend   Fall\n",
       "105667     Wonerful      4     Apartment               Short  Weekend   Fall\n",
       "\n",
       "[105668 rows x 6 columns]"
      ]
     },
     "execution_count": 31,
     "metadata": {},
     "output_type": "execute_result"
    }
   ],
   "source": [
    "### Categorical \n",
    "Bookingcopyver2[[\"ReviewRating\",\"Stars\",\"ResidenceType\",\"Closness_to_Airport\",\"WeekDay\",\"Season\"]]"
   ]
  },
  {
   "cell_type": "code",
   "execution_count": 32,
   "metadata": {
    "colab": {
     "base_uri": "https://localhost:8080/",
     "height": 207
    },
    "id": "l1R8MO6Gx6DZ",
    "outputId": "05da9518-ee4b-48ff-81a4-a33df77323f3",
    "scrolled": true
   },
   "outputs": [
    {
     "data": {
      "text/html": [
       "<div>\n",
       "<style scoped>\n",
       "    .dataframe tbody tr th:only-of-type {\n",
       "        vertical-align: middle;\n",
       "    }\n",
       "\n",
       "    .dataframe tbody tr th {\n",
       "        vertical-align: top;\n",
       "    }\n",
       "\n",
       "    .dataframe thead th {\n",
       "        text-align: right;\n",
       "    }\n",
       "</style>\n",
       "<table border=\"1\" class=\"dataframe\">\n",
       "  <thead>\n",
       "    <tr style=\"text-align: right;\">\n",
       "      <th></th>\n",
       "      <th>Price</th>\n",
       "      <th>Stars</th>\n",
       "      <th>Rate</th>\n",
       "      <th>ResidenceType</th>\n",
       "      <th>Closness_to_Airport</th>\n",
       "      <th>CheckInDay</th>\n",
       "      <th>Month</th>\n",
       "      <th>Day</th>\n",
       "      <th>Season</th>\n",
       "      <th>DistanceToAirport</th>\n",
       "      <th>ReviewRating</th>\n",
       "      <th>ReviewRatingVec</th>\n",
       "      <th>Starsvec</th>\n",
       "      <th>ResidenceTypevec</th>\n",
       "      <th>Closness_to_Airportvec</th>\n",
       "      <th>CheckInDayvec</th>\n",
       "      <th>WeekDay</th>\n",
       "      <th>SeasonVec</th>\n",
       "      <th>WeekDayVec</th>\n",
       "    </tr>\n",
       "  </thead>\n",
       "  <tbody>\n",
       "    <tr>\n",
       "      <th>0</th>\n",
       "      <td>360.00</td>\n",
       "      <td>3</td>\n",
       "      <td>8.1</td>\n",
       "      <td>Room</td>\n",
       "      <td>Long</td>\n",
       "      <td>Saturday</td>\n",
       "      <td>9</td>\n",
       "      <td>4</td>\n",
       "      <td>Fall</td>\n",
       "      <td>32.310127</td>\n",
       "      <td>Good</td>\n",
       "      <td>3</td>\n",
       "      <td>2</td>\n",
       "      <td>1</td>\n",
       "      <td>2</td>\n",
       "      <td>6</td>\n",
       "      <td>Weekend</td>\n",
       "      <td>3</td>\n",
       "      <td>1</td>\n",
       "    </tr>\n",
       "    <tr>\n",
       "      <th>1</th>\n",
       "      <td>281.25</td>\n",
       "      <td>3</td>\n",
       "      <td>7.3</td>\n",
       "      <td>Room</td>\n",
       "      <td>Medium</td>\n",
       "      <td>Saturday</td>\n",
       "      <td>9</td>\n",
       "      <td>4</td>\n",
       "      <td>Fall</td>\n",
       "      <td>22.247344</td>\n",
       "      <td>Good</td>\n",
       "      <td>3</td>\n",
       "      <td>2</td>\n",
       "      <td>1</td>\n",
       "      <td>1</td>\n",
       "      <td>6</td>\n",
       "      <td>Weekend</td>\n",
       "      <td>3</td>\n",
       "      <td>1</td>\n",
       "    </tr>\n",
       "    <tr>\n",
       "      <th>2</th>\n",
       "      <td>348.75</td>\n",
       "      <td>4</td>\n",
       "      <td>8.6</td>\n",
       "      <td>Room</td>\n",
       "      <td>Long</td>\n",
       "      <td>Saturday</td>\n",
       "      <td>9</td>\n",
       "      <td>4</td>\n",
       "      <td>Fall</td>\n",
       "      <td>23.234800</td>\n",
       "      <td>Good</td>\n",
       "      <td>3</td>\n",
       "      <td>3</td>\n",
       "      <td>1</td>\n",
       "      <td>2</td>\n",
       "      <td>6</td>\n",
       "      <td>Weekend</td>\n",
       "      <td>3</td>\n",
       "      <td>1</td>\n",
       "    </tr>\n",
       "    <tr>\n",
       "      <th>3</th>\n",
       "      <td>172.50</td>\n",
       "      <td>3</td>\n",
       "      <td>6.6</td>\n",
       "      <td>Studio</td>\n",
       "      <td>Long</td>\n",
       "      <td>Saturday</td>\n",
       "      <td>9</td>\n",
       "      <td>4</td>\n",
       "      <td>Fall</td>\n",
       "      <td>33.514213</td>\n",
       "      <td>Pleasent</td>\n",
       "      <td>2</td>\n",
       "      <td>2</td>\n",
       "      <td>0</td>\n",
       "      <td>2</td>\n",
       "      <td>6</td>\n",
       "      <td>Weekend</td>\n",
       "      <td>3</td>\n",
       "      <td>1</td>\n",
       "    </tr>\n",
       "    <tr>\n",
       "      <th>4</th>\n",
       "      <td>135.00</td>\n",
       "      <td>3</td>\n",
       "      <td>5.5</td>\n",
       "      <td>Room</td>\n",
       "      <td>Long</td>\n",
       "      <td>Saturday</td>\n",
       "      <td>9</td>\n",
       "      <td>4</td>\n",
       "      <td>Fall</td>\n",
       "      <td>33.941213</td>\n",
       "      <td>Pleasent</td>\n",
       "      <td>2</td>\n",
       "      <td>2</td>\n",
       "      <td>1</td>\n",
       "      <td>2</td>\n",
       "      <td>6</td>\n",
       "      <td>Weekend</td>\n",
       "      <td>3</td>\n",
       "      <td>1</td>\n",
       "    </tr>\n",
       "  </tbody>\n",
       "</table>\n",
       "</div>"
      ],
      "text/plain": [
       "    Price  Stars  Rate ResidenceType Closness_to_Airport CheckInDay  Month  \\\n",
       "0  360.00      3   8.1          Room                Long   Saturday      9   \n",
       "1  281.25      3   7.3          Room              Medium   Saturday      9   \n",
       "2  348.75      4   8.6          Room                Long   Saturday      9   \n",
       "3  172.50      3   6.6        Studio                Long   Saturday      9   \n",
       "4  135.00      3   5.5          Room                Long   Saturday      9   \n",
       "\n",
       "   Day Season  DistanceToAirport ReviewRating  ReviewRatingVec  Starsvec  \\\n",
       "0    4   Fall          32.310127         Good                3         2   \n",
       "1    4   Fall          22.247344         Good                3         2   \n",
       "2    4   Fall          23.234800         Good                3         3   \n",
       "3    4   Fall          33.514213     Pleasent                2         2   \n",
       "4    4   Fall          33.941213     Pleasent                2         2   \n",
       "\n",
       "   ResidenceTypevec  Closness_to_Airportvec  CheckInDayvec  WeekDay  \\\n",
       "0                 1                       2              6  Weekend   \n",
       "1                 1                       1              6  Weekend   \n",
       "2                 1                       2              6  Weekend   \n",
       "3                 0                       2              6  Weekend   \n",
       "4                 1                       2              6  Weekend   \n",
       "\n",
       "   SeasonVec  WeekDayVec  \n",
       "0          3           1  \n",
       "1          3           1  \n",
       "2          3           1  \n",
       "3          3           1  \n",
       "4          3           1  "
      ]
     },
     "execution_count": 32,
     "metadata": {},
     "output_type": "execute_result"
    }
   ],
   "source": [
    "Bookingcopyver2.head()"
   ]
  },
  {
   "cell_type": "markdown",
   "metadata": {},
   "source": [
    "# Prepare the dataset for ML models"
   ]
  },
  {
   "cell_type": "code",
   "execution_count": 33,
   "metadata": {
    "colab": {
     "base_uri": "https://localhost:8080/",
     "height": 207
    },
    "id": "ttVhPHzDd863",
    "outputId": "7e394285-9b58-4368-d558-e76ab768efaf"
   },
   "outputs": [
    {
     "data": {
      "text/html": [
       "<div>\n",
       "<style scoped>\n",
       "    .dataframe tbody tr th:only-of-type {\n",
       "        vertical-align: middle;\n",
       "    }\n",
       "\n",
       "    .dataframe tbody tr th {\n",
       "        vertical-align: top;\n",
       "    }\n",
       "\n",
       "    .dataframe thead th {\n",
       "        text-align: right;\n",
       "    }\n",
       "</style>\n",
       "<table border=\"1\" class=\"dataframe\">\n",
       "  <thead>\n",
       "    <tr style=\"text-align: right;\">\n",
       "      <th></th>\n",
       "      <th>Price</th>\n",
       "      <th>Stars</th>\n",
       "      <th>Rate</th>\n",
       "      <th>Month</th>\n",
       "      <th>Day</th>\n",
       "      <th>DistanceToAirport</th>\n",
       "      <th>ReviewRatingVec</th>\n",
       "      <th>Starsvec</th>\n",
       "      <th>ResidenceTypevec</th>\n",
       "      <th>Closness_to_Airportvec</th>\n",
       "      <th>CheckInDayvec</th>\n",
       "      <th>SeasonVec</th>\n",
       "      <th>WeekDayVec</th>\n",
       "    </tr>\n",
       "  </thead>\n",
       "  <tbody>\n",
       "    <tr>\n",
       "      <th>0</th>\n",
       "      <td>360.00</td>\n",
       "      <td>3</td>\n",
       "      <td>8.1</td>\n",
       "      <td>9</td>\n",
       "      <td>4</td>\n",
       "      <td>32.310127</td>\n",
       "      <td>3</td>\n",
       "      <td>2</td>\n",
       "      <td>1</td>\n",
       "      <td>2</td>\n",
       "      <td>6</td>\n",
       "      <td>3</td>\n",
       "      <td>1</td>\n",
       "    </tr>\n",
       "    <tr>\n",
       "      <th>1</th>\n",
       "      <td>281.25</td>\n",
       "      <td>3</td>\n",
       "      <td>7.3</td>\n",
       "      <td>9</td>\n",
       "      <td>4</td>\n",
       "      <td>22.247344</td>\n",
       "      <td>3</td>\n",
       "      <td>2</td>\n",
       "      <td>1</td>\n",
       "      <td>1</td>\n",
       "      <td>6</td>\n",
       "      <td>3</td>\n",
       "      <td>1</td>\n",
       "    </tr>\n",
       "    <tr>\n",
       "      <th>2</th>\n",
       "      <td>348.75</td>\n",
       "      <td>4</td>\n",
       "      <td>8.6</td>\n",
       "      <td>9</td>\n",
       "      <td>4</td>\n",
       "      <td>23.234800</td>\n",
       "      <td>3</td>\n",
       "      <td>3</td>\n",
       "      <td>1</td>\n",
       "      <td>2</td>\n",
       "      <td>6</td>\n",
       "      <td>3</td>\n",
       "      <td>1</td>\n",
       "    </tr>\n",
       "    <tr>\n",
       "      <th>3</th>\n",
       "      <td>172.50</td>\n",
       "      <td>3</td>\n",
       "      <td>6.6</td>\n",
       "      <td>9</td>\n",
       "      <td>4</td>\n",
       "      <td>33.514213</td>\n",
       "      <td>2</td>\n",
       "      <td>2</td>\n",
       "      <td>0</td>\n",
       "      <td>2</td>\n",
       "      <td>6</td>\n",
       "      <td>3</td>\n",
       "      <td>1</td>\n",
       "    </tr>\n",
       "    <tr>\n",
       "      <th>4</th>\n",
       "      <td>135.00</td>\n",
       "      <td>3</td>\n",
       "      <td>5.5</td>\n",
       "      <td>9</td>\n",
       "      <td>4</td>\n",
       "      <td>33.941213</td>\n",
       "      <td>2</td>\n",
       "      <td>2</td>\n",
       "      <td>1</td>\n",
       "      <td>2</td>\n",
       "      <td>6</td>\n",
       "      <td>3</td>\n",
       "      <td>1</td>\n",
       "    </tr>\n",
       "    <tr>\n",
       "      <th>...</th>\n",
       "      <td>...</td>\n",
       "      <td>...</td>\n",
       "      <td>...</td>\n",
       "      <td>...</td>\n",
       "      <td>...</td>\n",
       "      <td>...</td>\n",
       "      <td>...</td>\n",
       "      <td>...</td>\n",
       "      <td>...</td>\n",
       "      <td>...</td>\n",
       "      <td>...</td>\n",
       "      <td>...</td>\n",
       "      <td>...</td>\n",
       "    </tr>\n",
       "    <tr>\n",
       "      <th>105663</th>\n",
       "      <td>1121.25</td>\n",
       "      <td>4</td>\n",
       "      <td>10.0</td>\n",
       "      <td>9</td>\n",
       "      <td>2</td>\n",
       "      <td>18.723535</td>\n",
       "      <td>4</td>\n",
       "      <td>3</td>\n",
       "      <td>2</td>\n",
       "      <td>1</td>\n",
       "      <td>5</td>\n",
       "      <td>3</td>\n",
       "      <td>1</td>\n",
       "    </tr>\n",
       "    <tr>\n",
       "      <th>105664</th>\n",
       "      <td>1233.75</td>\n",
       "      <td>3</td>\n",
       "      <td>6.7</td>\n",
       "      <td>9</td>\n",
       "      <td>2</td>\n",
       "      <td>20.986195</td>\n",
       "      <td>2</td>\n",
       "      <td>2</td>\n",
       "      <td>2</td>\n",
       "      <td>1</td>\n",
       "      <td>5</td>\n",
       "      <td>3</td>\n",
       "      <td>1</td>\n",
       "    </tr>\n",
       "    <tr>\n",
       "      <th>105665</th>\n",
       "      <td>1233.75</td>\n",
       "      <td>4</td>\n",
       "      <td>4.5</td>\n",
       "      <td>9</td>\n",
       "      <td>2</td>\n",
       "      <td>20.986195</td>\n",
       "      <td>1</td>\n",
       "      <td>3</td>\n",
       "      <td>2</td>\n",
       "      <td>1</td>\n",
       "      <td>5</td>\n",
       "      <td>3</td>\n",
       "      <td>1</td>\n",
       "    </tr>\n",
       "    <tr>\n",
       "      <th>105666</th>\n",
       "      <td>240.00</td>\n",
       "      <td>3</td>\n",
       "      <td>7.7</td>\n",
       "      <td>9</td>\n",
       "      <td>2</td>\n",
       "      <td>19.326650</td>\n",
       "      <td>3</td>\n",
       "      <td>2</td>\n",
       "      <td>0</td>\n",
       "      <td>1</td>\n",
       "      <td>5</td>\n",
       "      <td>3</td>\n",
       "      <td>1</td>\n",
       "    </tr>\n",
       "    <tr>\n",
       "      <th>105667</th>\n",
       "      <td>1533.75</td>\n",
       "      <td>4</td>\n",
       "      <td>10.0</td>\n",
       "      <td>9</td>\n",
       "      <td>2</td>\n",
       "      <td>11.508278</td>\n",
       "      <td>4</td>\n",
       "      <td>3</td>\n",
       "      <td>2</td>\n",
       "      <td>0</td>\n",
       "      <td>5</td>\n",
       "      <td>3</td>\n",
       "      <td>1</td>\n",
       "    </tr>\n",
       "  </tbody>\n",
       "</table>\n",
       "<p>105668 rows × 13 columns</p>\n",
       "</div>"
      ],
      "text/plain": [
       "          Price  Stars  Rate  Month  Day  DistanceToAirport  ReviewRatingVec  \\\n",
       "0        360.00      3   8.1      9    4          32.310127                3   \n",
       "1        281.25      3   7.3      9    4          22.247344                3   \n",
       "2        348.75      4   8.6      9    4          23.234800                3   \n",
       "3        172.50      3   6.6      9    4          33.514213                2   \n",
       "4        135.00      3   5.5      9    4          33.941213                2   \n",
       "...         ...    ...   ...    ...  ...                ...              ...   \n",
       "105663  1121.25      4  10.0      9    2          18.723535                4   \n",
       "105664  1233.75      3   6.7      9    2          20.986195                2   \n",
       "105665  1233.75      4   4.5      9    2          20.986195                1   \n",
       "105666   240.00      3   7.7      9    2          19.326650                3   \n",
       "105667  1533.75      4  10.0      9    2          11.508278                4   \n",
       "\n",
       "        Starsvec  ResidenceTypevec  Closness_to_Airportvec  CheckInDayvec  \\\n",
       "0              2                 1                       2              6   \n",
       "1              2                 1                       1              6   \n",
       "2              3                 1                       2              6   \n",
       "3              2                 0                       2              6   \n",
       "4              2                 1                       2              6   \n",
       "...          ...               ...                     ...            ...   \n",
       "105663         3                 2                       1              5   \n",
       "105664         2                 2                       1              5   \n",
       "105665         3                 2                       1              5   \n",
       "105666         2                 0                       1              5   \n",
       "105667         3                 2                       0              5   \n",
       "\n",
       "        SeasonVec  WeekDayVec  \n",
       "0               3           1  \n",
       "1               3           1  \n",
       "2               3           1  \n",
       "3               3           1  \n",
       "4               3           1  \n",
       "...           ...         ...  \n",
       "105663          3           1  \n",
       "105664          3           1  \n",
       "105665          3           1  \n",
       "105666          3           1  \n",
       "105667          3           1  \n",
       "\n",
       "[105668 rows x 13 columns]"
      ]
     },
     "execution_count": 33,
     "metadata": {},
     "output_type": "execute_result"
    }
   ],
   "source": [
    "BookingML=Bookingcopyver2\n",
    "cols=['ResidenceType','Closness_to_Airport','CheckInDay','Season','ReviewRating','WeekDay']\n",
    "BookingML=BookingML.drop(cols, axis=1)\n",
    "BookingML"
   ]
  },
  {
   "cell_type": "code",
   "execution_count": 34,
   "metadata": {},
   "outputs": [
    {
     "data": {
      "text/plain": [
       "Price                     0\n",
       "Stars                     0\n",
       "Rate                      0\n",
       "Month                     0\n",
       "Day                       0\n",
       "DistanceToAirport         0\n",
       "ReviewRatingVec           0\n",
       "Starsvec                  0\n",
       "ResidenceTypevec          0\n",
       "Closness_to_Airportvec    0\n",
       "CheckInDayvec             0\n",
       "SeasonVec                 0\n",
       "WeekDayVec                0\n",
       "dtype: int64"
      ]
     },
     "execution_count": 34,
     "metadata": {},
     "output_type": "execute_result"
    }
   ],
   "source": [
    "BookingML.isnull().sum()"
   ]
  },
  {
   "cell_type": "markdown",
   "metadata": {},
   "source": [
    "#### Datasets for Regression"
   ]
  },
  {
   "cell_type": "code",
   "execution_count": 35,
   "metadata": {
    "id": "d-4W967Y8vfs"
   },
   "outputs": [],
   "source": [
    "#Bookingcopyver2['ResidenceTypevec'] = Bookingcopyver2['ResidenceType']\n",
    "#.map({'Studio': 0, 'Room': 1, \"Apartment\":2, \"Suite\":3,\"Chalet\":4, \"House\":5})\n",
    "Room=BookingML[BookingML['ResidenceTypevec']==1]\n",
    "Studio=BookingML[BookingML['ResidenceTypevec']==0]\n",
    "Suite=BookingML[BookingML['ResidenceTypevec']==3]"
   ]
  },
  {
   "cell_type": "markdown",
   "metadata": {},
   "source": [
    "-------"
   ]
  },
  {
   "cell_type": "markdown",
   "metadata": {},
   "source": [
    "### Datasets for Classification "
   ]
  },
  {
   "cell_type": "code",
   "execution_count": 36,
   "metadata": {},
   "outputs": [
    {
     "data": {
      "text/html": [
       "<div>\n",
       "<style scoped>\n",
       "    .dataframe tbody tr th:only-of-type {\n",
       "        vertical-align: middle;\n",
       "    }\n",
       "\n",
       "    .dataframe tbody tr th {\n",
       "        vertical-align: top;\n",
       "    }\n",
       "\n",
       "    .dataframe thead th {\n",
       "        text-align: right;\n",
       "    }\n",
       "</style>\n",
       "<table border=\"1\" class=\"dataframe\">\n",
       "  <thead>\n",
       "    <tr style=\"text-align: right;\">\n",
       "      <th></th>\n",
       "      <th>Price</th>\n",
       "      <th>Stars</th>\n",
       "      <th>Rate</th>\n",
       "      <th>Month</th>\n",
       "      <th>Day</th>\n",
       "      <th>DistanceToAirport</th>\n",
       "      <th>ReviewRatingVec</th>\n",
       "      <th>Starsvec</th>\n",
       "      <th>ResidenceTypevec</th>\n",
       "      <th>Closness_to_Airportvec</th>\n",
       "      <th>CheckInDayvec</th>\n",
       "      <th>SeasonVec</th>\n",
       "      <th>WeekDayVec</th>\n",
       "    </tr>\n",
       "  </thead>\n",
       "  <tbody>\n",
       "    <tr>\n",
       "      <th>0</th>\n",
       "      <td>360.00</td>\n",
       "      <td>3</td>\n",
       "      <td>8.1</td>\n",
       "      <td>9</td>\n",
       "      <td>4</td>\n",
       "      <td>32.310127</td>\n",
       "      <td>3</td>\n",
       "      <td>2</td>\n",
       "      <td>1</td>\n",
       "      <td>2</td>\n",
       "      <td>6</td>\n",
       "      <td>3</td>\n",
       "      <td>1</td>\n",
       "    </tr>\n",
       "    <tr>\n",
       "      <th>1</th>\n",
       "      <td>281.25</td>\n",
       "      <td>3</td>\n",
       "      <td>7.3</td>\n",
       "      <td>9</td>\n",
       "      <td>4</td>\n",
       "      <td>22.247344</td>\n",
       "      <td>3</td>\n",
       "      <td>2</td>\n",
       "      <td>1</td>\n",
       "      <td>1</td>\n",
       "      <td>6</td>\n",
       "      <td>3</td>\n",
       "      <td>1</td>\n",
       "    </tr>\n",
       "    <tr>\n",
       "      <th>2</th>\n",
       "      <td>348.75</td>\n",
       "      <td>4</td>\n",
       "      <td>8.6</td>\n",
       "      <td>9</td>\n",
       "      <td>4</td>\n",
       "      <td>23.234800</td>\n",
       "      <td>3</td>\n",
       "      <td>3</td>\n",
       "      <td>1</td>\n",
       "      <td>2</td>\n",
       "      <td>6</td>\n",
       "      <td>3</td>\n",
       "      <td>1</td>\n",
       "    </tr>\n",
       "    <tr>\n",
       "      <th>3</th>\n",
       "      <td>172.50</td>\n",
       "      <td>3</td>\n",
       "      <td>6.6</td>\n",
       "      <td>9</td>\n",
       "      <td>4</td>\n",
       "      <td>33.514213</td>\n",
       "      <td>2</td>\n",
       "      <td>2</td>\n",
       "      <td>0</td>\n",
       "      <td>2</td>\n",
       "      <td>6</td>\n",
       "      <td>3</td>\n",
       "      <td>1</td>\n",
       "    </tr>\n",
       "    <tr>\n",
       "      <th>4</th>\n",
       "      <td>135.00</td>\n",
       "      <td>3</td>\n",
       "      <td>5.5</td>\n",
       "      <td>9</td>\n",
       "      <td>4</td>\n",
       "      <td>33.941213</td>\n",
       "      <td>2</td>\n",
       "      <td>2</td>\n",
       "      <td>1</td>\n",
       "      <td>2</td>\n",
       "      <td>6</td>\n",
       "      <td>3</td>\n",
       "      <td>1</td>\n",
       "    </tr>\n",
       "    <tr>\n",
       "      <th>...</th>\n",
       "      <td>...</td>\n",
       "      <td>...</td>\n",
       "      <td>...</td>\n",
       "      <td>...</td>\n",
       "      <td>...</td>\n",
       "      <td>...</td>\n",
       "      <td>...</td>\n",
       "      <td>...</td>\n",
       "      <td>...</td>\n",
       "      <td>...</td>\n",
       "      <td>...</td>\n",
       "      <td>...</td>\n",
       "      <td>...</td>\n",
       "    </tr>\n",
       "    <tr>\n",
       "      <th>105663</th>\n",
       "      <td>1121.25</td>\n",
       "      <td>4</td>\n",
       "      <td>10.0</td>\n",
       "      <td>9</td>\n",
       "      <td>2</td>\n",
       "      <td>18.723535</td>\n",
       "      <td>4</td>\n",
       "      <td>3</td>\n",
       "      <td>2</td>\n",
       "      <td>1</td>\n",
       "      <td>5</td>\n",
       "      <td>3</td>\n",
       "      <td>1</td>\n",
       "    </tr>\n",
       "    <tr>\n",
       "      <th>105664</th>\n",
       "      <td>1233.75</td>\n",
       "      <td>3</td>\n",
       "      <td>6.7</td>\n",
       "      <td>9</td>\n",
       "      <td>2</td>\n",
       "      <td>20.986195</td>\n",
       "      <td>2</td>\n",
       "      <td>2</td>\n",
       "      <td>2</td>\n",
       "      <td>1</td>\n",
       "      <td>5</td>\n",
       "      <td>3</td>\n",
       "      <td>1</td>\n",
       "    </tr>\n",
       "    <tr>\n",
       "      <th>105665</th>\n",
       "      <td>1233.75</td>\n",
       "      <td>4</td>\n",
       "      <td>4.5</td>\n",
       "      <td>9</td>\n",
       "      <td>2</td>\n",
       "      <td>20.986195</td>\n",
       "      <td>1</td>\n",
       "      <td>3</td>\n",
       "      <td>2</td>\n",
       "      <td>1</td>\n",
       "      <td>5</td>\n",
       "      <td>3</td>\n",
       "      <td>1</td>\n",
       "    </tr>\n",
       "    <tr>\n",
       "      <th>105666</th>\n",
       "      <td>240.00</td>\n",
       "      <td>3</td>\n",
       "      <td>7.7</td>\n",
       "      <td>9</td>\n",
       "      <td>2</td>\n",
       "      <td>19.326650</td>\n",
       "      <td>3</td>\n",
       "      <td>2</td>\n",
       "      <td>0</td>\n",
       "      <td>1</td>\n",
       "      <td>5</td>\n",
       "      <td>3</td>\n",
       "      <td>1</td>\n",
       "    </tr>\n",
       "    <tr>\n",
       "      <th>105667</th>\n",
       "      <td>1533.75</td>\n",
       "      <td>4</td>\n",
       "      <td>10.0</td>\n",
       "      <td>9</td>\n",
       "      <td>2</td>\n",
       "      <td>11.508278</td>\n",
       "      <td>4</td>\n",
       "      <td>3</td>\n",
       "      <td>2</td>\n",
       "      <td>0</td>\n",
       "      <td>5</td>\n",
       "      <td>3</td>\n",
       "      <td>1</td>\n",
       "    </tr>\n",
       "  </tbody>\n",
       "</table>\n",
       "<p>105668 rows × 13 columns</p>\n",
       "</div>"
      ],
      "text/plain": [
       "          Price  Stars  Rate  Month  Day  DistanceToAirport  ReviewRatingVec  \\\n",
       "0        360.00      3   8.1      9    4          32.310127                3   \n",
       "1        281.25      3   7.3      9    4          22.247344                3   \n",
       "2        348.75      4   8.6      9    4          23.234800                3   \n",
       "3        172.50      3   6.6      9    4          33.514213                2   \n",
       "4        135.00      3   5.5      9    4          33.941213                2   \n",
       "...         ...    ...   ...    ...  ...                ...              ...   \n",
       "105663  1121.25      4  10.0      9    2          18.723535                4   \n",
       "105664  1233.75      3   6.7      9    2          20.986195                2   \n",
       "105665  1233.75      4   4.5      9    2          20.986195                1   \n",
       "105666   240.00      3   7.7      9    2          19.326650                3   \n",
       "105667  1533.75      4  10.0      9    2          11.508278                4   \n",
       "\n",
       "        Starsvec  ResidenceTypevec  Closness_to_Airportvec  CheckInDayvec  \\\n",
       "0              2                 1                       2              6   \n",
       "1              2                 1                       1              6   \n",
       "2              3                 1                       2              6   \n",
       "3              2                 0                       2              6   \n",
       "4              2                 1                       2              6   \n",
       "...          ...               ...                     ...            ...   \n",
       "105663         3                 2                       1              5   \n",
       "105664         2                 2                       1              5   \n",
       "105665         3                 2                       1              5   \n",
       "105666         2                 0                       1              5   \n",
       "105667         3                 2                       0              5   \n",
       "\n",
       "        SeasonVec  WeekDayVec  \n",
       "0               3           1  \n",
       "1               3           1  \n",
       "2               3           1  \n",
       "3               3           1  \n",
       "4               3           1  \n",
       "...           ...         ...  \n",
       "105663          3           1  \n",
       "105664          3           1  \n",
       "105665          3           1  \n",
       "105666          3           1  \n",
       "105667          3           1  \n",
       "\n",
       "[105668 rows x 13 columns]"
      ]
     },
     "execution_count": 36,
     "metadata": {},
     "output_type": "execute_result"
    }
   ],
   "source": [
    "BookingML"
   ]
  },
  {
   "cell_type": "code",
   "execution_count": 37,
   "metadata": {},
   "outputs": [],
   "source": [
    "#drop the continous columns\n",
    "cols=['DistanceToAirport',\"Rate\",\"Stars\",\"Day\"]\n",
    "BookingMLCat=BookingML.drop(cols, axis=1)"
   ]
  },
  {
   "cell_type": "code",
   "execution_count": 38,
   "metadata": {
    "scrolled": false
   },
   "outputs": [
    {
     "data": {
      "text/html": [
       "<div>\n",
       "<style scoped>\n",
       "    .dataframe tbody tr th:only-of-type {\n",
       "        vertical-align: middle;\n",
       "    }\n",
       "\n",
       "    .dataframe tbody tr th {\n",
       "        vertical-align: top;\n",
       "    }\n",
       "\n",
       "    .dataframe thead th {\n",
       "        text-align: right;\n",
       "    }\n",
       "</style>\n",
       "<table border=\"1\" class=\"dataframe\">\n",
       "  <thead>\n",
       "    <tr style=\"text-align: right;\">\n",
       "      <th></th>\n",
       "      <th>Price</th>\n",
       "      <th>Month</th>\n",
       "      <th>ReviewRatingVec</th>\n",
       "      <th>Starsvec</th>\n",
       "      <th>ResidenceTypevec</th>\n",
       "      <th>Closness_to_Airportvec</th>\n",
       "      <th>CheckInDayvec</th>\n",
       "      <th>SeasonVec</th>\n",
       "      <th>WeekDayVec</th>\n",
       "    </tr>\n",
       "  </thead>\n",
       "  <tbody>\n",
       "    <tr>\n",
       "      <th>0</th>\n",
       "      <td>360.00</td>\n",
       "      <td>9</td>\n",
       "      <td>3</td>\n",
       "      <td>2</td>\n",
       "      <td>1</td>\n",
       "      <td>2</td>\n",
       "      <td>6</td>\n",
       "      <td>3</td>\n",
       "      <td>1</td>\n",
       "    </tr>\n",
       "    <tr>\n",
       "      <th>1</th>\n",
       "      <td>281.25</td>\n",
       "      <td>9</td>\n",
       "      <td>3</td>\n",
       "      <td>2</td>\n",
       "      <td>1</td>\n",
       "      <td>1</td>\n",
       "      <td>6</td>\n",
       "      <td>3</td>\n",
       "      <td>1</td>\n",
       "    </tr>\n",
       "    <tr>\n",
       "      <th>2</th>\n",
       "      <td>348.75</td>\n",
       "      <td>9</td>\n",
       "      <td>3</td>\n",
       "      <td>3</td>\n",
       "      <td>1</td>\n",
       "      <td>2</td>\n",
       "      <td>6</td>\n",
       "      <td>3</td>\n",
       "      <td>1</td>\n",
       "    </tr>\n",
       "    <tr>\n",
       "      <th>3</th>\n",
       "      <td>172.50</td>\n",
       "      <td>9</td>\n",
       "      <td>2</td>\n",
       "      <td>2</td>\n",
       "      <td>0</td>\n",
       "      <td>2</td>\n",
       "      <td>6</td>\n",
       "      <td>3</td>\n",
       "      <td>1</td>\n",
       "    </tr>\n",
       "    <tr>\n",
       "      <th>4</th>\n",
       "      <td>135.00</td>\n",
       "      <td>9</td>\n",
       "      <td>2</td>\n",
       "      <td>2</td>\n",
       "      <td>1</td>\n",
       "      <td>2</td>\n",
       "      <td>6</td>\n",
       "      <td>3</td>\n",
       "      <td>1</td>\n",
       "    </tr>\n",
       "    <tr>\n",
       "      <th>...</th>\n",
       "      <td>...</td>\n",
       "      <td>...</td>\n",
       "      <td>...</td>\n",
       "      <td>...</td>\n",
       "      <td>...</td>\n",
       "      <td>...</td>\n",
       "      <td>...</td>\n",
       "      <td>...</td>\n",
       "      <td>...</td>\n",
       "    </tr>\n",
       "    <tr>\n",
       "      <th>105663</th>\n",
       "      <td>1121.25</td>\n",
       "      <td>9</td>\n",
       "      <td>4</td>\n",
       "      <td>3</td>\n",
       "      <td>2</td>\n",
       "      <td>1</td>\n",
       "      <td>5</td>\n",
       "      <td>3</td>\n",
       "      <td>1</td>\n",
       "    </tr>\n",
       "    <tr>\n",
       "      <th>105664</th>\n",
       "      <td>1233.75</td>\n",
       "      <td>9</td>\n",
       "      <td>2</td>\n",
       "      <td>2</td>\n",
       "      <td>2</td>\n",
       "      <td>1</td>\n",
       "      <td>5</td>\n",
       "      <td>3</td>\n",
       "      <td>1</td>\n",
       "    </tr>\n",
       "    <tr>\n",
       "      <th>105665</th>\n",
       "      <td>1233.75</td>\n",
       "      <td>9</td>\n",
       "      <td>1</td>\n",
       "      <td>3</td>\n",
       "      <td>2</td>\n",
       "      <td>1</td>\n",
       "      <td>5</td>\n",
       "      <td>3</td>\n",
       "      <td>1</td>\n",
       "    </tr>\n",
       "    <tr>\n",
       "      <th>105666</th>\n",
       "      <td>240.00</td>\n",
       "      <td>9</td>\n",
       "      <td>3</td>\n",
       "      <td>2</td>\n",
       "      <td>0</td>\n",
       "      <td>1</td>\n",
       "      <td>5</td>\n",
       "      <td>3</td>\n",
       "      <td>1</td>\n",
       "    </tr>\n",
       "    <tr>\n",
       "      <th>105667</th>\n",
       "      <td>1533.75</td>\n",
       "      <td>9</td>\n",
       "      <td>4</td>\n",
       "      <td>3</td>\n",
       "      <td>2</td>\n",
       "      <td>0</td>\n",
       "      <td>5</td>\n",
       "      <td>3</td>\n",
       "      <td>1</td>\n",
       "    </tr>\n",
       "  </tbody>\n",
       "</table>\n",
       "<p>105668 rows × 9 columns</p>\n",
       "</div>"
      ],
      "text/plain": [
       "          Price  Month  ReviewRatingVec  Starsvec  ResidenceTypevec  \\\n",
       "0        360.00      9                3         2                 1   \n",
       "1        281.25      9                3         2                 1   \n",
       "2        348.75      9                3         3                 1   \n",
       "3        172.50      9                2         2                 0   \n",
       "4        135.00      9                2         2                 1   \n",
       "...         ...    ...              ...       ...               ...   \n",
       "105663  1121.25      9                4         3                 2   \n",
       "105664  1233.75      9                2         2                 2   \n",
       "105665  1233.75      9                1         3                 2   \n",
       "105666   240.00      9                3         2                 0   \n",
       "105667  1533.75      9                4         3                 2   \n",
       "\n",
       "        Closness_to_Airportvec  CheckInDayvec  SeasonVec  WeekDayVec  \n",
       "0                            2              6          3           1  \n",
       "1                            1              6          3           1  \n",
       "2                            2              6          3           1  \n",
       "3                            2              6          3           1  \n",
       "4                            2              6          3           1  \n",
       "...                        ...            ...        ...         ...  \n",
       "105663                       1              5          3           1  \n",
       "105664                       1              5          3           1  \n",
       "105665                       1              5          3           1  \n",
       "105666                       1              5          3           1  \n",
       "105667                       0              5          3           1  \n",
       "\n",
       "[105668 rows x 9 columns]"
      ]
     },
     "execution_count": 38,
     "metadata": {},
     "output_type": "execute_result"
    }
   ],
   "source": [
    "BookingMLCat"
   ]
  },
  {
   "cell_type": "markdown",
   "metadata": {},
   "source": [
    "### Classification of Closness to Airport column"
   ]
  },
  {
   "cell_type": "code",
   "execution_count": 39,
   "metadata": {},
   "outputs": [
    {
     "data": {
      "text/plain": [
       "2    0.479596\n",
       "1    0.443351\n",
       "0    0.077053\n",
       "Name: Closness_to_Airportvec, dtype: float64"
      ]
     },
     "execution_count": 39,
     "metadata": {},
     "output_type": "execute_result"
    }
   ],
   "source": [
    "# baseline\n",
    "BookingMLCat[\"Closness_to_Airportvec\"].value_counts(normalize=True)"
   ]
  },
  {
   "cell_type": "markdown",
   "metadata": {},
   "source": [
    "#### Logistic Regression"
   ]
  },
  {
   "cell_type": "code",
   "execution_count": 40,
   "metadata": {},
   "outputs": [],
   "source": [
    "target = \"Closness_to_Airportvec\"\n",
    "# feature set --> it cannot have the target \n",
    "X =BookingMLCat.drop(target, axis=1)\n",
    "# target set \n",
    "y = BookingMLCat[target]\n",
    "# split with  random_state= 42 and train size= 80% so the test size will be 20%\n",
    "X_train, X_test, y_train, y_test = train_test_split(X,y,train_size=0.8, random_state=42)"
   ]
  },
  {
   "cell_type": "code",
   "execution_count": 41,
   "metadata": {},
   "outputs": [],
   "source": [
    "# Instantiate Standard Scaler\n",
    "scaler = StandardScaler()\n",
    "# Fit & transform data.\n",
    "X_train_sc = scaler.fit_transform(X_train)\n",
    "\n",
    "X_test_sc = scaler.transform(X_test)"
   ]
  },
  {
   "cell_type": "code",
   "execution_count": 42,
   "metadata": {},
   "outputs": [
    {
     "data": {
      "text/plain": [
       "LogisticRegression(random_state=42)"
      ]
     },
     "execution_count": 42,
     "metadata": {},
     "output_type": "execute_result"
    }
   ],
   "source": [
    "Logisticclassifier = LogisticRegression(random_state = 42)\n",
    "Logisticclassifier.fit(X_train_sc, y_train)"
   ]
  },
  {
   "cell_type": "code",
   "execution_count": 43,
   "metadata": {},
   "outputs": [],
   "source": [
    "y_pred_Log = Logisticclassifier.predict(X_test_sc)"
   ]
  },
  {
   "cell_type": "code",
   "execution_count": 44,
   "metadata": {},
   "outputs": [
    {
     "data": {
      "text/plain": [
       "0.5915586259108545"
      ]
     },
     "execution_count": 44,
     "metadata": {},
     "output_type": "execute_result"
    }
   ],
   "source": [
    "Logisticclassifier.score(X_test_sc, y_test)"
   ]
  },
  {
   "cell_type": "code",
   "execution_count": 45,
   "metadata": {
    "scrolled": true
   },
   "outputs": [
    {
     "name": "stderr",
     "output_type": "stream",
     "text": [
      "/Users/shodz/opt/anaconda3/lib/python3.9/site-packages/sklearn/utils/deprecation.py:87: FutureWarning: Function plot_confusion_matrix is deprecated; Function `plot_confusion_matrix` is deprecated in 1.0 and will be removed in 1.2. Use one of the class methods: ConfusionMatrixDisplay.from_predictions or ConfusionMatrixDisplay.from_estimator.\n",
      "  warnings.warn(msg, category=FutureWarning)\n"
     ]
    },
    {
     "data": {
      "image/png": "[encoded data removed]",
      "text/plain": [
       "<Figure size 432x288 with 2 Axes>"
      ]
     },
     "metadata": {
      "needs_background": "light"
     },
     "output_type": "display_data"
    }
   ],
   "source": [
    "plot_confusion_matrix(Logisticclassifier, X_test_sc, y_test,cmap='Blues');"
   ]
  },
  {
   "cell_type": "markdown",
   "metadata": {},
   "source": [
    "#### Classification for AirportDistance (Random forest)"
   ]
  },
  {
   "cell_type": "code",
   "execution_count": 46,
   "metadata": {},
   "outputs": [],
   "source": [
    "#Classification for AirportDistance (Random forest)\n",
    "class_forest = RandomForestClassifier(n_estimators = 15, criterion = 'gini', random_state = 42, max_depth=8)\n",
    "class_forest.fit(X_train, y_train)\n",
    "preds_class_Rf = class_forest.predict(X_test)"
   ]
  },
  {
   "cell_type": "code",
   "execution_count": 47,
   "metadata": {},
   "outputs": [
    {
     "name": "stderr",
     "output_type": "stream",
     "text": [
      "/Users/shodz/opt/anaconda3/lib/python3.9/site-packages/sklearn/utils/deprecation.py:87: FutureWarning: Function plot_confusion_matrix is deprecated; Function `plot_confusion_matrix` is deprecated in 1.0 and will be removed in 1.2. Use one of the class methods: ConfusionMatrixDisplay.from_predictions or ConfusionMatrixDisplay.from_estimator.\n",
      "  warnings.warn(msg, category=FutureWarning)\n"
     ]
    },
    {
     "data": {
      "image/png": "[encoded data removed]",
      "text/plain": [
       "<Figure size 432x288 with 2 Axes>"
      ]
     },
     "metadata": {
      "needs_background": "light"
     },
     "output_type": "display_data"
    }
   ],
   "source": [
    "plot_confusion_matrix(class_forest, X_test, y_test,cmap='Blues');"
   ]
  },
  {
   "cell_type": "code",
   "execution_count": 48,
   "metadata": {},
   "outputs": [
    {
     "name": "stdout",
     "output_type": "stream",
     "text": [
      "              precision    recall  f1-score   support\n",
      "\n",
      "           0       0.99      0.30      0.46      1624\n",
      "           1       0.74      0.68      0.71      9376\n",
      "           2       0.72      0.85      0.78     10134\n",
      "\n",
      "    accuracy                           0.73     21134\n",
      "   macro avg       0.82      0.61      0.65     21134\n",
      "weighted avg       0.75      0.73      0.72     21134\n",
      "\n"
     ]
    }
   ],
   "source": [
    "print(classification_report(y_test,preds_class_Rf))"
   ]
  },
  {
   "cell_type": "markdown",
   "metadata": {},
   "source": [
    "#### Classification for Distance (XGBoost)"
   ]
  },
  {
   "cell_type": "code",
   "execution_count": 49,
   "metadata": {},
   "outputs": [],
   "source": [
    "# XGboost object\n",
    "classifier = XGBClassifier()\n",
    "#  fit the model of XGboost\n",
    "classifier.fit(X_train, y_train)\n",
    "y_pred_XGB = classifier.predict(X_test)"
   ]
  },
  {
   "cell_type": "code",
   "execution_count": 50,
   "metadata": {
    "id": "YCOreV2h8vhc"
   },
   "outputs": [
    {
     "name": "stderr",
     "output_type": "stream",
     "text": [
      "/Users/shodz/opt/anaconda3/lib/python3.9/site-packages/sklearn/utils/deprecation.py:87: FutureWarning: Function plot_confusion_matrix is deprecated; Function `plot_confusion_matrix` is deprecated in 1.0 and will be removed in 1.2. Use one of the class methods: ConfusionMatrixDisplay.from_predictions or ConfusionMatrixDisplay.from_estimator.\n",
      "  warnings.warn(msg, category=FutureWarning)\n"
     ]
    },
    {
     "data": {
      "text/plain": [
       "<sklearn.metrics._plot.confusion_matrix.ConfusionMatrixDisplay at 0x7fc5016373d0>"
      ]
     },
     "execution_count": 50,
     "metadata": {},
     "output_type": "execute_result"
    },
    {
     "data": {
      "image/png": "[encoded data removed]",
      "text/plain": [
       "<Figure size 432x288 with 2 Axes>"
      ]
     },
     "metadata": {
      "needs_background": "light"
     },
     "output_type": "display_data"
    }
   ],
   "source": [
    "plot_confusion_matrix(classifier, X=X_test, y_true=y_test, cmap='Blues')"
   ]
  },
  {
   "cell_type": "code",
   "execution_count": 51,
   "metadata": {
    "id": "qfCGWTXd8vjr",
    "scrolled": true
   },
   "outputs": [
    {
     "name": "stdout",
     "output_type": "stream",
     "text": [
      "              precision    recall  f1-score   support\n",
      "\n",
      "           0       0.96      0.82      0.88      1624\n",
      "           1       0.92      0.90      0.91      9376\n",
      "           2       0.90      0.94      0.92     10134\n",
      "\n",
      "    accuracy                           0.91     21134\n",
      "   macro avg       0.93      0.88      0.90     21134\n",
      "weighted avg       0.91      0.91      0.91     21134\n",
      "\n"
     ]
    }
   ],
   "source": [
    "print(classification_report(y_test, y_pred_XGB))"
   ]
  },
  {
   "cell_type": "markdown",
   "metadata": {
    "id": "7LWJSM3d9ASB"
   },
   "source": [
    "### Classification for Weekday column"
   ]
  },
  {
   "cell_type": "code",
   "execution_count": 52,
   "metadata": {
    "id": "0vuE5pjI9ATi"
   },
   "outputs": [
    {
     "data": {
      "text/plain": [
       "0    0.71278\n",
       "1    0.28722\n",
       "Name: WeekDayVec, dtype: float64"
      ]
     },
     "execution_count": 52,
     "metadata": {},
     "output_type": "execute_result"
    }
   ],
   "source": [
    "BookingMLCat[\"WeekDayVec\"].value_counts(normalize=True)"
   ]
  },
  {
   "cell_type": "code",
   "execution_count": 53,
   "metadata": {
    "id": "8zVNYNKX9AVo"
   },
   "outputs": [],
   "source": [
    "target = \"WeekDayVec\"\n",
    "# feature set --> it cannot have the target \n",
    "X =BookingMLCat.drop(target, axis=1)\n",
    "# target set \n",
    "y = BookingMLCat[target]\n",
    "# split with  random_state= 42 and train size= 80% so the test size will be 20%\n",
    "X_train, X_test, y_train, y_test = train_test_split(X,y,train_size=0.7, random_state=42)"
   ]
  },
  {
   "cell_type": "markdown",
   "metadata": {},
   "source": [
    "#### Classification for Weekday (Random forest)"
   ]
  },
  {
   "cell_type": "code",
   "execution_count": 54,
   "metadata": {
    "id": "wddGQG-29AXa"
   },
   "outputs": [],
   "source": [
    "class_forest2 = RandomForestClassifier(n_estimators = 2, criterion = 'gini', random_state = 42, max_depth=8)\n",
    "class_forest2.fit(X_train, y_train)\n",
    "preds_class_Rf2 = class_forest2.predict(X_test)"
   ]
  },
  {
   "cell_type": "code",
   "execution_count": 55,
   "metadata": {
    "colab": {
     "base_uri": "https://localhost:8080/"
    },
    "id": "XjCBgRqFDEsh",
    "outputId": "52035951-2bce-49b3-9fe7-f52a08d6bd6a"
   },
   "outputs": [
    {
     "name": "stdout",
     "output_type": "stream",
     "text": [
      "              precision    recall  f1-score   support\n",
      "\n",
      "           0       1.00      1.00      1.00     22557\n",
      "           1       1.00      1.00      1.00      9144\n",
      "\n",
      "    accuracy                           1.00     31701\n",
      "   macro avg       1.00      1.00      1.00     31701\n",
      "weighted avg       1.00      1.00      1.00     31701\n",
      "\n"
     ]
    },
    {
     "name": "stderr",
     "output_type": "stream",
     "text": [
      "/Users/shodz/opt/anaconda3/lib/python3.9/site-packages/sklearn/utils/deprecation.py:87: FutureWarning: Function plot_confusion_matrix is deprecated; Function `plot_confusion_matrix` is deprecated in 1.0 and will be removed in 1.2. Use one of the class methods: ConfusionMatrixDisplay.from_predictions or ConfusionMatrixDisplay.from_estimator.\n",
      "  warnings.warn(msg, category=FutureWarning)\n"
     ]
    },
    {
     "data": {
      "image/png": "[encoded data removed]",
      "text/plain": [
       "<Figure size 432x288 with 2 Axes>"
      ]
     },
     "metadata": {
      "needs_background": "light"
     },
     "output_type": "display_data"
    }
   ],
   "source": [
    "plot_confusion_matrix(class_forest2, X_test, y_test,cmap='Blues');\n",
    "print(classification_report(y_test,preds_class_Rf2))"
   ]
  },
  {
   "cell_type": "markdown",
   "metadata": {},
   "source": [
    "#### Clasification for Star column"
   ]
  },
  {
   "cell_type": "code",
   "execution_count": 56,
   "metadata": {},
   "outputs": [
    {
     "data": {
      "text/plain": [
       "2    0.462269\n",
       "3    0.417686\n",
       "4    0.107620\n",
       "1    0.009766\n",
       "0    0.002659\n",
       "Name: Starsvec, dtype: float64"
      ]
     },
     "execution_count": 56,
     "metadata": {},
     "output_type": "execute_result"
    }
   ],
   "source": [
    "BookingMLCat[\"Starsvec\"].value_counts(normalize=True)"
   ]
  },
  {
   "cell_type": "code",
   "execution_count": 57,
   "metadata": {},
   "outputs": [],
   "source": [
    "target = \"Starsvec\"\n",
    "# feature set --> it cannot have the target \n",
    "X =BookingMLCat.drop(target, axis=1)\n",
    "# target set \n",
    "y = BookingMLCat[target]"
   ]
  },
  {
   "cell_type": "code",
   "execution_count": 58,
   "metadata": {},
   "outputs": [],
   "source": [
    "# split with  random_state= 42 and train size= 80% so the test size will be 20%\n",
    "X_train, X_test, y_train, y_test = train_test_split(X,y,train_size=0.7, random_state=42)"
   ]
  },
  {
   "cell_type": "code",
   "execution_count": 59,
   "metadata": {},
   "outputs": [],
   "source": [
    "class_forest3 = RandomForestClassifier(n_estimators = 15, criterion = 'gini', random_state = 42, max_depth=8)\n",
    "class_forest3.fit(X_train, y_train)\n",
    "preds_class_Rf3 = class_forest3.predict(X_test)"
   ]
  },
  {
   "cell_type": "code",
   "execution_count": 60,
   "metadata": {},
   "outputs": [
    {
     "name": "stdout",
     "output_type": "stream",
     "text": [
      "              precision    recall  f1-score   support\n",
      "\n",
      "           0       1.00      0.31      0.48        86\n",
      "           1       0.86      0.36      0.51       310\n",
      "           2       0.90      0.80      0.85     14573\n",
      "           3       0.74      0.92      0.82     13379\n",
      "           4       0.94      0.53      0.68      3353\n",
      "\n",
      "    accuracy                           0.82     31701\n",
      "   macro avg       0.89      0.59      0.67     31701\n",
      "weighted avg       0.83      0.82      0.81     31701\n",
      "\n"
     ]
    },
    {
     "name": "stderr",
     "output_type": "stream",
     "text": [
      "/Users/shodz/opt/anaconda3/lib/python3.9/site-packages/sklearn/utils/deprecation.py:87: FutureWarning: Function plot_confusion_matrix is deprecated; Function `plot_confusion_matrix` is deprecated in 1.0 and will be removed in 1.2. Use one of the class methods: ConfusionMatrixDisplay.from_predictions or ConfusionMatrixDisplay.from_estimator.\n",
      "  warnings.warn(msg, category=FutureWarning)\n"
     ]
    },
    {
     "data": {
      "image/png": "[encoded data removed]",
      "text/plain": [
       "<Figure size 432x288 with 2 Axes>"
      ]
     },
     "metadata": {
      "needs_background": "light"
     },
     "output_type": "display_data"
    }
   ],
   "source": [
    "plot_confusion_matrix(class_forest3, X_test, y_test,cmap='Blues');\n",
    "print(classification_report(y_test,preds_class_Rf3))"
   ]
  },
  {
   "cell_type": "markdown",
   "metadata": {},
   "source": [
    "#### XGBoost Model"
   ]
  },
  {
   "cell_type": "code",
   "execution_count": 61,
   "metadata": {},
   "outputs": [],
   "source": [
    "# XGboost object\n",
    "classifier2 = XGBClassifier()\n",
    "#  fit the model of XGboost\n",
    "classifier2.fit(X_train, y_train)\n",
    "y_pred_XGB = classifier2.predict(X_test)\n"
   ]
  },
  {
   "cell_type": "code",
   "execution_count": 62,
   "metadata": {},
   "outputs": [
    {
     "name": "stdout",
     "output_type": "stream",
     "text": [
      "              precision    recall  f1-score   support\n",
      "\n",
      "           0       1.00      0.98      0.99        86\n",
      "           1       0.98      0.95      0.97       310\n",
      "           2       0.96      0.95      0.96     14573\n",
      "           3       0.94      0.94      0.94     13379\n",
      "           4       0.94      0.94      0.94      3353\n",
      "\n",
      "    accuracy                           0.95     31701\n",
      "   macro avg       0.96      0.95      0.96     31701\n",
      "weighted avg       0.95      0.95      0.95     31701\n",
      "\n"
     ]
    },
    {
     "name": "stderr",
     "output_type": "stream",
     "text": [
      "/Users/shodz/opt/anaconda3/lib/python3.9/site-packages/sklearn/utils/deprecation.py:87: FutureWarning: Function plot_confusion_matrix is deprecated; Function `plot_confusion_matrix` is deprecated in 1.0 and will be removed in 1.2. Use one of the class methods: ConfusionMatrixDisplay.from_predictions or ConfusionMatrixDisplay.from_estimator.\n",
      "  warnings.warn(msg, category=FutureWarning)\n"
     ]
    },
    {
     "data": {
      "image/png": "[encoded data removed]",
      "text/plain": [
       "<Figure size 432x288 with 2 Axes>"
      ]
     },
     "metadata": {
      "needs_background": "light"
     },
     "output_type": "display_data"
    }
   ],
   "source": [
    "plot_confusion_matrix(classifier2, X=X_test, y_true=y_test, cmap='Blues')\n",
    "print(classification_report(y_test, y_pred_XGB))"
   ]
  },
  {
   "cell_type": "markdown",
   "metadata": {},
   "source": [
    "### Classification for Residence Type column"
   ]
  },
  {
   "cell_type": "code",
   "execution_count": 63,
   "metadata": {},
   "outputs": [
    {
     "data": {
      "text/plain": [
       "1    0.423723\n",
       "2    0.356276\n",
       "0    0.131184\n",
       "3    0.056129\n",
       "5    0.017422\n",
       "4    0.015265\n",
       "Name: ResidenceTypevec, dtype: float64"
      ]
     },
     "execution_count": 63,
     "metadata": {},
     "output_type": "execute_result"
    }
   ],
   "source": [
    "BookingMLCat[\"ResidenceTypevec\"].value_counts(normalize=True)"
   ]
  },
  {
   "cell_type": "code",
   "execution_count": 64,
   "metadata": {},
   "outputs": [],
   "source": [
    "target = \"ResidenceTypevec\"\n",
    "# feature set --> it cannot have the target \n",
    "X =BookingMLCat.drop(target, axis=1)\n",
    "# target set \n",
    "y = BookingMLCat[target]\n",
    "# split with  random_state= 42 and train size= 80% so the test size will be 20%\n",
    "X_train, X_test, y_train, y_test = train_test_split(X,y,train_size=0.7, random_state=42)\n"
   ]
  },
  {
   "cell_type": "markdown",
   "metadata": {},
   "source": [
    "#### Random Forest Model"
   ]
  },
  {
   "cell_type": "code",
   "execution_count": 65,
   "metadata": {},
   "outputs": [],
   "source": [
    "\n",
    "class_forest4 = RandomForestClassifier(n_estimators = 15, criterion = 'gini', random_state = 42, max_depth=8)\n",
    "class_forest4.fit(X_train, y_train)\n",
    "preds_class_Rf4 = class_forest4.predict(X_test)\n"
   ]
  },
  {
   "cell_type": "code",
   "execution_count": 66,
   "metadata": {},
   "outputs": [
    {
     "name": "stdout",
     "output_type": "stream",
     "text": [
      "              precision    recall  f1-score   support\n",
      "\n",
      "           0       0.71      0.29      0.42      4020\n",
      "           1       0.68      0.90      0.78     13476\n",
      "           2       0.74      0.76      0.75     11373\n",
      "           3       0.93      0.07      0.13      1792\n",
      "           4       0.94      0.25      0.39       485\n",
      "           5       0.99      0.35      0.51       555\n",
      "\n",
      "    accuracy                           0.71     31701\n",
      "   macro avg       0.83      0.44      0.50     31701\n",
      "weighted avg       0.73      0.71      0.67     31701\n",
      "\n"
     ]
    },
    {
     "name": "stderr",
     "output_type": "stream",
     "text": [
      "/Users/shodz/opt/anaconda3/lib/python3.9/site-packages/sklearn/utils/deprecation.py:87: FutureWarning: Function plot_confusion_matrix is deprecated; Function `plot_confusion_matrix` is deprecated in 1.0 and will be removed in 1.2. Use one of the class methods: ConfusionMatrixDisplay.from_predictions or ConfusionMatrixDisplay.from_estimator.\n",
      "  warnings.warn(msg, category=FutureWarning)\n"
     ]
    },
    {
     "data": {
      "image/png": "[encoded data removed]",
      "text/plain": [
       "<Figure size 432x288 with 2 Axes>"
      ]
     },
     "metadata": {
      "needs_background": "light"
     },
     "output_type": "display_data"
    }
   ],
   "source": [
    "plot_confusion_matrix(class_forest4, X_test, y_test,cmap='Blues');\n",
    "print(classification_report(y_test,preds_class_Rf4))"
   ]
  },
  {
   "cell_type": "markdown",
   "metadata": {},
   "source": [
    "#### XGBoost Model"
   ]
  },
  {
   "cell_type": "code",
   "execution_count": 67,
   "metadata": {},
   "outputs": [],
   "source": [
    "# XGboost object\n",
    "classifier3 = XGBClassifier()\n",
    "#  fit the model of XGboost\n",
    "classifier3.fit(X_train, y_train)\n",
    "y_pred_XGB = classifier3.predict(X_test)"
   ]
  },
  {
   "cell_type": "code",
   "execution_count": 68,
   "metadata": {},
   "outputs": [
    {
     "name": "stderr",
     "output_type": "stream",
     "text": [
      "/Users/shodz/opt/anaconda3/lib/python3.9/site-packages/sklearn/utils/deprecation.py:87: FutureWarning: Function plot_confusion_matrix is deprecated; Function `plot_confusion_matrix` is deprecated in 1.0 and will be removed in 1.2. Use one of the class methods: ConfusionMatrixDisplay.from_predictions or ConfusionMatrixDisplay.from_estimator.\n",
      "  warnings.warn(msg, category=FutureWarning)\n"
     ]
    },
    {
     "name": "stdout",
     "output_type": "stream",
     "text": [
      "              precision    recall  f1-score   support\n",
      "\n",
      "           0       0.84      0.83      0.84      4020\n",
      "           1       0.90      0.95      0.92     13476\n",
      "           2       0.94      0.90      0.92     11373\n",
      "           3       0.92      0.80      0.86      1792\n",
      "           4       0.99      0.99      0.99       485\n",
      "           5       0.99      0.99      0.99       555\n",
      "\n",
      "    accuracy                           0.91     31701\n",
      "   macro avg       0.93      0.91      0.92     31701\n",
      "weighted avg       0.91      0.91      0.91     31701\n",
      "\n"
     ]
    },
    {
     "data": {
      "image/png": "[encoded data removed]",
      "text/plain": [
       "<Figure size 432x288 with 2 Axes>"
      ]
     },
     "metadata": {
      "needs_background": "light"
     },
     "output_type": "display_data"
    }
   ],
   "source": [
    "plot_confusion_matrix(classifier3, X=X_test, y_true=y_test, cmap='Blues')\n",
    "print(classification_report(y_test, y_pred_XGB))"
   ]
  },
  {
   "cell_type": "markdown",
   "metadata": {},
   "source": [
    "### Classification for Rate column\n"
   ]
  },
  {
   "cell_type": "code",
   "execution_count": 69,
   "metadata": {},
   "outputs": [
    {
     "data": {
      "text/plain": [
       "3    0.658799\n",
       "2    0.200165\n",
       "4    0.121674\n",
       "1    0.016268\n",
       "0    0.003095\n",
       "Name: ReviewRatingVec, dtype: float64"
      ]
     },
     "execution_count": 69,
     "metadata": {},
     "output_type": "execute_result"
    }
   ],
   "source": [
    "BookingMLCat[\"ReviewRatingVec\"].value_counts(normalize=True)"
   ]
  },
  {
   "cell_type": "code",
   "execution_count": 71,
   "metadata": {},
   "outputs": [],
   "source": [
    "target = \"ReviewRatingVec\"\n",
    "# feature set --> it cannot have the target \n",
    "X =BookingMLCat.drop(target, axis=1)\n",
    "# target set \n",
    "y = BookingMLCat[target]\n",
    "# split with  random_state= 42 and train size= 80% so the test size will be 20%\n",
    "X_train, X_test, y_train, y_test = train_test_split(X,y,train_size=0.7, random_state=42)\n"
   ]
  },
  {
   "cell_type": "code",
   "execution_count": 72,
   "metadata": {},
   "outputs": [],
   "source": [
    "class_forest5 = RandomForestClassifier(n_estimators = 15, criterion = 'gini', random_state = 42, max_depth=8)\n",
    "class_forest5.fit(X_train, y_train)\n",
    "preds_class_Rf5 = class_forest5.predict(X_test)"
   ]
  },
  {
   "cell_type": "code",
   "execution_count": 73,
   "metadata": {},
   "outputs": [
    {
     "name": "stdout",
     "output_type": "stream",
     "text": [
      "              precision    recall  f1-score   support\n",
      "\n",
      "           0       0.97      0.83      0.90        77\n",
      "           1       0.00      0.00      0.00       515\n",
      "           2       0.87      0.59      0.70      6329\n",
      "           3       0.84      0.91      0.87     20906\n",
      "           4       0.59      0.71      0.64      3874\n",
      "\n",
      "    accuracy                           0.81     31701\n",
      "   macro avg       0.65      0.61      0.62     31701\n",
      "weighted avg       0.80      0.81      0.80     31701\n",
      "\n"
     ]
    },
    {
     "name": "stderr",
     "output_type": "stream",
     "text": [
      "/Users/shodz/opt/anaconda3/lib/python3.9/site-packages/sklearn/utils/deprecation.py:87: FutureWarning: Function plot_confusion_matrix is deprecated; Function `plot_confusion_matrix` is deprecated in 1.0 and will be removed in 1.2. Use one of the class methods: ConfusionMatrixDisplay.from_predictions or ConfusionMatrixDisplay.from_estimator.\n",
      "  warnings.warn(msg, category=FutureWarning)\n",
      "/Users/shodz/opt/anaconda3/lib/python3.9/site-packages/sklearn/metrics/_classification.py:1318: UndefinedMetricWarning: Precision and F-score are ill-defined and being set to 0.0 in labels with no predicted samples. Use `zero_division` parameter to control this behavior.\n",
      "  _warn_prf(average, modifier, msg_start, len(result))\n",
      "/Users/shodz/opt/anaconda3/lib/python3.9/site-packages/sklearn/metrics/_classification.py:1318: UndefinedMetricWarning: Precision and F-score are ill-defined and being set to 0.0 in labels with no predicted samples. Use `zero_division` parameter to control this behavior.\n",
      "  _warn_prf(average, modifier, msg_start, len(result))\n",
      "/Users/shodz/opt/anaconda3/lib/python3.9/site-packages/sklearn/metrics/_classification.py:1318: UndefinedMetricWarning: Precision and F-score are ill-defined and being set to 0.0 in labels with no predicted samples. Use `zero_division` parameter to control this behavior.\n",
      "  _warn_prf(average, modifier, msg_start, len(result))\n"
     ]
    },
    {
     "data": {
      "image/png": "[encoded data removed]",
      "text/plain": [
       "<Figure size 432x288 with 2 Axes>"
      ]
     },
     "metadata": {
      "needs_background": "light"
     },
     "output_type": "display_data"
    }
   ],
   "source": [
    "plot_confusion_matrix(class_forest5, X_test, y_test,cmap='Blues');\n",
    "print(classification_report(y_test,preds_class_Rf5))"
   ]
  },
  {
   "cell_type": "code",
   "execution_count": 74,
   "metadata": {},
   "outputs": [
    {
     "name": "stdout",
     "output_type": "stream",
     "text": [
      "              precision    recall  f1-score   support\n",
      "\n",
      "           0       1.00      0.99      0.99        77\n",
      "           1       0.82      0.80      0.81       515\n",
      "           2       0.94      0.91      0.92      6329\n",
      "           3       0.97      0.96      0.96     20906\n",
      "           4       0.87      0.94      0.90      3874\n",
      "\n",
      "    accuracy                           0.95     31701\n",
      "   macro avg       0.92      0.92      0.92     31701\n",
      "weighted avg       0.95      0.95      0.95     31701\n",
      "\n"
     ]
    },
    {
     "name": "stderr",
     "output_type": "stream",
     "text": [
      "/Users/shodz/opt/anaconda3/lib/python3.9/site-packages/sklearn/utils/deprecation.py:87: FutureWarning: Function plot_confusion_matrix is deprecated; Function `plot_confusion_matrix` is deprecated in 1.0 and will be removed in 1.2. Use one of the class methods: ConfusionMatrixDisplay.from_predictions or ConfusionMatrixDisplay.from_estimator.\n",
      "  warnings.warn(msg, category=FutureWarning)\n"
     ]
    },
    {
     "data": {
      "image/png": "[encoded data removed]",
      "text/plain": [
       "<Figure size 432x288 with 2 Axes>"
      ]
     },
     "metadata": {
      "needs_background": "light"
     },
     "output_type": "display_data"
    }
   ],
   "source": [
    "# XGboost object\n",
    "classifier4 = XGBClassifier()\n",
    "#  fit the model of XGboost\n",
    "classifier4.fit(X_train, y_train)\n",
    "y_pred_XGB = classifier4.predict(X_test)\n",
    "\n",
    "\n",
    "plot_confusion_matrix(classifier4, X=X_test, y_true=y_test, cmap='Blues')\n",
    "print(classification_report(y_test, y_pred_XGB))"
   ]
  },
  {
   "cell_type": "markdown",
   "metadata": {},
   "source": [
    "------"
   ]
  }
 ],
 "metadata": {
  "colab": {
   "collapsed_sections": [],
   "provenance": []
  },
  "kernelspec": {
   "display_name": "Python 3 (ipykernel)",
   "language": "python",
   "name": "python3"
  },
  "language_info": {
   "codemirror_mode": {
    "name": "ipython",
    "version": 3
   },
   "file_extension": ".py",
   "mimetype": "text/x-python",
   "name": "python",
   "nbconvert_exporter": "python",
   "pygments_lexer": "ipython3",
   "version": "3.9.12"
  }
 },
 "nbformat": 4,
 "nbformat_minor": 1
}
