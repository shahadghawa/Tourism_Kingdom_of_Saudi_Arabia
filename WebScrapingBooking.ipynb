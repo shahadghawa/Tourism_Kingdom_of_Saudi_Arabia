{
 "cells": [
  {
   "cell_type": "markdown",
   "metadata": {
    "id": "AC4RvAjsTYFp"
   },
   "source": [
    "## **Import Libraries**"
   ]
  },
  {
   "cell_type": "code",
   "execution_count": null,
   "metadata": {
    "id": "b_aYnkdHkka6"
   },
   "outputs": [],
   "source": [
    "from datetime import *\n",
    "from bs4 import BeautifulSoup\n",
    "import requests\n",
    "# from fake_useragent import UserAgent\n",
    "from tqdm import tqdm\n",
    "from requests.adapters import HTTPAdapter\n",
    "from requests.packages.urllib3.util.retry import Retry\n",
    "from time import sleep, perf_counter\n",
    "from threading import Thread\n",
    "import pandas as pd\n",
    "tqdm.pandas()"
   ]
  },
  {
   "cell_type": "markdown",
   "metadata": {
    "id": "K_Fc0sHnTnPO"
   },
   "source": [
    "## **Manipulate With Date&Time**"
   ]
  },
  {
   "cell_type": "code",
   "execution_count": null,
   "metadata": {
    "colab": {
     "base_uri": "https://localhost:8080/"
    },
    "id": "TrBRzaFZkqVH",
    "outputId": "24d03534-49c6-4f7c-cac4-796efe7fdb23"
   },
   "outputs": [
    {
     "data": {
      "text/plain": [
       "datetime.date(2022, 9, 2)"
      ]
     },
     "execution_count": 12,
     "metadata": {},
     "output_type": "execute_result"
    }
   ],
   "source": [
    "d = datetime.now().date()\n",
    "d"
   ]
  },
  {
   "cell_type": "markdown",
   "metadata": {
    "id": "aB9AlDESVKcA"
   },
   "source": [
    "## **For Loop to Check on Pages**"
   ]
  },
  {
   "cell_type": "code",
   "execution_count": null,
   "metadata": {
    "colab": {
     "base_uri": "https://localhost:8080/"
    },
    "id": "DvKfjRfqc9DX",
    "outputId": "c0d8c363-be42-4f52-979b-48b6e5545378"
   },
   "outputs": [
    {
     "name": "stdout",
     "output_type": "stream",
     "text": [
      "0\n",
      "25\n",
      "50\n",
      "75\n",
      "100\n",
      "125\n",
      "150\n",
      "175\n",
      "200\n",
      "225\n",
      "250\n",
      "275\n",
      "300\n",
      "325\n",
      "350\n",
      "375\n",
      "400\n",
      "425\n",
      "450\n",
      "475\n",
      "500\n",
      "525\n",
      "550\n",
      "575\n"
     ]
    }
   ],
   "source": [
    "for x in range(0, 600, 25):\n",
    "  print(x)"
   ]
  },
  {
   "cell_type": "markdown",
   "metadata": {
    "id": "58bOFeXdWN-T"
   },
   "source": [
    "**Retrieving Nights,Checkin,CheckOut,TheCity,Title,ThePrice and The Room Type From Booking**"
   ]
  },
  {
   "cell_type": "code",
   "execution_count": null,
   "metadata": {
    "colab": {
     "base_uri": "https://localhost:8080/"
    },
    "id": "EW5GMi0skssV",
    "outputId": "eb623f0f-b847-4372-e644-14986f58118c"
   },
   "outputs": [
    {
     "name": "stdout",
     "output_type": "stream",
     "text": [
      "Starting a task...\n",
      "done\n",
      "It took  18514.69 second(s) to complete.\n"
     ]
    }
   ],
   "source": [
    "# initialize lists to save \n",
    "urls = []\n",
    "xnights=[]\n",
    "checkinlist=[]\n",
    "checkoutlist=[]\n",
    "resultlist=[]\n",
    "citylist=[]\n",
    "titleList=[]\n",
    "Pricefirst=[]\n",
    "rOOMTYPE=[]\n",
    "\n",
    "headers = {\n",
    "    'User-Agent': 'Mozilla/5.0 (Windows NT 10.0; Win64; x64) AppleWebKit/537.36 (KHTML, like Gecko) Chrome/98.0.4758.82 Safari/537.36'\n",
    "}\n",
    "\n",
    "start_time = perf_counter()\n",
    "print('Starting a task...')\n",
    "\n",
    "for i in range(365):\n",
    "  checkin = d + timedelta(days=i)\n",
    "  checkout = d + timedelta(days=i + 1)\n",
    "  for x in range(0, 600, 25):\n",
    "    url=f'https://www.booking.com/searchresults.ar.html?label=gen173nr-1FCAEoggI46AdIM1gEaMQBiAEBmAEBuAEXyAEM2AEB6AEB-AELiAIBqAIDuAKGlcqYBsACAdICJGZlYTg3ZWM1LTc1MWUtNDBmZC05MDYzLTRlZWMzZjQzODliZtgCBuACAQ&sid=448402776627e7f2557aa7d2e8002e2f&aid=304142&ss=%D8%A7%D9%84%D8%B1%D9%8A%D8%A7%D8%B6&ssne=%D8%A7%D9%84%D8%B1%D9%8A%D8%A7%D8%B6&ssne_untouched=%D8%A7%D9%84%D8%B1%D9%8A%D8%A7%D8%B6&lang=ar&sb=1&src_elem=sb&src=searchresults&dest_id=900040280&dest_type=city&checkin={checkin}&checkout={checkout}&group_adults=2&no_rooms=1&group_children=0&sb_travel_purpose=leisure&offset={x}'\n",
    "    response=requests.get(url,headers=headers)\n",
    "    soup=BeautifulSoup(response.content,'lxml')\n",
    "    xnight=soup.find_all('div', {'data-testid':'price-for-x-nights'}) \n",
    "    titlelink=soup.find_all('a', {'data-testid':'title-link'})\n",
    "    result=soup.find_all('h1', {'class':'e1f827110f'})\n",
    "    city=soup.find_all('span', {'data-testid':'address'})\n",
    "    result=soup.find_all('h1', {'class':'e1f827110f'})\n",
    "    price=soup.find_all('span', {'class':'fcab3ed991'})\n",
    "    title=soup.find_all('div', {'data-testid':'title'})\n",
    "    roomtype=soup.find_all('span', {'class':'df597226dd'})\n",
    "\n",
    "    for night in xnight:\n",
    "      xnights.append(night.text)\n",
    "      checkinlist.append(checkin)\n",
    "      checkoutlist.append(checkout)\n",
    "      for a in result:\n",
    "        resultlist.append(a.text)\n",
    "    for c in city:\n",
    "      citylist.append(c.text)\n",
    "    for b in title:\n",
    "      titleList.append(b.text.replace('\\n','').replace('\\xa0',''))\n",
    "    for j in price:\n",
    "     Pricefirst.append(j.text.replace('\\n','').replace('\\xa0','')) \n",
    "    for l in roomtype:\n",
    "      rOOMTYPE.append(l.text)\n",
    "\n",
    "    for link in titlelink : \n",
    "      links=link.get('href')\n",
    "      urls.append(links)\n",
    "end_time = perf_counter()\n",
    "print('done')\n",
    "\n",
    "print(f'It took {end_time- start_time: 0.2f} second(s) to complete.')"
   ]
  },
  {
   "cell_type": "markdown",
   "metadata": {
    "id": "_sYr-VvxW5ZF"
   },
   "source": [
    "**CheckTheLength For All the Lists**"
   ]
  },
  {
   "cell_type": "code",
   "execution_count": null,
   "metadata": {
    "colab": {
     "base_uri": "https://localhost:8080/"
    },
    "id": "VVWDaupTkvyU",
    "outputId": "3051472a-da1b-4d93-9b95-65306fa5da4f"
   },
   "outputs": [
    {
     "name": "stdout",
     "output_type": "stream",
     "text": [
      "164666\n",
      "164666\n",
      "164666\n",
      "164666\n",
      "164666\n",
      "164666\n",
      "164666\n",
      "164666\n",
      "164666\n"
     ]
    }
   ],
   "source": [
    "print(len(urls))\n",
    "print(len(checkinlist))\n",
    "print(len(checkoutlist))\n",
    "print(len(xnights))\n",
    "print(len(resultlist))\n",
    "print(len(citylist))\n",
    "print(len(titleList))\n",
    "print(len(Pricefirst))\n",
    "print(len(rOOMTYPE))"
   ]
  },
  {
   "cell_type": "markdown",
   "metadata": {
    "id": "XL1O2lU1XEhZ"
   },
   "source": [
    "**Create A DataFrame From The Lists**"
   ]
  },
  {
   "cell_type": "code",
   "execution_count": null,
   "metadata": {
    "colab": {
     "base_uri": "https://localhost:8080/",
     "height": 206
    },
    "id": "JEtjqvA_kzO2",
    "outputId": "b9e66e27-6a58-4d65-c4e4-d4920b20cc21"
   },
   "outputs": [
    {
     "data": {
      "text/html": [
       "\n",
       "  <div id=\"df-78fb2bc2-b108-40ac-add0-a09808a56890\">\n",
       "    <div class=\"colab-df-container\">\n",
       "      <div>\n",
       "<style scoped>\n",
       "    .dataframe tbody tr th:only-of-type {\n",
       "        vertical-align: middle;\n",
       "    }\n",
       "\n",
       "    .dataframe tbody tr th {\n",
       "        vertical-align: top;\n",
       "    }\n",
       "\n",
       "    .dataframe thead th {\n",
       "        text-align: right;\n",
       "    }\n",
       "</style>\n",
       "<table border=\"1\" class=\"dataframe\">\n",
       "  <thead>\n",
       "    <tr style=\"text-align: right;\">\n",
       "      <th></th>\n",
       "      <th>URLS</th>\n",
       "      <th>City</th>\n",
       "      <th>Title</th>\n",
       "      <th>Price</th>\n",
       "      <th>RoomType</th>\n",
       "      <th>Check_in</th>\n",
       "      <th>Check_Out</th>\n",
       "    </tr>\n",
       "  </thead>\n",
       "  <tbody>\n",
       "    <tr>\n",
       "      <th>0</th>\n",
       "      <td>https://www.booking.com/hotel/sa/golden-dune.a...</td>\n",
       "      <td>الرياض</td>\n",
       "      <td>جولدن ديون هوتل &amp; سويت</td>\n",
       "      <td>US$96</td>\n",
       "      <td>غرفة سوبيريور مزدوجة</td>\n",
       "      <td>2022-09-03</td>\n",
       "      <td>2022-09-04</td>\n",
       "    </tr>\n",
       "    <tr>\n",
       "      <th>1</th>\n",
       "      <td>https://www.booking.com/hotel/sa/fndq-lbyrl-la...</td>\n",
       "      <td>الرياض</td>\n",
       "      <td>فندق لابيرلا</td>\n",
       "      <td>US$75</td>\n",
       "      <td>غرفة توأم مع حمام خاص</td>\n",
       "      <td>2022-09-03</td>\n",
       "      <td>2022-09-04</td>\n",
       "    </tr>\n",
       "    <tr>\n",
       "      <th>2</th>\n",
       "      <td>https://www.booking.com/hotel/sa/krm-lryd-kare...</td>\n",
       "      <td>الرياض</td>\n",
       "      <td>فندق كارم الرياض Karim Hotel Riyadh</td>\n",
       "      <td>US$93</td>\n",
       "      <td>غرفة قياسية مزدوجة</td>\n",
       "      <td>2022-09-03</td>\n",
       "      <td>2022-09-04</td>\n",
       "    </tr>\n",
       "    <tr>\n",
       "      <th>3</th>\n",
       "      <td>https://www.booking.com/hotel/sa/al-fahd-suite...</td>\n",
       "      <td>العليا, الرياض</td>\n",
       "      <td>Carawan Hotel Olaya - فندق كروان العليا</td>\n",
       "      <td>US$66</td>\n",
       "      <td>غرفة مزدوجة مع حوض استحمام</td>\n",
       "      <td>2022-09-03</td>\n",
       "      <td>2022-09-04</td>\n",
       "    </tr>\n",
       "    <tr>\n",
       "      <th>4</th>\n",
       "      <td>https://www.booking.com/hotel/sa/myn-lmlq-107....</td>\n",
       "      <td>الرياض</td>\n",
       "      <td>Almakan Hotel 113</td>\n",
       "      <td>US$46</td>\n",
       "      <td>استوديو</td>\n",
       "      <td>2022-09-03</td>\n",
       "      <td>2022-09-04</td>\n",
       "    </tr>\n",
       "  </tbody>\n",
       "</table>\n",
       "</div>\n",
       "      <button class=\"colab-df-convert\" onclick=\"convertToInteractive('df-78fb2bc2-b108-40ac-add0-a09808a56890')\"\n",
       "              title=\"Convert this dataframe to an interactive table.\"\n",
       "              style=\"display:none;\">\n",
       "        \n",
       "  <svg xmlns=\"http://www.w3.org/2000/svg\" height=\"24px\"viewBox=\"0 0 24 24\"\n",
       "       width=\"24px\">\n",
       "    <path d=\"M0 0h24v24H0V0z\" fill=\"none\"/>\n",
       "    <path d=\"M18.56 5.44l.94 2.06.94-2.06 2.06-.94-2.06-.94-.94-2.06-.94 2.06-2.06.94zm-11 1L8.5 8.5l.94-2.06 2.06-.94-2.06-.94L8.5 2.5l-.94 2.06-2.06.94zm10 10l.94 2.06.94-2.06 2.06-.94-2.06-.94-.94-2.06-.94 2.06-2.06.94z\"/><path d=\"M17.41 7.96l-1.37-1.37c-.4-.4-.92-.59-1.43-.59-.52 0-1.04.2-1.43.59L10.3 9.45l-7.72 7.72c-.78.78-.78 2.05 0 2.83L4 21.41c.39.39.9.59 1.41.59.51 0 1.02-.2 1.41-.59l7.78-7.78 2.81-2.81c.8-.78.8-2.07 0-2.86zM5.41 20L4 18.59l7.72-7.72 1.47 1.35L5.41 20z\"/>\n",
       "  </svg>\n",
       "      </button>\n",
       "      \n",
       "  <style>\n",
       "    .colab-df-container {\n",
       "      display:flex;\n",
       "      flex-wrap:wrap;\n",
       "      gap: 12px;\n",
       "    }\n",
       "\n",
       "    .colab-df-convert {\n",
       "      background-color: #E8F0FE;\n",
       "      border: none;\n",
       "      border-radius: 50%;\n",
       "      cursor: pointer;\n",
       "      display: none;\n",
       "      fill: #1967D2;\n",
       "      height: 32px;\n",
       "      padding: 0 0 0 0;\n",
       "      width: 32px;\n",
       "    }\n",
       "\n",
       "    .colab-df-convert:hover {\n",
       "      background-color: #E2EBFA;\n",
       "      box-shadow: 0px 1px 2px rgba(60, 64, 67, 0.3), 0px 1px 3px 1px rgba(60, 64, 67, 0.15);\n",
       "      fill: #174EA6;\n",
       "    }\n",
       "\n",
       "    [theme=dark] .colab-df-convert {\n",
       "      background-color: #3B4455;\n",
       "      fill: #D2E3FC;\n",
       "    }\n",
       "\n",
       "    [theme=dark] .colab-df-convert:hover {\n",
       "      background-color: #434B5C;\n",
       "      box-shadow: 0px 1px 3px 1px rgba(0, 0, 0, 0.15);\n",
       "      filter: drop-shadow(0px 1px 2px rgba(0, 0, 0, 0.3));\n",
       "      fill: #FFFFFF;\n",
       "    }\n",
       "  </style>\n",
       "\n",
       "      <script>\n",
       "        const buttonEl =\n",
       "          document.querySelector('#df-78fb2bc2-b108-40ac-add0-a09808a56890 button.colab-df-convert');\n",
       "        buttonEl.style.display =\n",
       "          google.colab.kernel.accessAllowed ? 'block' : 'none';\n",
       "\n",
       "        async function convertToInteractive(key) {\n",
       "          const element = document.querySelector('#df-78fb2bc2-b108-40ac-add0-a09808a56890');\n",
       "          const dataTable =\n",
       "            await google.colab.kernel.invokeFunction('convertToInteractive',\n",
       "                                                     [key], {});\n",
       "          if (!dataTable) return;\n",
       "\n",
       "          const docLinkHtml = 'Like what you see? Visit the ' +\n",
       "            '<a target=\"_blank\" href=https://colab.research.google.com/notebooks/data_table.ipynb>data table notebook</a>'\n",
       "            + ' to learn more about interactive tables.';\n",
       "          element.innerHTML = '';\n",
       "          dataTable['output_type'] = 'display_data';\n",
       "          await google.colab.output.renderOutput(dataTable, element);\n",
       "          const docLink = document.createElement('div');\n",
       "          docLink.innerHTML = docLinkHtml;\n",
       "          element.appendChild(docLink);\n",
       "        }\n",
       "      </script>\n",
       "    </div>\n",
       "  </div>\n",
       "  "
      ],
      "text/plain": [
       "                                                URLS            City  \\\n",
       "0  https://www.booking.com/hotel/sa/golden-dune.a...          الرياض   \n",
       "1  https://www.booking.com/hotel/sa/fndq-lbyrl-la...          الرياض   \n",
       "2  https://www.booking.com/hotel/sa/krm-lryd-kare...          الرياض   \n",
       "3  https://www.booking.com/hotel/sa/al-fahd-suite...  العليا, الرياض   \n",
       "4  https://www.booking.com/hotel/sa/myn-lmlq-107....          الرياض   \n",
       "\n",
       "                                     Title  Price                    RoomType  \\\n",
       "0                   جولدن ديون هوتل & سويت  US$96        غرفة سوبيريور مزدوجة   \n",
       "1                             فندق لابيرلا  US$75       غرفة توأم مع حمام خاص   \n",
       "2      فندق كارم الرياض Karim Hotel Riyadh  US$93          غرفة قياسية مزدوجة   \n",
       "3  Carawan Hotel Olaya - فندق كروان العليا  US$66  غرفة مزدوجة مع حوض استحمام   \n",
       "4                        Almakan Hotel 113  US$46                     استوديو   \n",
       "\n",
       "     Check_in   Check_Out  \n",
       "0  2022-09-03  2022-09-04  \n",
       "1  2022-09-03  2022-09-04  \n",
       "2  2022-09-03  2022-09-04  \n",
       "3  2022-09-03  2022-09-04  \n",
       "4  2022-09-03  2022-09-04  "
      ]
     },
     "execution_count": 15,
     "metadata": {},
     "output_type": "execute_result"
    }
   ],
   "source": [
    "d={'URLS':urls,'City':citylist,'Title':titleList,'Price':Pricefirst,'RoomType':rOOMTYPE,'Check_in':checkinlist,'Check_Out':checkoutlist}\n",
    "import pandas as pd\n",
    "df=pd.DataFrame(d)\n",
    "df.head()\n",
    "\n",
    "# rating cleaned\n",
    "# score cleaned\n",
    "# price 3.76 to convert in Riyal\n",
    "# Day and Month\n",
    "# Room Type Categorize"
   ]
  },
  {
   "cell_type": "markdown",
   "metadata": {
    "id": "kq1q3H0CXWA7"
   },
   "source": [
    "**Minimize The Dataset Rows  By The Unique Values**"
   ]
  },
  {
   "cell_type": "code",
   "execution_count": null,
   "metadata": {
    "id": "fbXdRUS9BrjP"
   },
   "outputs": [],
   "source": [
    "HotelUnique = df.drop_duplicates(\n",
    "  subset = ['Title'],\n",
    "  keep = 'first').reset_index(drop = True)"
   ]
  },
  {
   "cell_type": "markdown",
   "metadata": {
    "id": "hccnbULOXv4L"
   },
   "source": [
    "**Icreated A DataFrame Only For URLS&Title**"
   ]
  },
  {
   "cell_type": "code",
   "execution_count": null,
   "metadata": {
    "id": "pUlz2zWJCrGe"
   },
   "outputs": [],
   "source": [
    "HotelUnique=HotelUnique[['URLS','Title']]"
   ]
  },
  {
   "cell_type": "code",
   "execution_count": null,
   "metadata": {
    "id": "u-NSXNzsGPTX"
   },
   "outputs": [],
   "source": [
    "from datetime import *\n",
    "from bs4 import BeautifulSoup\n",
    "import requests\n",
    "from tqdm import tqdm\n",
    "from requests.adapters import HTTPAdapter\n",
    "from requests.packages.urllib3.util.retry import Retry\n",
    "from time import sleep, perf_counter\n",
    "from threading import Thread\n",
    "import pandas as pd\n",
    "tqdm.pandas()"
   ]
  },
  {
   "cell_type": "code",
   "execution_count": null,
   "metadata": {
    "id": "GE_f-65VAYUe"
   },
   "outputs": [],
   "source": [
    "def add_Rate(row):\n",
    "  url = row[\"URLS\"]\n",
    "  headers = {\n",
    "    'User-Agent': 'Mozilla/5.0 (Windows NT 10.0; Win64; x64) AppleWebKit/537.36 (KHTML, like Gecko) Chrome/98.0.4758.82 Safari/537.36'\n",
    "}\n",
    "  rating=[]\n",
    "\n",
    "  try:\n",
    "    session = requests.Session()\n",
    "    retry = Retry(connect=10, backoff_factor=0.5)\n",
    "    adapter = HTTPAdapter(max_retries=retry)\n",
    "    session.mount('http://', adapter)\n",
    "    session.mount('https://', adapter)\n",
    "    session=session.get(url,headers=headers)\n",
    "    soup=BeautifulSoup(session.content,'lxml')\n",
    "    latrate=soup.find_all('span',class_='bui-rating')\n",
    "    for m in latrate:\n",
    "      Rating=m.get('aria-label')\n",
    "      rating.append(Rating)\n",
    "      return rating\n",
    "  except IndexError:\n",
    "    return 'null'"
   ]
  },
  {
   "cell_type": "code",
   "execution_count": null,
   "metadata": {
    "id": "mEKxq2zSAwYx"
   },
   "outputs": [],
   "source": [
    "def Rate():\n",
    "  print('Starting a task...')\n",
    "  HotelUnique[\"Rate\"] = HotelUnique.progress_apply(add_Rate, axis=1)\n",
    "  print('done')"
   ]
  },
  {
   "cell_type": "code",
   "execution_count": null,
   "metadata": {
    "id": "9PqlfVosAYWY"
   },
   "outputs": [],
   "source": [
    "def add_Address(row):\n",
    "  url = row[\"URLS\"]\n",
    "  headers = {\n",
    "    'User-Agent': 'Mozilla/5.0 (Windows NT 10.0; Win64; x64) AppleWebKit/537.36 (KHTML, like Gecko) Chrome/98.0.4758.82 Safari/537.36'\n",
    "}\n",
    "  AddressList=[]\n",
    "  try:\n",
    "    session = requests.Session()\n",
    "    retry = Retry(connect=10, backoff_factor=0.5)\n",
    "    adapter = HTTPAdapter(max_retries=retry)\n",
    "    session.mount('http://', adapter)\n",
    "    session.mount('https://', adapter)\n",
    "    session=session.get(url,headers=headers)\n",
    "    soup=BeautifulSoup(session.content,'lxml')\n",
    "    Adress=soup.find_all('span', {'class':'hp_address_subtitle'})\n",
    "    for ad in Adress:\n",
    "      adress=ad.text\n",
    "      AddressList.append(adress)\n",
    "      return AddressList\n",
    "  except IndexError:\n",
    "    return 'null'"
   ]
  },
  {
   "cell_type": "code",
   "execution_count": null,
   "metadata": {
    "id": "sziUYkdjAYZ5"
   },
   "outputs": [],
   "source": [
    "def Address():\n",
    "  print('Starting a task...')\n",
    "  HotelUnique[\"Address\"] = HotelUnique.progress_apply(add_Address, axis=1)\n",
    "  print('done')"
   ]
  },
  {
   "cell_type": "code",
   "execution_count": null,
   "metadata": {
    "id": "fqcKFuh-BD8z"
   },
   "outputs": [],
   "source": [
    "def add_location(row):\n",
    "  url = row[\"URLS\"]\n",
    "  headers = {\n",
    "    'User-Agent': 'Mozilla/5.0 (Windows NT 10.0; Win64; x64) AppleWebKit/537.36 (KHTML, like Gecko) Chrome/98.0.4758.82 Safari/537.36'\n",
    "}\n",
    "  latlon=[]\n",
    "  try:\n",
    "    session = requests.Session()\n",
    "    retry = Retry(connect=10, backoff_factor=0.5)\n",
    "    adapter = HTTPAdapter(max_retries=retry)\n",
    "    session.mount('http://', adapter)\n",
    "    session.mount('https://', adapter)\n",
    "    session=session.get(url,headers=headers)\n",
    "    soup=BeautifulSoup(session.content,'lxml')\n",
    "    latclass=soup.find_all('a',class_='jq_tooltip')\n",
    "    for m in latclass:\n",
    "      lating=m.get('data-atlas-latlng')\n",
    "      latlon.append(lating)\n",
    "      return latlon[0]\n",
    "  except IndexError:\n",
    "    return 'null'"
   ]
  },
  {
   "cell_type": "code",
   "execution_count": null,
   "metadata": {
    "id": "51U34GMHBHyV"
   },
   "outputs": [],
   "source": [
    "def location():\n",
    "  print('Starting a task...')\n",
    "  HotelUnique[\"latlon\"] = HotelUnique.progress_apply(add_location, axis=1)\n",
    "  print('done')"
   ]
  },
  {
   "cell_type": "code",
   "execution_count": null,
   "metadata": {
    "id": "j9nOcCfGJvJx"
   },
   "outputs": [],
   "source": [
    "def add_Score(row):\n",
    "  url = row[\"URLS\"]\n",
    "  headers = {\n",
    "    'User-Agent': 'Mozilla/5.0 (Windows NT 10.0; Win64; x64) AppleWebKit/537.36 (KHTML, like Gecko) Chrome/98.0.4758.82 Safari/537.36'\n",
    "}\n",
    "  Scorelist=[]\n",
    "  try:\n",
    "    session = requests.Session()\n",
    "    retry = Retry(connect=10, backoff_factor=0.5)\n",
    "    adapter = HTTPAdapter(max_retries=retry)\n",
    "    session.mount('http://', adapter)\n",
    "    session.mount('https://', adapter)\n",
    "    session=session.get(url,headers=headers)\n",
    "    soup=BeautifulSoup(session.content,'lxml')\n",
    "    latclass=soup.find_all('span', {'class':'review-score-badge'})[1]\n",
    "    for r in soup.find_all('span', {'class':'review-score-badge'})[1]:\n",
    "      Scores=r\n",
    "      Scorelist.append(Scores)\n",
    "      return Scorelist\n",
    "  except IndexError:\n",
    "    return 'null'"
   ]
  },
  {
   "cell_type": "code",
   "execution_count": null,
   "metadata": {
    "id": "BjSZtMm-KN54"
   },
   "outputs": [],
   "source": [
    "def Score():\n",
    "  print('Starting a task...')\n",
    "  HotelUnique[\"Score\"] = HotelUnique.progress_apply(add_Score, axis=1)\n",
    "  print('done')"
   ]
  },
  {
   "cell_type": "code",
   "execution_count": null,
   "metadata": {
    "colab": {
     "base_uri": "https://localhost:8080/"
    },
    "id": "FTkXt5KOBM5X",
    "outputId": "e019a34c-7065-4cd3-8851-dc9f87c2b74c"
   },
   "outputs": [
    {
     "name": "stdout",
     "output_type": "stream",
     "text": [
      "Starting a task...\n"
     ]
    },
    {
     "name": "stderr",
     "output_type": "stream",
     "text": [
      "100%|██████████| 770/770 [51:55<00:00,  4.05s/it]\n"
     ]
    },
    {
     "name": "stdout",
     "output_type": "stream",
     "text": [
      "done\n",
      "Starting a task...\n"
     ]
    },
    {
     "name": "stderr",
     "output_type": "stream",
     "text": [
      "100%|██████████| 770/770 [51:35<00:00,  4.02s/it]\n"
     ]
    },
    {
     "name": "stdout",
     "output_type": "stream",
     "text": [
      "done\n",
      "Starting a task...\n"
     ]
    },
    {
     "name": "stderr",
     "output_type": "stream",
     "text": [
      "100%|██████████| 770/770 [53:10<00:00,  4.14s/it]\n"
     ]
    },
    {
     "name": "stdout",
     "output_type": "stream",
     "text": [
      "done\n",
      "Starting a task...\n"
     ]
    },
    {
     "name": "stderr",
     "output_type": "stream",
     "text": [
      "100%|██████████| 770/770 [53:07<00:00,  4.14s/it]"
     ]
    },
    {
     "name": "stdout",
     "output_type": "stream",
     "text": [
      "done\n",
      "It took  12589.42 second(s) to complete.\n"
     ]
    },
    {
     "name": "stderr",
     "output_type": "stream",
     "text": [
      "\n"
     ]
    }
   ],
   "source": [
    "start_time = perf_counter()\n",
    "thread1 = Thread(target=Rate)\n",
    "thread2 = Thread(target=Address)\n",
    "thread3 = Thread(target=location)\n",
    "thread4 = Thread(target=Score)\n",
    "thread1.start()\n",
    "thread1.join()\n",
    "thread2.start()\n",
    "thread2.join()\n",
    "thread3.start()\n",
    "thread3.join()\n",
    "thread4.start()\n",
    "thread4.join()\n",
    "end_time = perf_counter()\n",
    "print(f'It took {end_time- start_time: 0.2f} second(s) to complete.')"
   ]
  },
  {
   "cell_type": "code",
   "execution_count": null,
   "metadata": {
    "colab": {
     "base_uri": "https://localhost:8080/"
    },
    "id": "snhjA1RZI8qI",
    "outputId": "5f9aeea1-62a1-4cb1-c8ec-d9c8891832dc"
   },
   "outputs": [
    {
     "data": {
      "text/plain": [
       "URLS         0\n",
       "Title        0\n",
       "Rate       225\n",
       "Address      0\n",
       "latlon       1\n",
       "Score        0\n",
       "dtype: int64"
      ]
     },
     "execution_count": 96,
     "metadata": {},
     "output_type": "execute_result"
    }
   ],
   "source": [
    "HotelUnique.isnull().sum()"
   ]
  },
  {
   "cell_type": "code",
   "execution_count": null,
   "metadata": {
    "colab": {
     "base_uri": "https://localhost:8080/"
    },
    "id": "HKJeSKN-ClJw",
    "outputId": "b8691437-b9c9-4e51-f2b9-658c588b2332"
   },
   "outputs": [
    {
     "data": {
      "text/plain": [
       "URLS       0.000000\n",
       "Title      0.000000\n",
       "Rate       0.000000\n",
       "Address    0.000000\n",
       "latlon     0.199601\n",
       "Score      0.000000\n",
       "dtype: float64"
      ]
     },
     "execution_count": 135,
     "metadata": {},
     "output_type": "execute_result"
    }
   ],
   "source": [
    "test.isnull().sum()/len(test)*100"
   ]
  },
  {
   "cell_type": "code",
   "execution_count": null,
   "metadata": {
    "id": "WH9O7CYLDTjy"
   },
   "outputs": [],
   "source": [
    "nullvalues=HotelUnique[HotelUnique['latlon'].isnull()]"
   ]
  },
  {
   "cell_type": "code",
   "execution_count": null,
   "metadata": {
    "colab": {
     "base_uri": "https://localhost:8080/",
     "height": 88
    },
    "id": "zQInkbtFEwsS",
    "outputId": "fcd797b1-f6d6-4b9a-f136-7b04f7a9243d"
   },
   "outputs": [
    {
     "data": {
      "application/vnd.google.colaboratory.intrinsic+json": {
       "type": "string"
      },
      "text/plain": [
       "'https://www.booking.com/hotel/sa/al-fahd-suites.ar.html?label=gen173nr-1FCAEoggI46AdIM1gEaMQBiAEBmAEBuAEXyAEM2AEB6AEB-AELiAIBqAIDuAKGlcqYBsACAdICJGZlYTg3ZWM1LTc1MWUtNDBmZC05MDYzLTRlZWMzZjQzODliZtgCBuACAQ&sid=448402776627e7f2557aa7d2e8002e2f&aid=304142&ucfs=1&arphpl=1&checkin=2022-09-03&checkout=2022-09-04&dest_id=900040280&dest_type=city&group_adults=2&req_adults=2&no_rooms=1&group_children=0&req_children=0&hpos=4&hapos=4&sr_order=popularity&srpvid=483da31e223200c2&srepoch=1662160319&all_sr_blocks=24659810_356739832_0_1_0&highlighted_blocks=24659810_356739832_0_1_0&matching_block_id=24659810_356739832_0_1_0&sr_pri_blocks=24659810_356739832_0_1_0__24750&from=searchresults#hotelTmpl'"
      ]
     },
     "execution_count": 112,
     "metadata": {},
     "output_type": "execute_result"
    }
   ],
   "source": [
    "nullvalues['URLS'][3]"
   ]
  },
  {
   "cell_type": "code",
   "execution_count": null,
   "metadata": {
    "id": "k7qVG4icEJEo"
   },
   "outputs": [],
   "source": [
    "test=HotelUnique.dropna(subset=['Rate'])"
   ]
  },
  {
   "cell_type": "code",
   "execution_count": null,
   "metadata": {
    "colab": {
     "base_uri": "https://localhost:8080/",
     "height": 424
    },
    "id": "_ukv1RhzISJ5",
    "outputId": "3dfa7fbb-4a23-4d43-d7b2-cdf10e4c91c3"
   },
   "outputs": [
    {
     "data": {
      "text/html": [
       "\n",
       "  <div id=\"df-cc60947f-21d0-4f64-9e39-d54102df4da2\">\n",
       "    <div class=\"colab-df-container\">\n",
       "      <div>\n",
       "<style scoped>\n",
       "    .dataframe tbody tr th:only-of-type {\n",
       "        vertical-align: middle;\n",
       "    }\n",
       "\n",
       "    .dataframe tbody tr th {\n",
       "        vertical-align: top;\n",
       "    }\n",
       "\n",
       "    .dataframe thead th {\n",
       "        text-align: right;\n",
       "    }\n",
       "</style>\n",
       "<table border=\"1\" class=\"dataframe\">\n",
       "  <thead>\n",
       "    <tr style=\"text-align: right;\">\n",
       "      <th></th>\n",
       "      <th>URLS</th>\n",
       "      <th>Title</th>\n",
       "      <th>Rate</th>\n",
       "      <th>Address</th>\n",
       "      <th>latlon</th>\n",
       "      <th>Score</th>\n",
       "    </tr>\n",
       "  </thead>\n",
       "  <tbody>\n",
       "    <tr>\n",
       "      <th>0</th>\n",
       "      <td>https://www.booking.com/hotel/sa/golden-dune.a...</td>\n",
       "      <td>جولدن ديون هوتل &amp; سويت</td>\n",
       "      <td>[3 out of 5]</td>\n",
       "      <td>[\\n شارع سعود العثمان سعود سعود العثمان سعود, ...</td>\n",
       "      <td>24.68825273,46.80286766</td>\n",
       "      <td>[\\n8.1\\n]</td>\n",
       "    </tr>\n",
       "    <tr>\n",
       "      <th>1</th>\n",
       "      <td>https://www.booking.com/hotel/sa/fndq-lbyrl-la...</td>\n",
       "      <td>فندق لابيرلا</td>\n",
       "      <td>[3 out of 5]</td>\n",
       "      <td>[\\nفندق لابيرلا, 13216 الرياض, المملكة العربية...</td>\n",
       "      <td>24.79451790,46.81846073</td>\n",
       "      <td>[\\n7.3\\n]</td>\n",
       "    </tr>\n",
       "    <tr>\n",
       "      <th>2</th>\n",
       "      <td>https://www.booking.com/hotel/sa/krm-lryd-kare...</td>\n",
       "      <td>فندق كارم الرياض Karim Hotel Riyadh</td>\n",
       "      <td>[4 out of 5]</td>\n",
       "      <td>[\\nPrince Mugrin Ibn Abdulaziz, An Nuzhah Dist...</td>\n",
       "      <td>24.75476486,46.70609703</td>\n",
       "      <td>[\\n8.6\\n]</td>\n",
       "    </tr>\n",
       "    <tr>\n",
       "      <th>3</th>\n",
       "      <td>https://www.booking.com/hotel/sa/al-fahd-suite...</td>\n",
       "      <td>Carawan Hotel Olaya - فندق كروان العليا</td>\n",
       "      <td>None</td>\n",
       "      <td>[\\nOlaya General St,, العليا, 11534 الرياض, ال...</td>\n",
       "      <td>24.67661883,46.69412881</td>\n",
       "      <td>[\\n7.4\\n]</td>\n",
       "    </tr>\n",
       "    <tr>\n",
       "      <th>4</th>\n",
       "      <td>https://www.booking.com/hotel/sa/myn-lmlq-107....</td>\n",
       "      <td>Almakan Hotel 113</td>\n",
       "      <td>[3 out of 5]</td>\n",
       "      <td>[\\nKing Fahd Road العمرة -الملقا, 13521 الرياض...</td>\n",
       "      <td>24.66230438,46.70117478</td>\n",
       "      <td>[\\n6.6\\n]</td>\n",
       "    </tr>\n",
       "    <tr>\n",
       "      <th>...</th>\n",
       "      <td>...</td>\n",
       "      <td>...</td>\n",
       "      <td>...</td>\n",
       "      <td>...</td>\n",
       "      <td>...</td>\n",
       "      <td>...</td>\n",
       "    </tr>\n",
       "    <tr>\n",
       "      <th>765</th>\n",
       "      <td>https://www.booking.com/hotel/sa/tll-lysmyn.ar...</td>\n",
       "      <td>Jasmine View</td>\n",
       "      <td>None</td>\n",
       "      <td>[\\nAram, 13322 الرياض, المملكة العربية السعودي...</td>\n",
       "      <td>24.80729795,46.65828847</td>\n",
       "      <td>[\\n10\\n]</td>\n",
       "    </tr>\n",
       "    <tr>\n",
       "      <th>766</th>\n",
       "      <td>https://www.booking.com/hotel/sa/dr-mysn-2-lsh...</td>\n",
       "      <td>دار مياسن 2 لشقق المفروشة</td>\n",
       "      <td>None</td>\n",
       "      <td>[\\nشارع الحكم المستنصر باالله, الرياض, المملكة...</td>\n",
       "      <td>24.75431084,46.80357207</td>\n",
       "      <td>null</td>\n",
       "    </tr>\n",
       "    <tr>\n",
       "      <th>767</th>\n",
       "      <td>https://www.booking.com/hotel/sa/shqq-wjym-wms...</td>\n",
       "      <td>شقق وجيم ومسبح صالة آلعاب ( بلياردو - تنس طاول...</td>\n",
       "      <td>None</td>\n",
       "      <td>[\\nالنرجس, 12422 الرياض, المملكة العربية السعو...</td>\n",
       "      <td>24.82885539,46.68850810</td>\n",
       "      <td>null</td>\n",
       "    </tr>\n",
       "    <tr>\n",
       "      <th>768</th>\n",
       "      <td>https://www.booking.com/hotel/sa/elegant-high-...</td>\n",
       "      <td>Elegant high-rise 1-Bdrm apartment w/ smart ac...</td>\n",
       "      <td>None</td>\n",
       "      <td>[\\nطريق الملك فهد Burj Rafal Private 47th floo...</td>\n",
       "      <td>24.79290371,46.63224250</td>\n",
       "      <td>null</td>\n",
       "    </tr>\n",
       "    <tr>\n",
       "      <th>769</th>\n",
       "      <td>https://www.booking.com/hotel/sa/shqq-ldr-y-ld...</td>\n",
       "      <td>شقق الدرعية</td>\n",
       "      <td>None</td>\n",
       "      <td>[\\nالرياض, الرياض, المملكة العربية السعودية\\n]</td>\n",
       "      <td>24.75347780,46.58076789</td>\n",
       "      <td>null</td>\n",
       "    </tr>\n",
       "  </tbody>\n",
       "</table>\n",
       "<p>770 rows × 6 columns</p>\n",
       "</div>\n",
       "      <button class=\"colab-df-convert\" onclick=\"convertToInteractive('df-cc60947f-21d0-4f64-9e39-d54102df4da2')\"\n",
       "              title=\"Convert this dataframe to an interactive table.\"\n",
       "              style=\"display:none;\">\n",
       "        \n",
       "  <svg xmlns=\"http://www.w3.org/2000/svg\" height=\"24px\"viewBox=\"0 0 24 24\"\n",
       "       width=\"24px\">\n",
       "    <path d=\"M0 0h24v24H0V0z\" fill=\"none\"/>\n",
       "    <path d=\"M18.56 5.44l.94 2.06.94-2.06 2.06-.94-2.06-.94-.94-2.06-.94 2.06-2.06.94zm-11 1L8.5 8.5l.94-2.06 2.06-.94-2.06-.94L8.5 2.5l-.94 2.06-2.06.94zm10 10l.94 2.06.94-2.06 2.06-.94-2.06-.94-.94-2.06-.94 2.06-2.06.94z\"/><path d=\"M17.41 7.96l-1.37-1.37c-.4-.4-.92-.59-1.43-.59-.52 0-1.04.2-1.43.59L10.3 9.45l-7.72 7.72c-.78.78-.78 2.05 0 2.83L4 21.41c.39.39.9.59 1.41.59.51 0 1.02-.2 1.41-.59l7.78-7.78 2.81-2.81c.8-.78.8-2.07 0-2.86zM5.41 20L4 18.59l7.72-7.72 1.47 1.35L5.41 20z\"/>\n",
       "  </svg>\n",
       "      </button>\n",
       "      \n",
       "  <style>\n",
       "    .colab-df-container {\n",
       "      display:flex;\n",
       "      flex-wrap:wrap;\n",
       "      gap: 12px;\n",
       "    }\n",
       "\n",
       "    .colab-df-convert {\n",
       "      background-color: #E8F0FE;\n",
       "      border: none;\n",
       "      border-radius: 50%;\n",
       "      cursor: pointer;\n",
       "      display: none;\n",
       "      fill: #1967D2;\n",
       "      height: 32px;\n",
       "      padding: 0 0 0 0;\n",
       "      width: 32px;\n",
       "    }\n",
       "\n",
       "    .colab-df-convert:hover {\n",
       "      background-color: #E2EBFA;\n",
       "      box-shadow: 0px 1px 2px rgba(60, 64, 67, 0.3), 0px 1px 3px 1px rgba(60, 64, 67, 0.15);\n",
       "      fill: #174EA6;\n",
       "    }\n",
       "\n",
       "    [theme=dark] .colab-df-convert {\n",
       "      background-color: #3B4455;\n",
       "      fill: #D2E3FC;\n",
       "    }\n",
       "\n",
       "    [theme=dark] .colab-df-convert:hover {\n",
       "      background-color: #434B5C;\n",
       "      box-shadow: 0px 1px 3px 1px rgba(0, 0, 0, 0.15);\n",
       "      filter: drop-shadow(0px 1px 2px rgba(0, 0, 0, 0.3));\n",
       "      fill: #FFFFFF;\n",
       "    }\n",
       "  </style>\n",
       "\n",
       "      <script>\n",
       "        const buttonEl =\n",
       "          document.querySelector('#df-cc60947f-21d0-4f64-9e39-d54102df4da2 button.colab-df-convert');\n",
       "        buttonEl.style.display =\n",
       "          google.colab.kernel.accessAllowed ? 'block' : 'none';\n",
       "\n",
       "        async function convertToInteractive(key) {\n",
       "          const element = document.querySelector('#df-cc60947f-21d0-4f64-9e39-d54102df4da2');\n",
       "          const dataTable =\n",
       "            await google.colab.kernel.invokeFunction('convertToInteractive',\n",
       "                                                     [key], {});\n",
       "          if (!dataTable) return;\n",
       "\n",
       "          const docLinkHtml = 'Like what you see? Visit the ' +\n",
       "            '<a target=\"_blank\" href=https://colab.research.google.com/notebooks/data_table.ipynb>data table notebook</a>'\n",
       "            + ' to learn more about interactive tables.';\n",
       "          element.innerHTML = '';\n",
       "          dataTable['output_type'] = 'display_data';\n",
       "          await google.colab.output.renderOutput(dataTable, element);\n",
       "          const docLink = document.createElement('div');\n",
       "          docLink.innerHTML = docLinkHtml;\n",
       "          element.appendChild(docLink);\n",
       "        }\n",
       "      </script>\n",
       "    </div>\n",
       "  </div>\n",
       "  "
      ],
      "text/plain": [
       "                                                  URLS  \\\n",
       "0    https://www.booking.com/hotel/sa/golden-dune.a...   \n",
       "1    https://www.booking.com/hotel/sa/fndq-lbyrl-la...   \n",
       "2    https://www.booking.com/hotel/sa/krm-lryd-kare...   \n",
       "3    https://www.booking.com/hotel/sa/al-fahd-suite...   \n",
       "4    https://www.booking.com/hotel/sa/myn-lmlq-107....   \n",
       "..                                                 ...   \n",
       "765  https://www.booking.com/hotel/sa/tll-lysmyn.ar...   \n",
       "766  https://www.booking.com/hotel/sa/dr-mysn-2-lsh...   \n",
       "767  https://www.booking.com/hotel/sa/shqq-wjym-wms...   \n",
       "768  https://www.booking.com/hotel/sa/elegant-high-...   \n",
       "769  https://www.booking.com/hotel/sa/shqq-ldr-y-ld...   \n",
       "\n",
       "                                                 Title          Rate  \\\n",
       "0                               جولدن ديون هوتل & سويت  [3 out of 5]   \n",
       "1                                         فندق لابيرلا  [3 out of 5]   \n",
       "2                  فندق كارم الرياض Karim Hotel Riyadh  [4 out of 5]   \n",
       "3              Carawan Hotel Olaya - فندق كروان العليا          None   \n",
       "4                                    Almakan Hotel 113  [3 out of 5]   \n",
       "..                                                 ...           ...   \n",
       "765                                       Jasmine View          None   \n",
       "766                          دار مياسن 2 لشقق المفروشة          None   \n",
       "767  شقق وجيم ومسبح صالة آلعاب ( بلياردو - تنس طاول...          None   \n",
       "768  Elegant high-rise 1-Bdrm apartment w/ smart ac...          None   \n",
       "769                                        شقق الدرعية          None   \n",
       "\n",
       "                                               Address  \\\n",
       "0    [\\n شارع سعود العثمان سعود سعود العثمان سعود, ...   \n",
       "1    [\\nفندق لابيرلا, 13216 الرياض, المملكة العربية...   \n",
       "2    [\\nPrince Mugrin Ibn Abdulaziz, An Nuzhah Dist...   \n",
       "3    [\\nOlaya General St,, العليا, 11534 الرياض, ال...   \n",
       "4    [\\nKing Fahd Road العمرة -الملقا, 13521 الرياض...   \n",
       "..                                                 ...   \n",
       "765  [\\nAram, 13322 الرياض, المملكة العربية السعودي...   \n",
       "766  [\\nشارع الحكم المستنصر باالله, الرياض, المملكة...   \n",
       "767  [\\nالنرجس, 12422 الرياض, المملكة العربية السعو...   \n",
       "768  [\\nطريق الملك فهد Burj Rafal Private 47th floo...   \n",
       "769     [\\nالرياض, الرياض, المملكة العربية السعودية\\n]   \n",
       "\n",
       "                      latlon      Score  \n",
       "0    24.68825273,46.80286766  [\\n8.1\\n]  \n",
       "1    24.79451790,46.81846073  [\\n7.3\\n]  \n",
       "2    24.75476486,46.70609703  [\\n8.6\\n]  \n",
       "3    24.67661883,46.69412881  [\\n7.4\\n]  \n",
       "4    24.66230438,46.70117478  [\\n6.6\\n]  \n",
       "..                       ...        ...  \n",
       "765  24.80729795,46.65828847   [\\n10\\n]  \n",
       "766  24.75431084,46.80357207       null  \n",
       "767  24.82885539,46.68850810       null  \n",
       "768  24.79290371,46.63224250       null  \n",
       "769  24.75347780,46.58076789       null  \n",
       "\n",
       "[770 rows x 6 columns]"
      ]
     },
     "execution_count": 122,
     "metadata": {},
     "output_type": "execute_result"
    }
   ],
   "source": [
    "test=HotelUnique.dropna(subset=['Score'])\n",
    "test"
   ]
  },
  {
   "cell_type": "code",
   "execution_count": null,
   "metadata": {
    "id": "rJ3XJhd1Jlbu"
   },
   "outputs": [],
   "source": [
    "test=test[test.Score != \"null\"]"
   ]
  },
  {
   "cell_type": "code",
   "execution_count": null,
   "metadata": {
    "colab": {
     "base_uri": "https://localhost:8080/"
    },
    "id": "p6CQ4_XYGDb3",
    "outputId": "af2913d7-12f3-4b11-af1b-88cae54793ba"
   },
   "outputs": [
    {
     "data": {
      "text/plain": [
       "0"
      ]
     },
     "execution_count": 132,
     "metadata": {},
     "output_type": "execute_result"
    }
   ],
   "source": [
    "len(test[test.Score == \"null\"])"
   ]
  },
  {
   "cell_type": "code",
   "execution_count": null,
   "metadata": {
    "id": "V2D-fuMCOM7F"
   },
   "outputs": [],
   "source": [
    "test.reset_index(inplace=True)"
   ]
  },
  {
   "cell_type": "code",
   "execution_count": null,
   "metadata": {
    "id": "kOCWDGolVims"
   },
   "outputs": [],
   "source": [
    "df3=df.merge(test, on='Title', how='left')"
   ]
  },
  {
   "cell_type": "code",
   "execution_count": null,
   "metadata": {
    "id": "TTjOiRyJDpaX"
   },
   "outputs": [],
   "source": [
    "df3.to_excel(\"RiyadhHotelsAfterScraping.xlsx\")"
   ]
  }
 ],
 "metadata": {
  "colab": {
   "provenance": []
  },
  "kernelspec": {
   "display_name": "Python 3 (ipykernel)",
   "language": "python",
   "name": "python3"
  },
  "language_info": {
   "codemirror_mode": {
    "name": "ipython",
    "version": 3
   },
   "file_extension": ".py",
   "mimetype": "text/x-python",
   "name": "python",
   "nbconvert_exporter": "python",
   "pygments_lexer": "ipython3",
   "version": "3.9.12"
  }
 },
 "nbformat": 4,
 "nbformat_minor": 1
}
